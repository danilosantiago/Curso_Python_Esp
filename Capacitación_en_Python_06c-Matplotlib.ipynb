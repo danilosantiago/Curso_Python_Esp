{
 "cells": [
  {
   "cell_type": "markdown",
   "metadata": {
    "collapsed": true
   },
   "source": [
    "<img src=\"images\\crisil_logo.png\" align=\"right\" border=\"0\"><br>\n",
    "\n",
    "\n",
    "# Capacitación en Python 06c - Matplotib\n",
    "\n",
    "En el siguiente cuaderno se presenta una introducción a Matplotlib. Lea atentamente el cuaderno y corra el código en cada celda para visualizar su salida."
   ]
  },
  {
   "cell_type": "markdown",
   "metadata": {},
   "source": [
    "## Matplotlib\n",
    "\n",
    "<img src=\"images\\matplotlib.png\" align=\"center\" width=\"350\" border=\"0\"><br>\n",
    "\n",
    "Es una biblioteca de Python muy popular para la visualizacion de datos. Es particular-\n",
    "mente útil cuando el usuario quiere visualizar patrones en datasets. Un modulo llamado *pyplot* facilita la creación de los gráficos, ya que proporciona funciones para controlar estilos de lınea, propiedades de fuente, ejes de formato, etc. Proporciona varios tipos de gráficos y diagramas para la visualizacion de datos, histogramas, gráficos de error, gráficos de barra, etc. \n",
    "\n",
    "Sirve de base para Seaborn, una biblioteca de visualización de datos de Python que proporciona una interfaz de alto nivel para trazar graficos estadısticos atractivos e informativos. Esta librería amplia aún más las capacidades de Matplotlib, especialmente en el campo de análisis de datos. En el cuaderno que trata sobre exploración de datos se utilizará en varias ocasiones.\n",
    "\n",
    "Este cuaderno se divide en los siguientes temas:\n",
    "\n",
    " 1. Introducción a Matplotlib\n",
    " 2. Tipos de entrada para funciones de trazado\n",
    " 3. La interfaz orientada a objetos y la interfaz PyPlot\n",
    " 4. Introducción a PyPlot\n",
    " 5. Guardando figuras\n",
    "\n",
    "--- \n",
    "## Introducción a Matplotlib\n",
    "\n",
    "La secuencia de importación de *Matplotlib* se presenta a continuación, preste atención al comando mágico que se utiliza específicamente en cuadernos Jupyter."
   ]
  },
  {
   "cell_type": "code",
   "execution_count": null,
   "metadata": {},
   "outputs": [],
   "source": [
    "import numpy as np # para crear ejemplos\n",
    "import pandas as pd # para crear ejemplos\n",
    "\n",
    "import matplotlib.pyplot as plt # por convención el alias siempre el plt, éste equivale a escribir matplotlib.pyplot\n",
    "#IMPORTANTE, este comando mágico permite mostrar los gráficos de mpl en la salida de celdas\n",
    "%matplotlib inline "
   ]
  },
  {
   "cell_type": "markdown",
   "metadata": {
    "lang": "es"
   },
   "source": [
    "### Un ejemplo simple\n",
    "\n",
    "Matplotlib grafica los datos en *Figures* (es decir, ventanas, widgets de Jupyter, etc.), cada uno de las cuales puede contener uno o más *Axes* o ejes (es decir, un área donde los puntos especisifican en términos de coordenadas xy, o theta-r en un diagrama polar, o xyz en un diagrama 3D, etc.). La forma más simple de crear una figura con ejes es usar `.pyplot.subplots.` Luego podemos usar `.Axes.plot` para dibujar algunos datos en los ejes:"
   ]
  },
  {
   "cell_type": "code",
   "execution_count": null,
   "metadata": {},
   "outputs": [],
   "source": [
    "fig, ax = plt.subplots()  # subplots() me devuelve un objeto figura y un objeto de ejes\n",
    "ax.plot([1, 2, 3, 4], [1, 4, 2, 3])  # la función plot es la encargada de graficar"
   ]
  },
  {
   "cell_type": "markdown",
   "metadata": {
    "lang": "es"
   },
   "source": [
    "Muchas otras bibliotecas o lenguajes de trazado no requieren crear explícitamente ejes. Por ejemplo, en MATLAB, uno solo escribe\n",
    "\n",
    "```\n",
    "   plot([1, 2, 3, 4],[1, 4, 2, 3])% gráfico en MATLAB\n",
    "```\n",
    "y obtiene el gráfico deseado.\n",
    "\n",
    "Es posible hacer lo mismo en Matplotlib: para cada método `Axes`, hay una función correspondiente en el módulo `matplotlib.pyplot` que permite graficar utilizando los ejes \"actuales\", por defecto crea esos ejes (y\n",
    "su figura principal) si aún no existen. Entonces el ejemplo anterior se simplificar a:"
   ]
  },
  {
   "cell_type": "code",
   "execution_count": null,
   "metadata": {},
   "outputs": [],
   "source": [
    "plt.plot([1, 2, 3, 4], [1, 4, 2, 3])"
   ]
  },
  {
   "cell_type": "markdown",
   "metadata": {
    "lang": "es"
   },
   "source": [
    "### Partes de una figura\n",
    "\n",
    "En esta sección se profundiza en la \"anatomía\" de una figura en Matplotlib. Se listan las partes más importantes.\n",
    "\n",
    "<img src=\"images\\figures.png\" width='500' align=\"center\"  border=\"0\"><br>\n",
    "\n",
    "\n",
    "#### Figura\n",
    "\n",
    "\n",
    "TODA la figura. La figura realiza un seguimiento de todos los \"Axes\" derivados, una pequeña cantidad de \"Artists\" especiales (títulos, leyendas de figuras, etc.) y el \"lienzo\". (No se preocupe demasiado por el lienzo). Una figura puede contener cualquier número de Axes, pero generalmente tendrá al menos uno.\n",
    "\n",
    "La forma más fácil de crear una nueva figura es con pyplot:"
   ]
  },
  {
   "cell_type": "code",
   "execution_count": null,
   "metadata": {},
   "outputs": [],
   "source": [
    "fig = plt.figure() # una figura vacía sin ejes\n",
    "fig, ax = plt.subplots() # una figura con un solo eje\n",
    "fig, axs = plt.subplots(2, 2) # una figura con una cuadrícula de ejes 2x2"
   ]
  },
  {
   "cell_type": "markdown",
   "metadata": {},
   "source": [
    "Es conveniente crear los ejes junto con la figura, pero es posible agregar ejes más adelante, lo que permite diseños más complejos.\n",
    "\n",
    "#### Axes (ejes)\n",
    "\n",
    "Esto es lo que se piensa como \"el trazado del gráfico\", es la región de la imagen con el espacio de datos. Una figura dada puede contener muchos **Axes**, pero un objeto **Axes** dado solo puede estar en una **Figure**. Los **Axes** contienen dos (o tres en el caso de 3D) objetos **Axis** (eje) que se ocupan de los límites de datos (los límites de datos también se pueden controlar a través de los métodos  `axes.Axes.set_xlim()` y `axes.Axes.set_ylim()`). Cada eje tiene un título (establecido a través del `set_title()`), una etiqueta x (establecida a través del `set_xlabel()`) y una etiqueta y establecido a través del `set_ylabel()`).\n",
    "\n",
    "La clase Axes y sus métodos son el punto de entrada principal para trabajar con la interfaz orientada a objetos.\n",
    "\n",
    "#### Axis (eje)\n",
    "\n",
    "Estos son los objetos con forma de línea numérica. Se encargan de establecer los límites del gráfico y generar los *ticks* (las marcas en el eje) y los *ticklabels* (strings que etiquetan los ticks). La ubicación de las marcas está determinada por un objeto *Locator* y los strings de los *ticklabels* están formateadas por un objeto *Formatter*. La combinación del localizador y formateador correctos proporcionan un control muy fino sobre la ubicación y etiquetas de los ticks.\n",
    "\n",
    "#### Artists\n",
    "\n",
    "Básicamente, todo lo que se puede ver en la figura es un *Artist* (incluso los objetos Figure, Axes y Axis). Esto incluye objetos *Text*, objetos *Line2D*, objetos de *collection*, objetos *Patch* ... (se entiende la idea). Cuando se representa la figura, todos los artists se sienten atraídos por el *lienzo*. La mayoría de los artistas están atados a un objeto Axes; tal *Artist* no puede ser compartido por múltiples ejes, o movido de uno a otro. Recordando lo aprendido en el cuaderno de programación orientada a objetos, la clase Artist es una clase abstracta de la cual la mayoría de las clases derivadas heredan cierto comportamiento.\n",
    "\n",
    "Estos conceptos pueden parecer demasiado teóricos y abstractos, sin embargo, combinado con lo aprendido de programación orientada a objetos debería aportar una ídea general del funcionamiento de la biblioteca.\n",
    "\n",
    "---"
   ]
  },
  {
   "cell_type": "markdown",
   "metadata": {},
   "source": [
    "## Tipos de entrada para funciones de trazado - Advertencia\n",
    "\n",
    "\n",
    "En un principio, todas las funciones de trazado de Matplotlib espereban objetos `numpy.array` o` numpy.ma.masked_array` como argumento de entrada. Los objetos similares, como las estructuras de datos de Pandas y `numpy.matrix` no siempre funcionaban según lo previsto. Si se encuentra en la situación en que un método de trazado no genera un gráfico coherente, es mejor convertir las estructuras de datos a un `numpy.array`.\n",
    "\n",
    "Por ejemplo, para convertir un `pandas.DataFrame`:"
   ]
  },
  {
   "cell_type": "code",
   "execution_count": 4,
   "metadata": {},
   "outputs": [
    {
     "name": "stdout",
     "output_type": "stream",
     "text": [
      "<class 'pandas.core.frame.DataFrame'>\n",
      "<class 'numpy.ndarray'>\n"
     ]
    }
   ],
   "source": [
    "a = pd.DataFrame(np.random.rand (4,5), columns = list('abcde'))\n",
    "print(type(a))\n",
    "a_asarray = a.values \n",
    "print(type(a_asarray))"
   ]
  },
  {
   "cell_type": "markdown",
   "metadata": {},
   "source": [
    "Los desarrolladores de Pandas Y Matplotlib trabajan constantemente en mejorar la interacción entre las líbrerias, por lo que estos imprevistos son cada vez menos frecuentes. En la actualidad, es posible trabajar con DataFrames libremente. Aún así, si en algún momento se encuentra con dificultades al generar sus gráficos, intente transformar sus datos a un 'array' de NumPy para mejorar la compatibilidad entre los objetos que contienen los datos a gráficar y los métodos de trazado."
   ]
  },
  {
   "cell_type": "markdown",
   "metadata": {},
   "source": [
    "---\n",
    "## La interfaz orientada a objetos y la interfaz PyPlot\n",
    "\n",
    "Existen dos formas de usar Matplotlib:\n",
    "\n",
    "- Crear explícitamente figuras y ejes, y llamar a métodos sobre ellos (el \"estilo orientado a objetos (OO)\").\n",
    "- Confiar en pyplot para crear y manejar automáticamente las figuras y los ejes, y usar las funciones de pyplot para generar gráficos.\n",
    "\n",
    "### Estilo orientado a objetos"
   ]
  },
  {
   "cell_type": "code",
   "execution_count": null,
   "metadata": {},
   "outputs": [],
   "source": [
    "x = np.linspace(0, 2, 100)\n",
    "\n",
    "# Aún con el estilo OO se utilia `.pyplot.figure` para crear una figura\n",
    "fig, ax = plt.subplots()  # Creo figura y sus ejes\n",
    "ax.plot(x, x, label='lineal')  # grafico datos con sus ejes\n",
    "ax.plot(x, x**2, label='cuadrática')  # otros datos en los mismos ejes\n",
    "ax.plot(x, x**3, label='cúbica')  # ... un poco más\n",
    "ax.set_xlabel('Eje x')  # Agrego etiqueta al eje x\n",
    "ax.set_ylabel('Eje y')  # Agrego etiqueta al eje y\n",
    "ax.set_title(\"Gráfico simple\")  # Añado título\n",
    "ax.legend()  # leyenda de la figura\n",
    "plt.show()  # este comando no es necesario gracias a \"%matplotlib inline\"\n",
    "            #pero evita mostrar la salida del último objeto devuelta, comentar y correr para ver a que me refiero "
   ]
  },
  {
   "cell_type": "markdown",
   "metadata": {},
   "source": [
    "### Estilo PyPlot\n",
    "\n"
   ]
  },
  {
   "cell_type": "code",
   "execution_count": null,
   "metadata": {},
   "outputs": [],
   "source": [
    "x = np.linspace(0, 2, 100)\n",
    "\n",
    "plt.plot(x, x, label='linear')  # grafica los datos en los ejes implícitos\n",
    "plt.plot(x, x**2, label='quadratic')  # etc\n",
    "plt.plot(x, x**3, label='cubic')\n",
    "plt.xlabel('Eje x')\n",
    "plt.ylabel('Eje y')\n",
    "plt.title(\"Gráfico simple\")\n",
    "plt.legend()\n",
    "plt.show()"
   ]
  },
  {
   "cell_type": "markdown",
   "metadata": {
    "lang": "es"
   },
   "source": [
    "La documentación y ejemplos de Matplotlib usan tanto el estilo OO como pyplot (que son igualmente prácticos), pero es preferible elegir uno de ellos y apegarse a él, en lugar de mezclarlos. En general, para entornos interactivos como los cuadernos Jupyter se recomienda el estilo pyplot. Dentro de lo posible, se intentará utilizar el estilo PyPlot en la capacitación. Aún así, hay gráficos que sólo pueden generarse gracias a la mayor flexibilidad que otorga el estilo orientado a objetos. "
   ]
  },
  {
   "cell_type": "markdown",
   "metadata": {
    "lang": "es"
   },
   "source": [
    "---\n",
    "## Introducción a PyPlot\n",
    "\n",
    "`matplotlib.pyplot` es una colección de funciones que hace que Matplotlib funcione como MATLAB. Cada función de \"trazado\" representa un cambio en una figura: por ejemplo, crea una figura, crea un área de trazado en una figura, traza algunas líneas en un área de trazado, decora el trazado con etiquetas, etc.\n",
    "\n",
    "En la siguiente sección se introducen conceptos básicos de PyPlot a medida que se trabaja con lós métodos de trazado más utilizados. Cada método posee varios argumentos de entrada distintos, y no es posible tratarlos todos. Por esto, para profundizar en cada método se provee una url que conduce a su documentación oficial. \n",
    "\n",
    "### Formato y estilo - plot()\n",
    "\n",
    "`plot()` es un comando versátil y toma un número arbitrario de argumentos. Si proporciona una sola lista o matriz al comando, Matplotlib supone que es una secuencia de valores y genera automáticamente los valores *x* para la figura.\n",
    "\n",
    "Para cada par de argumentos x, y, hay un tercer argumento opcional que es la cadena de formato, que indica el color, el marcador y el estilo de línea del gráfico. Las letras y símbolos de la cadena de formato son los empleados en MATLAB, y concatenan una caracter de color, uno de marcador y una cadenade de estilo de línea. La cadena de formato predeterminada es `'b-'`, que es una línea azul continua.\n",
    "\n",
    "En el siguiente ejemplo se muestran distintos formatos, para revisar todos los formatos existentes referirse a la documentación de `plot()` https://matplotlib.org/3.2.1/api/_as_gen/matplotlib.pyplot.plot.html donde se presentan todos los marcadores, estílos de líneas y colores. \n"
   ]
  },
  {
   "cell_type": "code",
   "execution_count": null,
   "metadata": {},
   "outputs": [],
   "source": [
    "cadenas_formato= ['-ro','--kh','-.*g','>y',':k'] # cadenas de formato\n",
    "ordenadas = [1,2,3,4,5] # ordenada al origen o intersección con eje y \n",
    "combinaciones= zip( ordenadas, cadenas_formato) #zip() genera una lista de tuplas combinando las listas de arriba\n",
    "x=np.arange(0, 10, 0.2) # valores de x\n",
    "\n",
    "for ordenada,cadena in combinaciones: #desempaqueto tuplas en la lista \"combinaciones\"\n",
    "    plt.plot(x , np.vectorize(lambda x: x+ordenada )(x), cadena) #trazo una línea para cada cadena y ordenada\n",
    "\n",
    "plt.axis([0, 4, 2, 8]) #límite de los ejes x e y dispuestos por plt.axis()\n",
    "plt.title('Distintos formatos') # título\n",
    "plt.show()"
   ]
  },
  {
   "cell_type": "markdown",
   "metadata": {
    "lang": "es"
   },
   "source": [
    "### Trazando con palabras clave - scatter()\n",
    "\n",
    "Hay algunos casos en los que se tiene datos en un formato que le permite acceder a variables particulares con strings. Por ejemplo, con `numpy.recarray`, diccionarios o `pandas.DataFrame`.\n",
    "\n",
    "Matplotlib permite proporcionar dicho objeto con el argumento de palabra clave de datos. Si se proporciona,genera gráficos con las cadenas correspondientes a estas variables.\n",
    "\n",
    "El método `plot()` es capaz de generar gráficos de dispersión con puntos de igual color y tamaño. En el siguiente ejemplo se utiliza el método `scatter()`, que genera una gráfico de dispersión con marcadores que pueden variar de tamaño y color. Los primeros dos argumentos corresponden a las posiciôn (x,y) de cada punto. El argumento 'c' indica el color del punto, el argumento 's' el tamaño. El argumento 'data' permite decirle a `scatter()`, cual es el objeto al que debe recurrir con las palabras clave asignadas en los otros argumentos de entrada.\n",
    "\n",
    "La documentación de `scatter()` se encuentra en : https://matplotlib.org/3.2.1/api/_as_gen/matplotlib.pyplot.scatter.html"
   ]
  },
  {
   "cell_type": "code",
   "execution_count": null,
   "metadata": {},
   "outputs": [],
   "source": [
    "np.random.seed(19680801) #fijo semilla para obtener siempre el mismo resultado\n",
    "\n",
    "data = {'a': np.arange(50), #array que va desde 0 a 49 en pasos de 1\n",
    "        'c': np.random.randint(0, 50, 50),#array 50 números enteros aleatorios con valores entre [0,50)\n",
    "        'd': np.random.randn(50)}   # array de 50 números aleatorios que siguen la distribución normal estandar\n",
    "data['b'] = data['a'] + 10 * np.random.randn(50) #una transformación \"lineal\" \n",
    "data['d'] = np.abs(data['d']) * 100 #otra transformación para utilizar como argumento de tamaño\n",
    "\n",
    "plt.scatter('a', 'b', c='c', s='d', data = data)\n",
    "plt.xlabel('Entrada \"a\"')\n",
    "plt.ylabel('Entrada \"b\"')\n",
    "plt.show()"
   ]
  },
  {
   "cell_type": "markdown",
   "metadata": {
    "lang": "es"
   },
   "source": [
    "### Diagramas con variables categóricas - bar() y pie()\n",
    "También es posible crear diagramas usando variables categóricas. Matplotlib permite pasar variables categóricas como argumento de entrada directamente a muchas funciones de trazado. \n",
    "\n",
    "En el siguiente ejemplo se presenta el método `bar()`, para realizar gráficos de barras y el método `pie()` para gráficos de torta. También se vuelven a utilzar `plot()` y `scatter()` para demostrar el uso de variable categóricas.\n",
    "\n",
    "La documentación para los nuevos tipos de gráficos se encuentra en:\n",
    "* https://matplotlib.org/3.2.1/api/_as_gen/matplotlib.pyplot.bar.html\n",
    "* https://matplotlib.org/3.2.1/api/_as_gen/matplotlib.pyplot.pie.html\n",
    " "
   ]
  },
  {
   "cell_type": "code",
   "execution_count": null,
   "metadata": {},
   "outputs": [],
   "source": [
    "nombres = ['Grupo A', 'Grupo B', 'Grupo C']\n",
    "valores = [20, 30, 50]\n",
    "\n",
    "plt.figure(figsize=(10,10)) # puedo fijar tamaños, ancho y alto en pulgadas de subfiguras\n",
    "\n",
    "plt.subplot(221) # los 3 números son nro filas, nro columnas e índice. Es equivalente a (1,3,1)\n",
    "plt.bar(nombres, valores) #gráficos de barras\n",
    "plt.subplot(222)\n",
    "plt.pie(valores, labels = nombres) # en este caso los nombres deben pasarse como el argumento labels\n",
    "plt.axis('equal') # hace que el gráfico de torta sea redondo\n",
    "plt.subplot(223)\n",
    "plt.scatter(valores, nombres)\n",
    "plt.subplot(224)\n",
    "plt.plot(nombres, valores) #plot() con variables categóricas\n",
    "plt.suptitle('Diagrama con variables categóricas') # titulo superior\n",
    "plt.show()"
   ]
  },
  {
   "cell_type": "markdown",
   "metadata": {
    "lang": "es"
   },
   "source": [
    "Como es evidente, en el anterior ejemplo se usa el método `subplot()`. Es fácil organizar varios gráficos creando una figura que contenga varias subfiguras dentro.\n",
    "\n",
    "### Trabajando con múltiples figuras y ejes - gráficos con escala logarítmica\n",
    "\n",
    "Pyplot funciona bajo el concepto de la \"figura actual\" y \"ejes actuales\". Todos los comandos de trazado se aplican a los ejes actuales. La función `gca()` devuelve los ejes actuales (una instancia de `matplotlib.axes.Axes`), y `gcf()` devuelve la figura actual (instancia de `matplotlib.figure.Figure`). Normalmente, no tiene que preocuparse por esto, porque todo se soluciona detrás de escena. Si bien en el anterior ejemplo se trabaja con `subplots()`, esto se repite para dejar en claro su funcionamiento.\n",
    "\n",
    "Se aprovecha también para introducir los gráficos de escala logarítmica. La documentación asociada es la siguiente:\n",
    "\n",
    "* https://matplotlib.org/3.2.1/api/_as_gen/matplotlib.pyplot.subplot.html\n",
    "* https://matplotlib.org/3.2.1/api/_as_gen/matplotlib.pyplot.semilogy.html\n",
    "* https://matplotlib.org/3.2.1/api/_as_gen/matplotlib.pyplot.semilogx.html\n",
    "* https://matplotlib.org/3.2.1/api/_as_gen/matplotlib.pyplot.loglog.html"
   ]
  },
  {
   "cell_type": "code",
   "execution_count": null,
   "metadata": {},
   "outputs": [],
   "source": [
    "# Datos en x\n",
    "t = np.arange(0, 20.0, 0.01)\n",
    "\n",
    "# Creo figura\n",
    "plt.figure(figsize=(10,10))\n",
    "\n",
    "# eje y logarítmico en 1er subfigura\n",
    "plt.subplot(232) # dos filas, 3 columnas, ubico este gráfico en el 2do lugar (centro superior)\n",
    "plt.semilogy(t, np.exp(-t / 5.0)) # utilizo una función de arbitraria, argumentos son x e y\n",
    "plt.grid() # agrego grilla\n",
    "\n",
    "# eje x logarítmico en 2da subfigura\n",
    "plt.subplot(234) # dos filas, 3 columnas, ubico este gráfico en el 4to lugar (izquierda inferior)\n",
    "plt.semilogx(t, np.sin(2 * np.pi * t)) # utilizo una función de arbitraria, argumentos son x e y\n",
    "plt.grid()\n",
    "\n",
    "# ambos ejes logarítmicos en 3er subfigura\n",
    "plt.subplot(236) # dos filas, 3 columnas, ubico este gráfico en el 6to lugar (derecha inferior)\n",
    "plt.loglog(t, 20 * np.exp(-t / 10.0), basex=2) #3er argumento me define la base del logarítmo\n",
    "#plt.grid() sin grilla\n",
    "\n",
    "plt.show()# sólo para evitar salida del último objeto"
   ]
  },
  {
   "cell_type": "markdown",
   "metadata": {},
   "source": [
    "### Gráficos interactivos - hist()\n",
    "\n",
    "Es posible hacer que las figuras de un cuaderno se vuelvan interactivas, de manera de poder analizar en detalle los gráficos creados en Matplotlib. Para ello, es necesario cambiar el *backend* sobre el que trabaja la librería. Sin entrar en detalles, esto es posible mediante el comando mágico `%matplotlib notebook`.\n",
    "\n",
    "Esta función del cuaderno permite moverse dentro de la figura, hacer zoom e inclusive descargar el gráfico (la opción de descarga no es amigable con todos los navegadores). Para volver al estado anterior del cuaderno, se vuelve a ingresar `%matplotlib inline`. Si se quiere desactivar el estado interactivo para una figura en particular, es posible mediante un botón de \"apagado\".\n",
    "\n",
    "En el ejemplo que se presenta a continuación, además de volver interactiva la salida de Matplotlib en la celda, también se presenta el método `hist().`. Si el argumento `bins` es un número entero, define la cantidad de segmentos en los que se divide el rango de numérico de valores obtenidos. Por defecto, el argumento `Density` es `False`. Si lo cambio a `True`, el histograma devuelve las cuentas normalizadas a una densidad de probabilidad.\n",
    "\n",
    "https://matplotlib.org/3.2.1/api/_as_gen/matplotlib.axes.Axes.hist.html\n"
   ]
  },
  {
   "cell_type": "code",
   "execution_count": null,
   "metadata": {},
   "outputs": [],
   "source": [
    "#%matplotlib notebook\n",
    "%matplotlib inline\n",
    "x = np.random.randn(100) #aumente el número para ver como se asemeja a la distribución normal estandarizada\n",
    "plt.hist(x, bins=40, density=True) # bins \n",
    "plt.show()"
   ]
  },
  {
   "cell_type": "markdown",
   "metadata": {},
   "source": [
    "---\n",
    "## Guardando figuras - Comentarios finales\n",
    "\n",
    "Una de las herramientas de Matplotlib permite guardar las figuras generadas. Mediante el método `savefig()` se guarda todo tipo de figura,y se permite al usuario a acceder a la misma cuando desee. Si el formato de exportación no es especificado, el mismo depende del *backend* en uso. Para revisar los argumentos de entrada disponible, dirigirse a la siguiente dirección web.\n",
    "\n",
    "https://matplotlib.org/3.2.1/api/_as_gen/matplotlib.pyplot.savefig.html\n",
    "\n",
    "Como Matplotlib es tan amplia, en este cuaderno sólo se introduce superficialmente su contenido. Para profundizar sobre los temas presentados y muchos otros, dirigirse a la documentación oficial.\n",
    "\n",
    "https://matplotlib.org/contents.html\n",
    "\n",
    "A continuación se presenta un ejemplo en el que sólo debe comprender las últimas líneas, el resto del código se presenta para demostrar hasta que punto es posible llegar con unas líneas de python y la visualización de Matplotlib. Luego de correr la siguiente celda (puede tardar unos segundos), busque en su directorio la imagen exportada."
   ]
  },
  {
   "cell_type": "code",
   "execution_count": null,
   "metadata": {},
   "outputs": [],
   "source": [
    "#por si estaba desactivado, aprovecho el modo interactivo para interactuar con la imagen generada\n",
    "%matplotlib notebook \n",
    "import matplotlib \n",
    "from matplotlib import colors\n",
    "\n",
    "def mandelbrot_set(xmin, xmax, ymin, ymax, xn, yn, maxiter, horizon=2.0):\n",
    "    X = np.linspace(xmin, xmax, xn, dtype=np.float64) #x\n",
    "    Y = np.linspace(ymin, ymax, yn, dtype=np.float64) #y\n",
    "    C = X + Y[:, None]*1j #constance compleja\n",
    "    N = np.zeros(C.shape, dtype=int) #creo arrays N y Z para alojar memoria y mejorar velocidad de computo\n",
    "    Z = np.zeros(C.shape, np.complex64)  \n",
    "    for n in range(maxiter): #itero sobre el conjunto de mandelbrot para cada punto del plano generado\n",
    "        I = np.less(abs(Z), horizon) #reviso si el módulo de Z es menor que el horizonte\n",
    "        N[I] = n\n",
    "        Z[I] = Z[I]**2 + C[I]\n",
    "    N[N == maxiter-1] = 0\n",
    "    return Z, N\n",
    "\n",
    "xmin, xmax, xn = -2.25, +0.75, int(3840/2)\n",
    "ymin, ymax, yn = -1.25, +1.25, int(2160/2)\n",
    "maxiter = 200\n",
    "horizon = 2.0 ** 40\n",
    "log_horizon = np.log(np.log(horizon))/np.log(2)\n",
    "Z, N = mandelbrot_set(xmin, xmax, ymin, ymax, xn, yn, maxiter, horizon)\n",
    "\n",
    "with np.errstate(invalid='ignore'):\n",
    "    M = np.nan_to_num(N + 1 - np.log(np.log(abs(Z)))/np.log(2) + log_horizon)\n",
    "    dpi = 72 #puntos por pulgada\n",
    "    width = 10 \n",
    "    height = 10*yn/xn\n",
    "    fig = plt.figure(figsize=(width, height), dpi=dpi)\n",
    "    ax = fig.add_axes([0.0, 0.0, 1.0, 1.0], frameon=False, aspect=1)\n",
    "\n",
    "    # Rendering\n",
    "    light = colors.LightSource(azdeg=315, altdeg=10) #iluminación\n",
    "    M = light.shade(M, cmap=plt.cm.hot, vert_exag=1.5, #sombreado\n",
    "                    norm=colors.PowerNorm(0.3), blend_mode='hsv') #blending \n",
    "    plt.imshow(M, extent=[xmin, xmax, ymin, ymax], interpolation=\"bessel\") #interpolacion\n",
    "    ax.set_xticks([])\n",
    "    ax.set_yticks([])\n",
    "    plt.show()\n",
    "    \n",
    "############################################\n",
    "######### Esto es lo importante! ###########\n",
    "############################################\n",
    "\n",
    "plt.savefig('mandelbrot', format='png') #1er argumento el nombre de la image,\n",
    "                                        #en este caso se elige 'png' como formato de exportación\n",
    "\n"
   ]
  }
 ],
 "metadata": {
  "kernelspec": {
   "display_name": "Python 3",
   "language": "python",
   "name": "python3"
  },
  "language_info": {
   "codemirror_mode": {
    "name": "ipython",
    "version": 3
   },
   "file_extension": ".py",
   "mimetype": "text/x-python",
   "name": "python",
   "nbconvert_exporter": "python",
   "pygments_lexer": "ipython3",
   "version": "3.7.6"
  },
  "latex_envs": {
   "LaTeX_envs_menu_present": true,
   "autoclose": false,
   "autocomplete": true,
   "bibliofile": "biblio.bib",
   "cite_by": "apalike",
   "current_citInitial": 1,
   "eqLabelWithNumbers": true,
   "eqNumInitial": 1,
   "hotkeys": {
    "equation": "Ctrl-E",
    "itemize": "Ctrl-I"
   },
   "labels_anchors": false,
   "latex_user_defs": false,
   "report_style_numbering": false,
   "user_envs_cfg": false
  },
  "nbTranslate": {
   "displayLangs": [
    "es"
   ],
   "hotkey": "alt-t",
   "langInMainMenu": true,
   "sourceLang": "en",
   "targetLang": "es",
   "useGoogleTranslate": true
  }
 },
 "nbformat": 4,
 "nbformat_minor": 2
}
