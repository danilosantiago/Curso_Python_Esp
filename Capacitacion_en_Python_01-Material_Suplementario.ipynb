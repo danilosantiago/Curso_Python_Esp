{
 "cells": [
  {
   "cell_type": "markdown",
   "metadata": {},
   "source": [
    "<img src=\"images\\crisil_logo.png\" align=\"right\" border=\"0\"><br>\n",
    "\n",
    "\n",
    "# Capacitación en Python 01 - Material suplementario\n",
    "\n",
    "\n",
    "\n",
    "En este cuaderno se presenta material suplementario para el cuaderno \"Capacitación en Python 01 - Números y strings\". Lea atentamente el cuaderno y corra el código en cada celda para visualizar su salida."
   ]
  },
  {
   "cell_type": "markdown",
   "metadata": {},
   "source": [
    "---\n",
    "<h2> Funciones útiles para trabajar con números"
   ]
  },
  {
   "cell_type": "markdown",
   "metadata": {
    "lang": "es"
   },
   "source": [
    "### Hexadecimal\n",
    "\n",
    "Usando la función <code>hex()</code> se puede convertir números a un formato [hexadecimal](https://en.wikipedia.org/wiki/Hexadecimal)."
   ]
  },
  {
   "cell_type": "code",
   "execution_count": null,
   "metadata": {},
   "outputs": [],
   "source": [
    "hex(246)"
   ]
  },
  {
   "cell_type": "code",
   "execution_count": null,
   "metadata": {},
   "outputs": [],
   "source": [
    "hex(512)"
   ]
  },
  {
   "cell_type": "markdown",
   "metadata": {
    "lang": "es"
   },
   "source": [
    "### Binario\n",
    "Usando la función <code>bin()</code> se convierten números a su formato [binario](https://en.wikipedia.org/wiki/Binary_number)."
   ]
  },
  {
   "cell_type": "code",
   "execution_count": null,
   "metadata": {},
   "outputs": [],
   "source": [
    "bin(1234)"
   ]
  },
  {
   "cell_type": "code",
   "execution_count": null,
   "metadata": {},
   "outputs": [],
   "source": [
    "bin(128)"
   ]
  },
  {
   "cell_type": "code",
   "execution_count": null,
   "metadata": {},
   "outputs": [],
   "source": [
    "bin(512)"
   ]
  },
  {
   "cell_type": "markdown",
   "metadata": {
    "lang": "es"
   },
   "source": [
    "### Exponenciales\n",
    "La función <code>pow()</code> toma dos argumentos, equivalentes a $x^y$. Con tres argumentos es equivalente a ```(x**y)%z```. Se recomienda su uso en lugar de ```**``` para enteros grandes."
   ]
  },
  {
   "cell_type": "code",
   "execution_count": null,
   "metadata": {},
   "outputs": [],
   "source": [
    "pow(3,4)"
   ]
  },
  {
   "cell_type": "code",
   "execution_count": null,
   "metadata": {},
   "outputs": [],
   "source": [
    "pow(3,4,5)"
   ]
  },
  {
   "cell_type": "markdown",
   "metadata": {
    "lang": "es"
   },
   "source": [
    "### Valor absoluto\n",
    "La función <code>abs()</code> devuelve el valor absoluto de un número. El argumento puede ser un número entero o un número de punto flotante. Si el argumento es un número complejo, se devuelve su magnitud."
   ]
  },
  {
   "cell_type": "code",
   "execution_count": null,
   "metadata": {},
   "outputs": [],
   "source": [
    "abs(-3.14)"
   ]
  },
  {
   "cell_type": "code",
   "execution_count": null,
   "metadata": {},
   "outputs": [],
   "source": [
    "abs(3)"
   ]
  },
  {
   "cell_type": "markdown",
   "metadata": {
    "lang": "es"
   },
   "source": [
    "### Round\n",
    "La función <code>round()</code> redondea un número a una precisión dada en dígitos decimales (por defecto 0 dígitos)."
   ]
  },
  {
   "cell_type": "code",
   "execution_count": null,
   "metadata": {},
   "outputs": [],
   "source": [
    "round(3,2)"
   ]
  },
  {
   "cell_type": "code",
   "execution_count": null,
   "metadata": {},
   "outputs": [],
   "source": [
    "round(395,-2)"
   ]
  },
  {
   "cell_type": "code",
   "execution_count": null,
   "metadata": {},
   "outputs": [],
   "source": [
    "round(3.1415926535,2)"
   ]
  },
  {
   "cell_type": "markdown",
   "metadata": {
    "lang": "es"
   },
   "source": [
    "---\n",
    "\n",
    "## Función str() y formateo de strings\n",
    "\n",
    "### Función Str()\n",
    "Devuelve una versión de cadena de caracteres del objeto. Si no se proporciona el objeto, devuelve una cadena vacía. De lo contrario, el comportamiento de ```str()``` depende de si se proporciona un tipo de codificación o un argumento para manejar errores.\n",
    "\n",
    "El siguiente ejemplo demuestra su uso combinado con la función ```type()```."
   ]
  },
  {
   "cell_type": "code",
   "execution_count": null,
   "metadata": {},
   "outputs": [],
   "source": [
    "a = 1\n",
    "type(a)"
   ]
  },
  {
   "cell_type": "code",
   "execution_count": null,
   "metadata": {},
   "outputs": [],
   "source": [
    "a = str(a)\n",
    "type(a)"
   ]
  },
  {
   "cell_type": "code",
   "execution_count": null,
   "metadata": {},
   "outputs": [],
   "source": [
    "print(a)"
   ]
  },
  {
   "cell_type": "markdown",
   "metadata": {
    "lang": "es"
   },
   "source": [
    "### Formateando strings\n",
    "\n",
    "Las opciones de formateo de cadena permiten insertar elementos en un string en lugar de intentar encadenarlos mediante comas o concatenación. Como ejemplo simple considere:\n",
    "\n",
    "    jugador = 'Tomás'\n",
    "    puntos = 33\n",
    "    \n",
    "    'Anoche', '+ el jugador +' anotó '+ str(puntos) +'puntos.' #concatenación\n",
    "    \n",
    "    f'Anoche, el {jugador} anotó {puntos} puntos.' #formateo de cadena\n",
    "\n",
    "\n",
    "Hay tres formas de realizar el formateo de strings.\n",
    "* El método más antiguo involucra marcadores de posición (placeholders) que usan el símbolo `%`.\n",
    "* Una técnica mejorada utiliza el método de strings `.format()`.\n",
    "* El método más nuevo, introducido con Python 3.6, utiliza literales de string formateados, llamados *f-strings*.\n",
    "\n",
    "Como es probable que encuentre las tres versiones en el código de otra persona, se describe cada una de ellas aquí."
   ]
  },
  {
   "cell_type": "markdown",
   "metadata": {
    "lang": "es"
   },
   "source": [
    "### Formato con marcadores de posición\n",
    "Una opción para insertar strings en declaraciones de impresión es <code>%s</code>. El símbolo `%` se conoce como un \"operador de formateo de cadenas\"."
   ]
  },
  {
   "cell_type": "code",
   "execution_count": null,
   "metadata": {},
   "outputs": [],
   "source": [
    "print(\"Voy a insertar %s aquí.\" %'algo')"
   ]
  },
  {
   "cell_type": "markdown",
   "metadata": {
    "lang": "es"
   },
   "source": [
    "Se pueden pasar varios elementos colocándolos entre paréntes después del operador `%`."
   ]
  },
  {
   "cell_type": "code",
   "execution_count": null,
   "metadata": {},
   "outputs": [],
   "source": [
    "print(\"Voy a insertar esto %s, y este texto %s.\" %('aquí','acá'))"
   ]
  },
  {
   "cell_type": "markdown",
   "metadata": {
    "lang": "es"
   },
   "source": [
    "También se aceptan nombres de variables:"
   ]
  },
  {
   "cell_type": "code",
   "execution_count": null,
   "metadata": {},
   "outputs": [],
   "source": [
    "x, y = 'algo', 'mas'\n",
    "print(\"Voy a insertar %s aquí, y %s texto acá.\"%(x,y))"
   ]
  },
  {
   "cell_type": "markdown",
   "metadata": {
    "lang": "es"
   },
   "source": [
    "### Métodos de conversión de formato.\n",
    "Cabe señalar que los métodos <code>%s</code> y <code>%r</code> convierten cualquier objeto de Python en una cadena de caracteres utilizando dos métodos separados: `str()` y `repr()`. Los métodos `%r` y `repr()` entregan la **representación de cadena de caracteres** del objeto, incluyendo comillas y cualquier carácter de escape (como las comillas)."
   ]
  },
  {
   "cell_type": "code",
   "execution_count": null,
   "metadata": {},
   "outputs": [],
   "source": [
    "print('Dijo que su nombre es %s.' %'Alfredo')\n",
    "print('Dijo que su nombre es %r.' %'Alfredo')"
   ]
  },
  {
   "cell_type": "markdown",
   "metadata": {
    "lang": "es"
   },
   "source": [
    "Otro método `\\t` inserta una tabulación en una cadena."
   ]
  },
  {
   "cell_type": "code",
   "execution_count": null,
   "metadata": {},
   "outputs": [],
   "source": [
    "print('Atrapé un pez %s.' %'así \\tde grande')\n",
    "print('Atrapé un pez %r.' %'así \\tde grande')"
   ]
  },
  {
   "cell_type": "markdown",
   "metadata": {
    "lang": "es"
   },
   "source": [
    "El operador `%s` convierte lo que ve en una cadena, incluidos números enteros y de punto flotante. El operador `%d` convierte los números a enteros, sin redondear."
   ]
  },
  {
   "cell_type": "code",
   "execution_count": null,
   "metadata": {},
   "outputs": [],
   "source": [
    "print('Escribí %s programas hoy.' %3.75)\n",
    "print('Escribí %d programas hoy.' %3.75)   "
   ]
  },
  {
   "cell_type": "markdown",
   "metadata": {
    "lang": "es"
   },
   "source": [
    "### Padding y precisión de números de punto flotante\n",
    "Los números de punto flotante usan el formato <code>%5.2f</code>. Aquí,```5``` sería el número mínimo de caracteres que debe contener la cadena; éstos se rellenan con espacios en blanco si el número completo no tiene tantos dígitos. Junto a esto, <code>.2f</code> representa cuántos números mostrar más allá del punto decimal. Veamos algunos ejemplos:"
   ]
  },
  {
   "cell_type": "code",
   "execution_count": null,
   "metadata": {},
   "outputs": [],
   "source": [
    "print('Número de punto flotante: %5.2f' %(13.144))"
   ]
  },
  {
   "cell_type": "code",
   "execution_count": null,
   "metadata": {},
   "outputs": [],
   "source": [
    "print('Número de punto flotante: %1.0f' %(13.144))"
   ]
  },
  {
   "cell_type": "code",
   "execution_count": null,
   "metadata": {},
   "outputs": [],
   "source": [
    "print('Número de punto flotante: %1.5f' %(13.144))"
   ]
  },
  {
   "cell_type": "code",
   "execution_count": null,
   "metadata": {},
   "outputs": [],
   "source": [
    "print('Número de punto flotante: %10.2f' %(13.144))"
   ]
  },
  {
   "cell_type": "code",
   "execution_count": null,
   "metadata": {},
   "outputs": [],
   "source": [
    "print('Número de punto flotante: %25.2f' %(13.144))"
   ]
  },
  {
   "cell_type": "markdown",
   "metadata": {
    "lang": "es"
   },
   "source": [
    "Para obtener más información sobre el formateo de strings con marcadores de posición, visite https://docs.python.org/3/library/stdtypes.html#old-string-formatting"
   ]
  },
  {
   "cell_type": "markdown",
   "metadata": {
    "lang": "es"
   },
   "source": [
    "### Formato múltiple\n",
    "Nada prohíbe usar más de una herramienta de conversión en la misma declaración de impresión:"
   ]
  },
  {
   "cell_type": "code",
   "execution_count": null,
   "metadata": {},
   "outputs": [],
   "source": [
    "print('Primero: %s, Segundo: %5.2f, Tercero: %r' %('Hola!',3.1415,'Adios!'))"
   ]
  },
  {
   "cell_type": "markdown",
   "metadata": {
    "lang": "es"
   },
   "source": [
    "### Formateo con el método `.format()`\n",
    "Una mejor manera de formatear objetos en strings para imprimirlos es con el método `.format()`. La sintaxis es:\n",
    "\n",
    "    'Aquí {} luego también {}'.format('esto','aquello')\n",
    "    \n",
    "Por ejemplo:"
   ]
  },
  {
   "cell_type": "code",
   "execution_count": null,
   "metadata": {},
   "outputs": [],
   "source": [
    "print('Esto es una cadena con algo {}'.format('insertado'))"
   ]
  },
  {
   "cell_type": "markdown",
   "metadata": {
    "lang": "es"
   },
   "source": [
    "### El método .format() tiene varias ventajas sobre el método de marcador de posición %s:"
   ]
  },
  {
   "cell_type": "markdown",
   "metadata": {
    "lang": "es"
   },
   "source": [
    "#### 1. Los objetos insertados se pueden invocar por posición de índice:"
   ]
  },
  {
   "cell_type": "code",
   "execution_count": null,
   "metadata": {},
   "outputs": [],
   "source": [
    "print('El {0} {2} {1}.'.format('ágil','marrón','zorro'))"
   ]
  },
  {
   "cell_type": "markdown",
   "metadata": {
    "lang": "es"
   },
   "source": [
    "#### 2. A los objetos insertados se les pueden asignar palabras clave:"
   ]
  },
  {
   "cell_type": "code",
   "execution_count": null,
   "metadata": {},
   "outputs": [],
   "source": [
    "print('Primer Objeto: {a}, Segundo Objeto: {b}, Tercer Objeto: {c}'.format(a=1,b='Dos',c=12.3))"
   ]
  },
  {
   "cell_type": "markdown",
   "metadata": {
    "lang": "es"
   },
   "source": [
    "#### 3. Es posible reutilizar objetos insertados:"
   ]
  },
  {
   "cell_type": "code",
   "execution_count": null,
   "metadata": {},
   "outputs": [],
   "source": [
    "print('Una %s ahorrada es una %s ganada.' %('moneda','moneda'))\n",
    "# vs.\n",
    "print('Una {m} ahorrada es una {m} ganada.'.format(m='moneda'))"
   ]
  },
  {
   "cell_type": "markdown",
   "metadata": {
    "lang": "es"
   },
   "source": [
    "### Alineación, relleno y precisión con `.format()`\n",
    "Dentro de las llaves se definen longitudes de campo, alineaciones izquierda/derecha, parámetros de redondeo y más"
   ]
  },
  {
   "cell_type": "code",
   "execution_count": null,
   "metadata": {},
   "outputs": [],
   "source": [
    "print('{0:8} | {1:9}'.format('Fruta', 'Cantidad'))\n",
    "print('{0:8} | {1:9}'.format('Manzanas', 3.))\n",
    "print('{0:8} | {1:9}'.format('Naranjas', 10))"
   ]
  },
  {
   "cell_type": "markdown",
   "metadata": {
    "lang": "es"
   },
   "source": [
    "Por defecto, `.format()` alinea el texto a la izquierda, los números a la derecha. Puede pasar un `<`,`^`, or `>` opcional para establecer una alineación izquierda, centro o derecha:"
   ]
  },
  {
   "cell_type": "code",
   "execution_count": null,
   "metadata": {},
   "outputs": [],
   "source": [
    "print('{0:<12} | {1:^12} | {2:>12}'.format('Izquierda','Centro','Derecha'))\n",
    "print('{0:<12} | {1:^12} | {2:>12}'.format(11,22,33))"
   ]
  },
  {
   "cell_type": "markdown",
   "metadata": {
    "lang": "es"
   },
   "source": [
    "Es posible preceder al operador de alineación con un carácter de relleno"
   ]
  },
  {
   "cell_type": "code",
   "execution_count": null,
   "metadata": {},
   "outputs": [],
   "source": [
    "print('{0:=<12} | {1:-^12} | {2:.>12}'.format('Izquierda','Centro','Derecha'))\n",
    "print('{0:=<12} | {1:-^12} | {2:.>12}'.format(11,22,33))"
   ]
  },
  {
   "cell_type": "markdown",
   "metadata": {
    "lang": "es"
   },
   "source": [
    "Las longitudes de campo y la precisión de los números de punto florante se manejan de manera similar a los marcadores de posición. Las siguientes dos declaraciones impresas son equivalentes:"
   ]
  },
  {
   "cell_type": "code",
   "execution_count": null,
   "metadata": {},
   "outputs": [],
   "source": [
    "print('Este es mi número de 10 caracteres y dos decimales:%10.2f' %13.579)\n",
    "print('Éste es mi número de 10 caracteres y dos decimales:{0:10.2f}'.format(13.579))"
   ]
  },
  {
   "cell_type": "markdown",
   "metadata": {
    "lang": "es"
   },
   "source": [
    "Tenga en cuenta que hay 5 espacios después de los dos puntos, y 5 caracteres ocupados por 13.58, para un total de diez caracteres.\n",
    "\n",
    "Para obtener más información sobre el método de strings `.format()`, visite https://docs.python.org/3/library/string.html#formatstrings"
   ]
  },
  {
   "cell_type": "markdown",
   "metadata": {
    "lang": "es"
   },
   "source": [
    "### Literales de cadenas formateadas o \"f-strings\""
   ]
  },
  {
   "cell_type": "markdown",
   "metadata": {
    "lang": "es"
   },
   "source": [
    "Introducido en Python 3.6, loss f-strings ofrecen varios beneficios sobre el antiguo método de cadena de caracteres `.format()` descrito anteriormente. Por un lado, puede traer variables externas inmediatamente a la cadena en lugar de pasarlas como argumentos a través de `.format(var)`."
   ]
  },
  {
   "cell_type": "code",
   "execution_count": null,
   "metadata": {},
   "outputs": [],
   "source": [
    "nombre = 'Alfredo'\n",
    "\n",
    "print(f\"Dijo que su nombre es {nombre}.\")"
   ]
  },
  {
   "cell_type": "markdown",
   "metadata": {
    "lang": "es"
   },
   "source": [
    "#### El formato de punto flotante sigue al \"result: {valor:{ancho}.{precision}}\""
   ]
  },
  {
   "cell_type": "markdown",
   "metadata": {
    "lang": "es"
   },
   "source": [
    "Donde con el método `.format()` se utiliza `{valor:10.4f}`, con f-strings esto se escribe `{valor:{10}.{6}}`"
   ]
  },
  {
   "cell_type": "code",
   "execution_count": null,
   "metadata": {},
   "outputs": [],
   "source": [
    "numero = 23.45678\n",
    "print(\"Mi numero de 10 caracteres y 4 decimales es:{0:10.4f}\".format(numero))\n",
    "print(f\"Mi numero de 10 caracteres y 4 decimales es:{numero:{10}.{6}}\")"
   ]
  },
  {
   "cell_type": "markdown",
   "metadata": {
    "lang": "es"
   },
   "source": [
    "Con los f-strings, *precisión* se refiere al número total de dígitos, no solo a los que siguen al decimal. Esto encaja más estrechamente con la notación científica y el análisis estadístico. Desafortunadamente, los f-strings no se rellenan a la derecha del decimal, incluso si la precisión lo permite:"
   ]
  },
  {
   "cell_type": "code",
   "execution_count": null,
   "metadata": {},
   "outputs": [],
   "source": [
    "numero = 23.45\n",
    "print(\"Mi numero de 10 caracteres y 4 decimales es:{0:10.4f}\".format(numero))\n",
    "print(f\"Mi numero de 10 caracteres y 4 decimales es:{numero:{10}.{6}}\")"
   ]
  },
  {
   "cell_type": "markdown",
   "metadata": {
    "lang": "es"
   },
   "source": [
    "Si esto es importante, siempre se puede usar la sintaxis del método `.format()` dentro de un f-string:"
   ]
  },
  {
   "cell_type": "code",
   "execution_count": null,
   "metadata": {},
   "outputs": [],
   "source": [
    "numero = 23.45\n",
    "print(\"Mi numero de 10 caracteres y 4 decimales:{0:10.4f}\".format(numero))\n",
    "print(f\"Mi numero de 10 caracteres y 4 decimales:{numero:10.4f}\")"
   ]
  },
  {
   "cell_type": "markdown",
   "metadata": {
    "lang": "es"
   },
   "source": [
    "Para obtener más información sobre f-strings, visite https://docs.python.org/3/reference/lexical_analysis.html#f-strings"
   ]
  },
  {
   "cell_type": "markdown",
   "metadata": {
    "lang": "es"
   },
   "source": [
    "---\n",
    "\n",
    "## Métodos avanzados para strings\n",
    "\n",
    "Los strings tienen una variedad de métodos que podemos usar para ahorrar tiempo y agregar funcionalidad. "
   ]
  },
  {
   "cell_type": "code",
   "execution_count": null,
   "metadata": {},
   "outputs": [],
   "source": [
    "s = 'hola mundo'"
   ]
  },
  {
   "cell_type": "markdown",
   "metadata": {
    "lang": "es"
   },
   "source": [
    "### Cambio de mayúsculas y minúsculas\n",
    "Podemos usar métodos para poner en mayúscula la primera palabra de una cadena o la cadena completa."
   ]
  },
  {
   "cell_type": "code",
   "execution_count": null,
   "metadata": {},
   "outputs": [],
   "source": [
    "# Primera letra en mayúscula\n",
    "s.capitalize()"
   ]
  },
  {
   "cell_type": "code",
   "execution_count": null,
   "metadata": {},
   "outputs": [],
   "source": [
    "#todo el string\n",
    "s.upper()"
   ]
  },
  {
   "cell_type": "code",
   "execution_count": null,
   "metadata": {},
   "outputs": [],
   "source": [
    "#todo el string en minúscula\n",
    "s.lower()"
   ]
  },
  {
   "cell_type": "markdown",
   "metadata": {
    "lang": "es"
   },
   "source": [
    "Recuerden que los strings son inmutables. Ninguno de los métodos anteriores cambia la cadena de caracteres, solo devuelve copias modificadas de la cadena original."
   ]
  },
  {
   "cell_type": "code",
   "execution_count": null,
   "metadata": {},
   "outputs": [],
   "source": [
    "s"
   ]
  },
  {
   "cell_type": "markdown",
   "metadata": {
    "lang": "es"
   },
   "source": [
    "Para cambiar se requiere reasigar:"
   ]
  },
  {
   "cell_type": "code",
   "execution_count": null,
   "metadata": {},
   "outputs": [],
   "source": [
    "s = s.upper()\n",
    "s"
   ]
  },
  {
   "cell_type": "code",
   "execution_count": null,
   "metadata": {},
   "outputs": [],
   "source": [
    "s = s.lower()\n",
    "s"
   ]
  },
  {
   "cell_type": "markdown",
   "metadata": {
    "lang": "es"
   },
   "source": [
    "### Ubicación y recuento"
   ]
  },
  {
   "cell_type": "code",
   "execution_count": null,
   "metadata": {},
   "outputs": [],
   "source": [
    "s.count('o') # devuelve el número de veces que se repite"
   ]
  },
  {
   "cell_type": "code",
   "execution_count": null,
   "metadata": {},
   "outputs": [],
   "source": [
    "s.find('o') # devuelve el índice del primer caracter encontrado"
   ]
  },
  {
   "cell_type": "markdown",
   "metadata": {
    "lang": "es"
   },
   "source": [
    "### Métodos de verificación \"is\"\n",
    "Estos métodos a continuación verifican si la cadena cumple alguno de los casos."
   ]
  },
  {
   "cell_type": "code",
   "execution_count": null,
   "metadata": {},
   "outputs": [],
   "source": [
    "s = 'hola'"
   ]
  },
  {
   "cell_type": "markdown",
   "metadata": {
    "lang": "es"
   },
   "source": [
    "<code>isalnum() </code> devolverá True si todos los caracteres en **s** son alfanuméricos"
   ]
  },
  {
   "cell_type": "code",
   "execution_count": null,
   "metadata": {},
   "outputs": [],
   "source": [
    "s.isalnum()"
   ]
  },
  {
   "cell_type": "markdown",
   "metadata": {
    "lang": "es"
   },
   "source": [
    "<code>isalpha() </code> devolverá True si todos los caracteres en **s** son alfabéticos"
   ]
  },
  {
   "cell_type": "code",
   "execution_count": null,
   "metadata": {},
   "outputs": [],
   "source": [
    "s.isalpha()"
   ]
  },
  {
   "cell_type": "markdown",
   "metadata": {
    "lang": "es"
   },
   "source": [
    "<code>islower()</code> devolverá True si todos los caracteres en **s** están en minúsculas y si existe\n",
    "al menos un carácter en mayúscula en **s**, False"
   ]
  },
  {
   "cell_type": "code",
   "execution_count": null,
   "metadata": {},
   "outputs": [],
   "source": [
    "s.islower()"
   ]
  },
  {
   "cell_type": "markdown",
   "metadata": {
    "lang": "es"
   },
   "source": [
    "<code>isspace () </code> devolverá True si todos los caracteres en **s** son espacios en blanco."
   ]
  },
  {
   "cell_type": "code",
   "execution_count": null,
   "metadata": {},
   "outputs": [],
   "source": [
    "s.isspace()"
   ]
  },
  {
   "cell_type": "markdown",
   "metadata": {
    "lang": "es"
   },
   "source": [
    "<code>isupper () </code> devolverá True si todo los caracteres en **s** están en mayúscula y si hay\n",
    "al menos un carácter en minúscula, False."
   ]
  },
  {
   "cell_type": "code",
   "execution_count": null,
   "metadata": {},
   "outputs": [],
   "source": [
    "s.isupper()"
   ]
  },
  {
   "cell_type": "markdown",
   "metadata": {
    "lang": "es"
   },
   "source": [
    "Otro método es <code>endswith() </code>, que es esencialmente lo mismo que una comprobación booleana en <code>s[-1]=='o'</code>"
   ]
  },
  {
   "cell_type": "code",
   "execution_count": null,
   "metadata": {},
   "outputs": [],
   "source": [
    "s.endswith('o')"
   ]
  },
  {
   "cell_type": "markdown",
   "metadata": {
    "lang": "es"
   },
   "source": [
    "### Expresiones regulares incorporadas\n",
    "Los strings tienen algunos métodos integrados que se parecen a las operaciones de expresiones regulares ([regex](https://en.wikipedia.org/wiki/Regular_expression)).\n",
    "Podemos usar <code>split() </code> para dividir la cadena por un determinado elemento y devolver una lista de los resultados sin el elemento separador.\n",
    "Podemos usar <code>partition()</code> para devolver una tupla que incluye la primera aparición del separador intercalado entre la primera mitad y la mitad final.\n",
    "Los concptos de listas y tuplas se revisan en otro cuaderno."
   ]
  },
  {
   "cell_type": "code",
   "execution_count": null,
   "metadata": {},
   "outputs": [],
   "source": [
    "s.split('a')"
   ]
  },
  {
   "cell_type": "code",
   "execution_count": null,
   "metadata": {},
   "outputs": [],
   "source": [
    "s.partition('l')"
   ]
  }
 ],
 "metadata": {
  "kernelspec": {
   "display_name": "Python 3",
   "language": "python",
   "name": "python3"
  },
  "language_info": {
   "codemirror_mode": {
    "name": "ipython",
    "version": 3
   },
   "file_extension": ".py",
   "mimetype": "text/x-python",
   "name": "python",
   "nbconvert_exporter": "python",
   "pygments_lexer": "ipython3",
   "version": "3.7.6"
  },
  "latex_envs": {
   "LaTeX_envs_menu_present": true,
   "autoclose": false,
   "autocomplete": true,
   "bibliofile": "biblio.bib",
   "cite_by": "apalike",
   "current_citInitial": 1,
   "eqLabelWithNumbers": true,
   "eqNumInitial": 1,
   "hotkeys": {
    "equation": "Ctrl-E",
    "itemize": "Ctrl-I"
   },
   "labels_anchors": false,
   "latex_user_defs": false,
   "report_style_numbering": false,
   "user_envs_cfg": false
  },
  "nbTranslate": {
   "displayLangs": [
    "es"
   ],
   "hotkey": "alt-t",
   "langInMainMenu": true,
   "sourceLang": "en",
   "targetLang": "es",
   "useGoogleTranslate": true
  }
 },
 "nbformat": 4,
 "nbformat_minor": 2
}
