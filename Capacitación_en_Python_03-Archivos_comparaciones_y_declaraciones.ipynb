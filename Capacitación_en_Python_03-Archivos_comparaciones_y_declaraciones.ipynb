{
 "cells": [
  {
   "cell_type": "markdown",
   "metadata": {},
   "source": [
    "<img src=\"images\\crisil_logo.png\" align=\"right\" border=\"0\"><br>\n",
    "\n",
    "\n",
    "# Capacitación en Python 03 - Archivos, comparaciones y declaraciones\n",
    "     \n",
    "En el siguiente cuaderno se presenta una introducción a manejo de archivos en python, comparaciones y declaraciones. Varios temas son presentados de manera superficial, por lo que se provee material suplementario opcional en un cuaderno aparte. Lea atentamente el cuaderno y corra el código en cada celda para visualizar su salida."
   ]
  },
  {
   "cell_type": "markdown",
   "metadata": {
    "lang": "es"
   },
   "source": [
    "---\n",
    "## Archivos\n",
    "\n",
    "Python usa \"objetos de archivo\" para interactuar con archivos externos en su computadora. Estos objetos de archivo pueden ser cualquier tipo de archivo que tenga se encuentra en su ordenador, ya sea un archivo de audio, un archivo de texto, correos electrónicos, documentos de Excel, etc. \n",
    "\n",
    "Nota: Para interactuar con algunos tipos de archivo, es necesario instalar bibliotecas o módulos.\n",
    "\n",
    "Python tiene una función de apertura incorporada que nos permite abrir y jugar con tipos de archivos básicos. Sin embargo, primero necesitaremos un archivo.\n",
    "\n",
    "En la próxima sección se tratan los siguiente temas:\n",
    "    \n",
    "    1.) Abrir un archivo\n",
    "    2.) Escribir en un archivo\n",
    "    3.) Anexar en un archivo\n",
    "    4.) Iterar sobre un archivo\n",
    "\n",
    "#### Escribir un archivo desde Jupyter Notebook\n",
    "La función que se utiliza a continuación es propia de los cuadernos Jupyter. Es un [comando mágico](https://ipython.readthedocs.io/en/stable/interactive/magics.html) que funciona en celdas de código para crear un archivo de manera rápida en el directorio de trabajo. Alternativamente, cree un archivo .txt con su editor de texto de elección."
   ]
  },
  {
   "cell_type": "code",
   "execution_count": null,
   "metadata": {},
   "outputs": [],
   "source": [
    "%%writefile test.txt\n",
    "Hola, esto es una prueba rápida"
   ]
  },
  {
   "cell_type": "markdown",
   "metadata": {
    "lang": "es"
   },
   "source": [
    "### Abrir un archivo\n",
    "\n",
    "Vamos a estar abriendo el archivo \"test.txt\" que se encuentra en el mismo directorio que este cuaderno. Por ahora trabajaremos con archivos ubicados en el mismo directorio que el cuaderno que esté utilizando.\n",
    "\n",
    "Es fácil obtener un error en este paso, como por ejemplo:"
   ]
  },
  {
   "cell_type": "code",
   "execution_count": null,
   "metadata": {},
   "outputs": [],
   "source": [
    "mi_archivo = open('whoops.txt')"
   ]
  },
  {
   "cell_type": "markdown",
   "metadata": {
    "lang": "es"
   },
   "source": [
    "Para evitar este error, asegúrese de que su archivo .txt esté guardado en la misma ubicación que su cuaderno, para verificar la ubicación de su cuaderno, use **pwd** (\"print working directory\"):"
   ]
  },
  {
   "cell_type": "code",
   "execution_count": null,
   "metadata": {},
   "outputs": [],
   "source": [
    "pwd"
   ]
  },
  {
   "cell_type": "markdown",
   "metadata": {
    "lang": "es"
   },
   "source": [
    "**Alternativamente, para tomar archivos de cualquier ubicación en su computadora, simplemente pase la ruta completa del archivo.**\n",
    "\n",
    "Para Windows, se debe utilizar double barra invertida `\\` para que Python no trate el segundo `\\` como un carácter de escape, la ruta del archivo tiene la forma:\n",
    "\n",
    "    mi_archivo = open(\"C:\\\\Users\\\\YourUserName\\\\Home\\\\Carpeta\\\\mi_archivo.txt\")\n",
    "\n",
    "Para MacOS y Linux, se utiliza barras en la dirección opuesta:\n",
    "\n",
    "    mi_archivo = open(\"/Users/YouUserName/Carpeta/mi_archivo.txt\")"
   ]
  },
  {
   "cell_type": "code",
   "execution_count": null,
   "metadata": {},
   "outputs": [],
   "source": [
    "# Abrir el archivo creado anteriormente\n",
    "mi_archivo = open('test.txt')"
   ]
  },
  {
   "cell_type": "code",
   "execution_count": null,
   "metadata": {},
   "outputs": [],
   "source": [
    "# Ahora podemos leer el título, \\n implica que luego del texto hay un salto de línea\n",
    "mi_archivo.read()"
   ]
  },
  {
   "cell_type": "code",
   "execution_count": null,
   "metadata": {},
   "outputs": [],
   "source": [
    "# Qué sucede si intentamos leerlo otra vez?\n",
    "mi_archivo.read()"
   ]
  },
  {
   "cell_type": "markdown",
   "metadata": {
    "lang": "es"
   },
   "source": [
    "Esto sucede porque se puede imaginar que el \"cursor\" de lectura está al final del archivo después de haberlo leído. Entonces no queda nada para leer. Podemos restablecer el \"cursor\" de esta manera:"
   ]
  },
  {
   "cell_type": "code",
   "execution_count": null,
   "metadata": {},
   "outputs": [],
   "source": [
    "# Volver el cursor al incio del archivo (índice 0)\n",
    "mi_archivo.seek(0)"
   ]
  },
  {
   "cell_type": "code",
   "execution_count": null,
   "metadata": {},
   "outputs": [],
   "source": [
    "# Ahora leemos de nuevo\n",
    "mi_archivo.read()"
   ]
  },
  {
   "cell_type": "markdown",
   "metadata": {
    "lang": "es"
   },
   "source": [
    "Para leer un archivo línea por línea utilice el método `readlines()`. Tenga cuidado con los archivos grandes, ya que todo se guardará en la memoria."
   ]
  },
  {
   "cell_type": "code",
   "execution_count": null,
   "metadata": {},
   "outputs": [],
   "source": [
    "# readlines devuelve el contenido del archivo línea por línea\n",
    "mi_archivo.seek(0)\n",
    "mi_archivo.readlines()"
   ]
  },
  {
   "cell_type": "markdown",
   "metadata": {
    "lang": "es"
   },
   "source": [
    "Cuando haya terminado de usar un archivo, es una buena práctica cerrarlo. Si bien el archivo no se encuentra abierto en el editor de texto predeterminado del sistema, sigue estando diponible para modificación dentro de nuestro cuaderno."
   ]
  },
  {
   "cell_type": "code",
   "execution_count": null,
   "metadata": {},
   "outputs": [],
   "source": [
    "mi_archivo.close()"
   ]
  },
  {
   "cell_type": "markdown",
   "metadata": {
    "lang": "es"
   },
   "source": [
    "### Escribir en un archivo\n",
    "\n",
    "Por defecto, la función `open()` solo nos permitirá leer el archivo. Necesitamos pasar el argumento ''w'' para escribir sobre el archivo. Por ejemplo:"
   ]
  },
  {
   "cell_type": "code",
   "execution_count": null,
   "metadata": {},
   "outputs": [],
   "source": [
    "# Agrego un segundo argumento a la función, w por \"write\"\n",
    "# Utilizando 'w+' la función permite leer y escribir el archivo\n",
    "\n",
    "mi_archivo = open('test.txt','w+')"
   ]
  },
  {
   "cell_type": "markdown",
   "metadata": {
    "lang": "es"
   },
   "source": [
    "### <strong><font color='red'>Cuidado</font></strong>\n",
    "Abrir un archivo con ''w'' o ''w+'' trunca el archivo original, lo que significa que todo lo que estaba en el archivo original **se elimina**."
   ]
  },
  {
   "cell_type": "code",
   "execution_count": null,
   "metadata": {},
   "outputs": [],
   "source": [
    "# escribir en el archivo\n",
    "mi_archivo.write('Esto es una línea nueva') # el número que aparece en la salida es la cantidad de caracteres"
   ]
  },
  {
   "cell_type": "code",
   "execution_count": null,
   "metadata": {},
   "outputs": [],
   "source": [
    "# Leer archivo\n",
    "mi_archivo.seek(0)\n",
    "mi_archivo.read()"
   ]
  },
  {
   "cell_type": "code",
   "execution_count": null,
   "metadata": {},
   "outputs": [],
   "source": [
    "mi_archivo.close()  # recordar siempre cerrar el archivo"
   ]
  },
  {
   "cell_type": "markdown",
   "metadata": {
    "lang": "es"
   },
   "source": [
    "### Anexar a un archivo\n",
    "Al pasar el argumento ''a'' se abre el archivo y se coloca el puntero al final, por lo que todo lo escrito se adjunta. Como ``w+'', ``a+'' nos permite leer y escribir en un archivo. Si el archivo no existe, se creará uno."
   ]
  },
  {
   "cell_type": "code",
   "execution_count": null,
   "metadata": {},
   "outputs": [],
   "source": [
    "mi_archivo = open('test.txt','a+')\n",
    "mi_archivo.write('\\nEste texto se adjunta al test.txt')\n",
    "mi_archivo.write('\\nY otra línea aquí.')"
   ]
  },
  {
   "cell_type": "code",
   "execution_count": null,
   "metadata": {},
   "outputs": [],
   "source": [
    "mi_archivo.seek(0)\n",
    "print(mi_archivo.read())"
   ]
  },
  {
   "cell_type": "code",
   "execution_count": null,
   "metadata": {},
   "outputs": [],
   "source": [
    "mi_archivo.close()"
   ]
  },
  {
   "cell_type": "markdown",
   "metadata": {
    "lang": "es"
   },
   "source": [
    "#### Anexando con `%% writefile`\n",
    "Podemos hacer lo mismo usando el comando mágico de IPython:"
   ]
  },
  {
   "cell_type": "code",
   "execution_count": null,
   "metadata": {},
   "outputs": [],
   "source": [
    "%%writefile -a test.txt\n",
    "\n",
    "Este texto se adjunta a test.txt\n",
    "Y esta otra línea."
   ]
  },
  {
   "cell_type": "markdown",
   "metadata": {
    "lang": "es"
   },
   "source": [
    "Agregue un espacio en blanco si desea que la primera línea comience en su propia línea, ya que Jupyter no reconocerá secuencias de escape como `\\n`"
   ]
  },
  {
   "cell_type": "markdown",
   "metadata": {
    "lang": "es"
   },
   "source": [
    "### Iterar sobre un archivo\n",
    "\n",
    "Iterar sobre el archivo permite presentar un adelanto de como trabaja un bucle `for`, uno de los próximos temas. Creemos un archivo de texto nuevo con comandos mágicos de IPython:"
   ]
  },
  {
   "cell_type": "code",
   "execution_count": null,
   "metadata": {},
   "outputs": [],
   "source": [
    "%%writefile test.txt \n",
    "Primera Línea\n",
    "Segunda Línea"
   ]
  },
  {
   "cell_type": "markdown",
   "metadata": {
    "lang": "es"
   },
   "source": [
    "Ahora podemos utilizar un bucle for para que el archivo imprima línea por línea el archivo:"
   ]
  },
  {
   "cell_type": "code",
   "execution_count": null,
   "metadata": {},
   "outputs": [],
   "source": [
    "for linea in open('test.txt'):\n",
    "    print(linea)"
   ]
  },
  {
   "cell_type": "markdown",
   "metadata": {
    "lang": "es"
   },
   "source": [
    "No se preocupe por comprender completamente esto, en breve se tratarán los bucles `for`. Lo que le dijimos al intérprete del lenguaje es que para cada línea en este archivo de texto, imprima la línea y continue a la próxima. Es importante tener en cuenta algunas cosas:\n",
    "\n",
    "1. Podríamos haber llamado al objeto \"linea\" cualquier cosa (ver ejemplo a continuación).\n",
    "2. Al no llamar a `.read()` en el archivo, el archivo de texto completo no se almacenó en la memoria.\n",
    "3. Observe la sangría en la segunda línea para imprimir. Este espacio en blanco es obligatorio en Python."
   ]
  },
  {
   "cell_type": "code",
   "execution_count": null,
   "metadata": {},
   "outputs": [],
   "source": [
    "# Primer punto de arriba\n",
    "for asdf in open('test.txt'):\n",
    "    print(asdf)"
   ]
  },
  {
   "cell_type": "markdown",
   "metadata": {
    "lang": "es"
   },
   "source": [
    "---\n",
    "## Operadores de comparación\n",
    "\n",
    "En esta sección se abordan los operadores de comparación en Python. Estos operadores permiten comparar variables y generar un valor booleano (`True` o `False`).\n",
    "\n",
    "<h3> Tabla de operadores de comparación </h3><p>  En la tabla debajo, a = 3 and b = 4.</p>\n",
    "\n",
    "<table class=\"table table-bordered\">\n",
    "<tr>\n",
    "<th style=\"width:10%\">Operador</th><th style=\"width:45%\">Descripción</th><th>Ejemplo</th>\n",
    "</tr>\n",
    "<tr>\n",
    "<td> == </td>\n",
    "<td> Si los valores de dos operandos son iguales, entonces la condición se vuelve verdadera.</td>\n",
    "<td> (a == b) no es verdadero.</td>\n",
    "</tr>\n",
    "<tr>\n",
    "<td>! = </td>\n",
    "<td> Si los valores de dos operandos no son iguales, entonces la condición se vuelve verdadera.</td>\n",
    "<td> (a! = b) es verdadero</td>\n",
    "</tr>\n",
    "<tr>\n",
    "<td>> </td>\n",
    "<td> Si el valor del operando izquierdo es mayor que el valor del operando derecho, entonces la condición se convierte en verdadera.</td>\n",
    "<td> (a> b) no es verdadero.</td>\n",
    "</tr>\n",
    "<tr>\n",
    "<td>&lt; </td>\n",
    "<td> Si el valor del operando izquierdo es menor que el valor del operando derecho, entonces la condición se convierte en verdadera.</td>\n",
    "<td> (a&lt;b) es verdadero.</td> <td> \n",
    "</tr>\n",
    "<tr>\n",
    "<td>> = </td>\n",
    "<td> Si el valor del operando izquierdo es mayor o igual que el valor del operando derecho, entonces la condición se vuelve verdadera.</td>\n",
    "<td> (a> = b) no es verdadero. </td>\n",
    "</tr>\n",
    "<tr>\n",
    "<td> <= </td>\n",
    "<td>Si el valor del operando izquierdo es menor o igual que el valor del operando derecho, entonces la condición se vuelve verdadera.</td>\n",
    "<td> (a <= b) es verdadero. </td>\n",
    "</tr>\n",
    "</table>"
   ]
  },
  {
   "cell_type": "markdown",
   "metadata": {
    "lang": "es"
   },
   "source": [
    "A continuación se presentan un ejemplo para cada operador.\n",
    "\n",
    "#### Igual a"
   ]
  },
  {
   "cell_type": "code",
   "execution_count": null,
   "metadata": {},
   "outputs": [],
   "source": [
    "1 == 0"
   ]
  },
  {
   "cell_type": "markdown",
   "metadata": {
    "lang": "es"
   },
   "source": [
    "Tenga en cuenta que <code> == </code> es un operador de <em>comparación</em>, mientras que <code> = </code> es un operador de <em>asignación</em>."
   ]
  },
  {
   "cell_type": "markdown",
   "metadata": {},
   "source": [
    "#### Distinto de"
   ]
  },
  {
   "cell_type": "code",
   "execution_count": null,
   "metadata": {},
   "outputs": [],
   "source": [
    "2 != 1"
   ]
  },
  {
   "cell_type": "markdown",
   "metadata": {},
   "source": [
    "#### Mayor que"
   ]
  },
  {
   "cell_type": "code",
   "execution_count": null,
   "metadata": {},
   "outputs": [],
   "source": [
    "2 > 4"
   ]
  },
  {
   "cell_type": "markdown",
   "metadata": {},
   "source": [
    "#### Menor que"
   ]
  },
  {
   "cell_type": "code",
   "execution_count": null,
   "metadata": {},
   "outputs": [],
   "source": [
    "2 < 1"
   ]
  },
  {
   "cell_type": "markdown",
   "metadata": {},
   "source": [
    "#### Mayor o igual a"
   ]
  },
  {
   "cell_type": "code",
   "execution_count": null,
   "metadata": {},
   "outputs": [],
   "source": [
    "2 >= 2"
   ]
  },
  {
   "cell_type": "markdown",
   "metadata": {},
   "source": [
    "#### Menor o igual que"
   ]
  },
  {
   "cell_type": "code",
   "execution_count": null,
   "metadata": {},
   "outputs": [],
   "source": [
    "2 <= 4"
   ]
  },
  {
   "cell_type": "markdown",
   "metadata": {
    "lang": "es"
   },
   "source": [
    "---\n",
    "## Introducción a las declaraciones de Python\n",
    "\n",
    "Esta sección enfatiza las diferencias entre Python y otros lenguajes como C.\n",
    "\n",
    "Hay dos razones por las que se elige este enfoque para aprender el contexto de las declaraciones de Python:\n",
    "\n",
    "    1.) Si viene de un idioma diferente, esto acelerará rápidamente su comprensión de Python.\n",
    "    2.) Aprender sobre las declaraciones permite la lectura de otros lenguajes más fácilmente en el futuro."
   ]
  },
  {
   "cell_type": "markdown",
   "metadata": {
    "lang": "es"
   },
   "source": [
    "### Python vs otros idiomas\n",
    "\n",
    "\"Si `a` es mayor que `b`, asigne 2 a `a` y 4 a `b`\"\n",
    "\n",
    "Esta declaración tiene diferente sintaxis según el lenguaje de programación. \n",
    "\n",
    "**Versión 1 (Otros idiomas)**\n",
    "\n",
    "    if (a>b){\n",
    "        a = 2;\n",
    "        b = 4;\n",
    "    }\n",
    "                        \n",
    "**Versión 2 (Python)**\n",
    "\n",
    "    if a>b:\n",
    "        a = 2\n",
    "        b = 4"
   ]
  },
  {
   "cell_type": "markdown",
   "metadata": {
    "lang": "es"
   },
   "source": [
    "La sintaxis en Python está menos abarrotada y es mucho más legible que la primera versión. ¿Cómo maneja Python esto?\n",
    "\n",
    "Veamos las principales diferencias:\n",
    "\n",
    "Python elimina `()` y `{}` incorporando dos factores principales: *dos puntos* y *espacios en blanco*. La declaración finaliza con dos puntos y se utiliza un espacio en blanco (sangría o indentación) para describir lo que ocurre en el caso de la declaración.\n",
    "\n",
    "Otra diferencia importante es la falta de punto y coma en Python. Los puntos y comas se usan para denotar terminaciones de declaraciones en muchos otros idiomas, pero en Python, el final de una línea es lo mismo que el final de una declaración.\n",
    "\n",
    "Por último, para finalizar esta breve descripción general de las diferencias, echemos un vistazo más de cerca a la sintaxis de sangría en Python frente a otros idiomas:\n",
    "\n",
    "### Sangría\n",
    "\n",
    "Aquí hay un pseudocódigo para indicar el uso de espacios en blanco y sangría en Python:\n",
    "\n",
    "**Otros idiomas**\n",
    "\n",
    "    if(x)\n",
    "        if(y)\n",
    "            declaración de código;\n",
    "    else\n",
    "        otra instrucción de código;\n",
    "        \n",
    "**Python**\n",
    "    \n",
    "    if x:\n",
    "        if y:\n",
    "        declaración de código\n",
    "    else:\n",
    "        otra instrucción de código"
   ]
  },
  {
   "cell_type": "markdown",
   "metadata": {
    "lang": "es"
   },
   "source": [
    "Observe que Python está fuertemente impulsado por la sangría de código y los espacios en blanco. Esto significa que la legibilidad del código es una parte central del diseño del lenguaje Python."
   ]
  },
  {
   "cell_type": "markdown",
   "metadata": {
    "lang": "es"
   },
   "source": [
    "---\n",
    "En lo que resta del cuaderno se tratarán los siguientes temas :\n",
    "    1.) Declaraciones if, elif, else\n",
    "    2.) Bucles for\n",
    "    3.) Bucles while\n",
    "    4.) break, continue, pass\n",
    "\n",
    "\n",
    "## Declaraciones if, elif, else\n",
    "\n",
    "Las declaraciones <code>if</code> en Python nos permiten decirle a la computadora que realice acciones alternativas basadas en un determinado conjunto de resultados.\n",
    "\n",
    "Verbalmente, podemos imaginar que le estamos diciendo a la computadora:\n",
    "\n",
    "\"Si este caso sucede, realiza esta acción\"\n",
    "\n",
    "Luego podemos ampliar la idea aún más con las declaraciones <code>elif</code> y <code>else</code>, que nos permiten decirle a la computadora:\n",
    "\n",
    "\"Si sucede este caso, realiza esta acción. De lo contrario, si ocurre este otro caso, realiza esta otra acción. De lo contrario, si *ninguno* de los casos anteriores sucede, realiza esta acción\".\n",
    "\n",
    "El formato de sintaxis de las declaraciones <code>if</code> es:\n",
    "\n",
    "    if caso1:\n",
    "        realizar acción1\n",
    "    elif caseo:\n",
    "        realizar action2\n",
    "    else:\n",
    "        realizar action3"
   ]
  },
  {
   "cell_type": "markdown",
   "metadata": {},
   "source": [
    "#### Ejemplo"
   ]
  },
  {
   "cell_type": "code",
   "execution_count": null,
   "metadata": {},
   "outputs": [],
   "source": [
    "if True:\n",
    "    print('Es cierto')"
   ]
  },
  {
   "cell_type": "markdown",
   "metadata": {},
   "source": [
    "Agregando más lógica:"
   ]
  },
  {
   "cell_type": "code",
   "execution_count": null,
   "metadata": {},
   "outputs": [],
   "source": [
    "x = False\n",
    "\n",
    "if x:\n",
    "    print('x es cierto!')\n",
    "else:\n",
    "    print('Se imprime en el caso de que x no sea cierto')"
   ]
  },
  {
   "cell_type": "markdown",
   "metadata": {
    "lang": "es"
   },
   "source": [
    "### Ramas múltiples\n",
    "\n",
    "Se puede llevar más lejos el uso de <code>if</code>, <code>elif</code> y <code>else</code>.\n",
    "\n",
    "Escribimos esto en una estructura anidada. Preste atención a cómo <code>if</code>, <code>elif</code> y <code>else</code> se alinean en el código. Esto puede ayudar entender qué <code>if</code> está relacionado con las otras declaraciones <code>elif</code> o <code>else</code>.\n"
   ]
  },
  {
   "cell_type": "code",
   "execution_count": null,
   "metadata": {},
   "outputs": [],
   "source": [
    "loc = 'Banco'\n",
    "\n",
    "if loc == 'Estación':\n",
    "    print('Bienvenido a la estación')\n",
    "elif loc == 'Banco':\n",
    "    print('Bienvenido al banco')\n",
    "else:\n",
    "    print('¿Donde estás?')"
   ]
  },
  {
   "cell_type": "markdown",
   "metadata": {
    "lang": "es"
   },
   "source": [
    "Observe cómo se comprueban las instrucciones <code>if</code> anidadas hasta que un booleano verdadero hace que se ejecute el código anidado debajo de él. También debe tenerse en cuenta que es posible colocar tantas declaraciones <code>elif</code> como sean necesarias antes de cerrar con un <code>else</code>.\n"
   ]
  },
  {
   "cell_type": "code",
   "execution_count": null,
   "metadata": {},
   "outputs": [],
   "source": [
    "persona = 'Jorge'\n",
    "\n",
    "if persona == 'Samanta':\n",
    "    print('Hola Samanta!')\n",
    "elif persona =='Jorge':\n",
    "    print('Hola Jorge!')\n",
    "else:\n",
    "    print(\"Hola, cómo te llamás?\")"
   ]
  },
  {
   "cell_type": "markdown",
   "metadata": {
    "lang": "es"
   },
   "source": [
    "---\n",
    "\n",
    "## Bucles for\n",
    "\n",
    "Un bucle (o ciclo)<code>for</code> actúa como un iterador en Python; pasa por elementos que están en una *secuencia* o cualquier otro elemento iterable. Los objetos sobre los que es posible iterar incluyen cadenas, listas, tuplas e incluso sobre elementos de diccionarios, como claves o valores.\n",
    "\n",
    "El formato general para un bucle <code>for</code> en Python es:\n",
    "\n",
    "    for elemento in objeto:\n",
    "        declaraciones para hacer cosas"
   ]
  },
  {
   "cell_type": "markdown",
   "metadata": {
    "lang": "es"
   },
   "source": [
    "El nombre de la variable utilizada para el elemento depende completamente del codificador, por lo tanto, es mejor elegir un nombre que tenga sentido y que pueda comprenderse cuando revise el código. Este nombre de elemento se puede hacer referencia dentro de su ciclo, por ejemplo, si desea utilizar las instrucciones <code>if</code> para realizar comprobaciones.\n",
    "\n",
    "### Ejemplo 1\n",
    "Iterando a través de una lista"
   ]
  },
  {
   "cell_type": "code",
   "execution_count": null,
   "metadata": {},
   "outputs": [],
   "source": [
    "lista1 = [1,2,3,4,5,6,7,8,9,10]"
   ]
  },
  {
   "cell_type": "code",
   "execution_count": null,
   "metadata": {},
   "outputs": [],
   "source": [
    "for num in lista1:\n",
    "    print(num)"
   ]
  },
  {
   "cell_type": "markdown",
   "metadata": {},
   "source": [
    "### Ejemplo 2\n",
    "Imprimir números pares utilizando el operador módulo"
   ]
  },
  {
   "cell_type": "code",
   "execution_count": null,
   "metadata": {},
   "outputs": [],
   "source": [
    "for num in lista1:\n",
    "    if num % 2 == 0:\n",
    "        print(num)"
   ]
  },
  {
   "cell_type": "markdown",
   "metadata": {},
   "source": [
    "Agregando un <code>else</code>:"
   ]
  },
  {
   "cell_type": "code",
   "execution_count": null,
   "metadata": {},
   "outputs": [],
   "source": [
    "for num in lista1:\n",
    "    if num % 2 == 0:\n",
    "        print(num)\n",
    "    else:\n",
    "        print('Número impar')"
   ]
  },
  {
   "cell_type": "markdown",
   "metadata": {
    "lang": "es"
   },
   "source": [
    "### Ejemplo 3\n",
    "Otra idea común durante un ciclo <code>for</code> es mantener algún tipo de conteo durante varios ciclos."
   ]
  },
  {
   "cell_type": "code",
   "execution_count": null,
   "metadata": {},
   "outputs": [],
   "source": [
    "# Empiezo la suma desde cero\n",
    "lista_sum = 0 \n",
    "\n",
    "for num in lista1:\n",
    "    lista_sum += num\n",
    "\n",
    "print(lista_sum)"
   ]
  },
  {
   "cell_type": "markdown",
   "metadata": {
    "lang": "es"
   },
   "source": [
    "La misma sintaxis se utiliza para imprimir elementos de strings,tuplas y objetos de vista de diccionario (revisar material suplementario del segundo cuaderno).\n",
    "\n",
    "### Ejemplo 4\n",
    "Las tuplas tienen una cualidad especial cuando se trata de bucles <code>for</code>. Si está iterando a través de una secuencia que contiene tuplas, el elemento en realidad puede ser la tupla misma, este es un ejemplo de *desempaquetado de tuplas*."
   ]
  },
  {
   "cell_type": "code",
   "execution_count": null,
   "metadata": {},
   "outputs": [],
   "source": [
    "lista2 = [(2,4),(6,8),(10,12)]"
   ]
  },
  {
   "cell_type": "code",
   "execution_count": null,
   "metadata": {},
   "outputs": [],
   "source": [
    "for tup in lista2:\n",
    "    print(tup)"
   ]
  },
  {
   "cell_type": "code",
   "execution_count": null,
   "metadata": {},
   "outputs": [],
   "source": [
    "# Desempaquetado del 1er valor de cada tupla\n",
    "for (t1,t2) in lista2:\n",
    "    print(t1)"
   ]
  },
  {
   "cell_type": "markdown",
   "metadata": {
    "lang": "es"
   },
   "source": [
    "---\n",
    "## Bucles while\n",
    "\n",
    "La declaración <code>while</code> en Python es una de las formas más generales de realizar iteración. Una declaración <code>while</code> ejecutará repetidamente una sola declaración o grupo de declaraciones siempre que la condición sea verdadera. La razón por la que se llama 'bucle' es porque las instrucciones del código se repiten una y otra vez hasta que la condición ya no se cumple.\n",
    "\n",
    "El formato general de un ciclo while es:\n",
    "\n",
    "    while condición:\n",
    "        declaraciones de código\n",
    "    else:\n",
    "        declaraciones de código final"
   ]
  },
  {
   "cell_type": "code",
   "execution_count": null,
   "metadata": {},
   "outputs": [],
   "source": [
    "x = 0\n",
    "\n",
    "while x < 5:\n",
    "    print('x es actualmente: ',x)\n",
    "    print(' x es todavía menor que 5, sumo 1 a x\\n')\n",
    "    x+=1"
   ]
  },
  {
   "cell_type": "markdown",
   "metadata": {
    "lang": "es"
   },
   "source": [
    "Observe cuántas veces se produjeron las declaraciones de impresión y cómo el ciclo <code>while</code> continuó hasta que se cumplió la condición `False`, que ocurrió una vez `x == 5`. Es importante tener en cuenta que una vez que esto ocurrió, el código se detuvo. Ahora se agrega el uso de una declaración <code>else</code>:"
   ]
  },
  {
   "cell_type": "code",
   "execution_count": null,
   "metadata": {},
   "outputs": [],
   "source": [
    "x = 0\n",
    "\n",
    "while x < 5:\n",
    "    print('x es actualmente: ',x)\n",
    "    print(' x es menor que 5, sumo 1 a x\\n')\n",
    "    x+=1\n",
    "    \n",
    "else:\n",
    "    print('Listo el pollo!')"
   ]
  },
  {
   "cell_type": "markdown",
   "metadata": {
    "lang": "es"
   },
   "source": [
    "---\n",
    "## break, continue, pass\n",
    "\n",
    "Es común utilizar <code>break</code>, <code>continue</code> y <code>pass</code> en bucles para agregar funcionalidades adicionales a varios casos. Las tres declaraciones se definen por:\n",
    "\n",
    "    break: sale del ciclo del bucle que lo encierra.\n",
    "    continue: va a la parte superior del bucle que lo encierra.\n",
    "    pass: no hace nada en absoluto.\n",
    "    \n",
    "    \n",
    "Pensando en las declaraciones <code>break</code> y <code>continue</code>, el formato general del ciclo <code>while</code> es:\n",
    "\n",
    "    while condición1:\n",
    "        declaración de código\n",
    "        if condición2:\n",
    "            break\n",
    "        if condición3:\n",
    "            continue\n",
    "    else:\n",
    "\n",
    "Las declaraciones <code>break</code> y <code>continue</code> pueden aparecer en cualquier lugar dentro del cuerpo del bucle, pero generalmente las colocaremos anidadas junto con una declaración <code>if</code> para realizar una acción basada en alguna condición."
   ]
  },
  {
   "cell_type": "code",
   "execution_count": null,
   "metadata": {},
   "outputs": [],
   "source": [
    "x = 0\n",
    "\n",
    "while x < 5:\n",
    "    print('x es actualmente: ',x)\n",
    "    print(' x es menor que 5, le sumo 1 a x\\n')\n",
    "    x+=1\n",
    "    if x==3:\n",
    "        print('x==3\\n')\n",
    "    else:\n",
    "        print('continuo...\\n')\n",
    "        continue"
   ]
  },
  {
   "cell_type": "markdown",
   "metadata": {
    "lang": "es"
   },
   "source": [
    "Se tiene una declaración impresa cuando x == 3, y se continúa imprimiendo mientras continuamos a través del ciclo while externo. Ahora se posiciona un `break` una vez `x == 3`."
   ]
  },
  {
   "cell_type": "code",
   "execution_count": null,
   "metadata": {},
   "outputs": [],
   "source": [
    "x = 0\n",
    "\n",
    "while x < 5:\n",
    "    print('x es actualmente: ',x)\n",
    "    print('x es todavía menor a 5, sumo 1 a x\\n')\n",
    "    x+=1\n",
    "    if x==3:\n",
    "        print('descanso porque x==3\\n')\n",
    "        break\n",
    "    else:\n",
    "        print('continuo...\\n')\n",
    "        continue"
   ]
  },
  {
   "cell_type": "markdown",
   "metadata": {
    "lang": "es"
   },
   "source": [
    "En este ejemplo no se alcanza la instrucción <code>else</code> y nunca se imprime continuar.\n",
    "\n",
    "**Precaución, es posible crear un ciclo de ejecución infinita con las instrucciones <code>while</code>. Por ejemplo:**"
   ]
  },
  {
   "cell_type": "code",
   "execution_count": null,
   "metadata": {},
   "outputs": [],
   "source": [
    "# No corra esta celda \n",
    "while True:\n",
    "    print(\"Me siento Bill Murray en Groundhog Day\")"
   ]
  },
  {
   "cell_type": "markdown",
   "metadata": {
    "lang": "es"
   },
   "source": [
    "Nota rápida: si *ejecutó* la celda anterior, haga clic en el menú Kernel de arriba para reiniciar el kernel."
   ]
  }
 ],
 "metadata": {
  "kernelspec": {
   "display_name": "Python 3 (ipykernel)",
   "language": "python",
   "name": "python3"
  },
  "language_info": {
   "codemirror_mode": {
    "name": "ipython",
    "version": 3
   },
   "file_extension": ".py",
   "mimetype": "text/x-python",
   "name": "python",
   "nbconvert_exporter": "python",
   "pygments_lexer": "ipython3",
   "version": "3.8.12"
  },
  "latex_envs": {
   "LaTeX_envs_menu_present": true,
   "autoclose": false,
   "autocomplete": true,
   "bibliofile": "biblio.bib",
   "cite_by": "apalike",
   "current_citInitial": 1,
   "eqLabelWithNumbers": true,
   "eqNumInitial": 1,
   "hotkeys": {
    "equation": "Ctrl-E",
    "itemize": "Ctrl-I"
   },
   "labels_anchors": false,
   "latex_user_defs": false,
   "report_style_numbering": false,
   "user_envs_cfg": false
  },
  "nbTranslate": {
   "displayLangs": [
    "es"
   ],
   "hotkey": "alt-t",
   "langInMainMenu": true,
   "sourceLang": "en",
   "targetLang": "es",
   "useGoogleTranslate": true
  },
  "toc": {
   "base_numbering": 1,
   "nav_menu": {},
   "number_sections": true,
   "sideBar": true,
   "skip_h1_title": false,
   "title_cell": "Table of Contents",
   "title_sidebar": "Contents",
   "toc_cell": false,
   "toc_position": {},
   "toc_section_display": true,
   "toc_window_display": false
  },
  "varInspector": {
   "cols": {
    "lenName": 16,
    "lenType": 16,
    "lenVar": 40
   },
   "kernels_config": {
    "python": {
     "delete_cmd_postfix": "",
     "delete_cmd_prefix": "del ",
     "library": "var_list.py",
     "varRefreshCmd": "print(var_dic_list())"
    },
    "r": {
     "delete_cmd_postfix": ") ",
     "delete_cmd_prefix": "rm(",
     "library": "var_list.r",
     "varRefreshCmd": "cat(var_dic_list()) "
    }
   },
   "types_to_exclude": [
    "module",
    "function",
    "builtin_function_or_method",
    "instance",
    "_Feature"
   ],
   "window_display": false
  }
 },
 "nbformat": 4,
 "nbformat_minor": 2
}
