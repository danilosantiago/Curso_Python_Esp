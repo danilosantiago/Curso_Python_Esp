{
 "cells": [
  {
   "cell_type": "markdown",
   "metadata": {},
   "source": [
    "<img src=\"images\\crisil_logo.png\" align=\"right\" border=\"0\"><br>\n",
    "\n",
    "\n",
    "# Capacitación en Python 02 - Otros tipos de objetos y de estructuras de datos\n",
    "     \n",
    "En el siguiente cuaderno se presenta una introducción a listas, diccionarios, tuplas, conjutos y \"booleans\" en Python. Varios temas son presentados de manera superficial, por lo que se provee material sunplementario opcional en un cuaderno aparte. Lea atentamente el cuaderno y corra el código en cada celda para visualizar su salida."
   ]
  },
  {
   "cell_type": "markdown",
   "metadata": {
    "lang": "es"
   },
   "source": [
    "---\n",
    "## Listas\n",
    "\n",
    "Anteriormente al discutir sobre cadenas de caracteres, presentamos el concepto de una secuencia **en Python. Las listas se pueden pensar como la versión más general de una secuencia** en Python. A diferencia de los strings, son mutables, lo que significa que los elementos dentro de una lista se pueden cambiar.\n",
    "\n",
    "En esta sección se revisarán las siguientes secciones:\n",
    "    \n",
    "    1.) Creando listas\n",
    "    2.) Indexación y segmentación\n",
    "    3.) Métodos básicos\n",
    "    4.) Anidado de listas\n",
    "    5.) Comprensión de listas\n",
    "\n",
    "Las listas se construyen con corchetes `[]` y comas que separan cada elemento de la lista."
   ]
  },
  {
   "cell_type": "markdown",
   "metadata": {},
   "source": [
    "### Creando listas"
   ]
  },
  {
   "cell_type": "code",
   "execution_count": null,
   "metadata": {},
   "outputs": [],
   "source": [
    "# asigno una lista a una variable\n",
    "mi_lista = [1,2,3]"
   ]
  },
  {
   "cell_type": "markdown",
   "metadata": {
    "lang": "en"
   },
   "source": [
    "Acabamos de crear una lista de enteros, pero las listas pueden contener diferentes tipos de objetos. Por ejemplo:"
   ]
  },
  {
   "cell_type": "code",
   "execution_count": null,
   "metadata": {},
   "outputs": [],
   "source": [
    "mi_lista = ['Un string',23,100.232,'o']"
   ]
  },
  {
   "cell_type": "markdown",
   "metadata": {
    "lang": "es"
   },
   "source": [
    "Al igual que las cadenas, la función `len()` devuelve cuántos elementos hay en la secuencia de la lista."
   ]
  },
  {
   "cell_type": "code",
   "execution_count": null,
   "metadata": {},
   "outputs": [],
   "source": [
    "len(mi_lista)"
   ]
  },
  {
   "cell_type": "markdown",
   "metadata": {
    "lang": "es"
   },
   "source": [
    "### Indexación y segmentación\n",
    "La indexación y segmentación funcionan igual que en los strings. Hagamos una nueva lista para recordarnos cómo funciona esto:"
   ]
  },
  {
   "cell_type": "code",
   "execution_count": null,
   "metadata": {},
   "outputs": [],
   "source": [
    "mi_lista = ['uno','dos','tres',4,5]"
   ]
  },
  {
   "cell_type": "code",
   "execution_count": null,
   "metadata": {},
   "outputs": [],
   "source": [
    "# Tompo el elemento en el índice cero\n",
    "mi_lista[0]"
   ]
  },
  {
   "cell_type": "code",
   "execution_count": null,
   "metadata": {},
   "outputs": [],
   "source": [
    "# Tomo el índice uno y todo lo que sigue\n",
    "mi_lista[1:]"
   ]
  },
  {
   "cell_type": "code",
   "execution_count": null,
   "metadata": {},
   "outputs": [],
   "source": [
    "# Tomo todo hasta el índice 3, sin incluírlo\n",
    "mi_lista[:3]"
   ]
  },
  {
   "cell_type": "markdown",
   "metadata": {
    "lang": "es"
   },
   "source": [
    "También se puede usar + para concatenar listas, tal como se hizo para strings."
   ]
  },
  {
   "cell_type": "code",
   "execution_count": null,
   "metadata": {},
   "outputs": [],
   "source": [
    "mi_lista + ['nuevo elemento']"
   ]
  },
  {
   "cell_type": "markdown",
   "metadata": {
    "lang": "es"
   },
   "source": [
    "Nota: Esto en realidad no cambia la lista original"
   ]
  },
  {
   "cell_type": "code",
   "execution_count": null,
   "metadata": {},
   "outputs": [],
   "source": [
    "mi_lista"
   ]
  },
  {
   "cell_type": "markdown",
   "metadata": {
    "lang": "es"
   },
   "source": [
    "Tendría que reasignar la lista para que el cambio sea permanente."
   ]
  },
  {
   "cell_type": "code",
   "execution_count": null,
   "metadata": {},
   "outputs": [],
   "source": [
    "# reasignación\n",
    "mi_lista = mi_lista + ['nuevo elemento permanente']"
   ]
  },
  {
   "cell_type": "code",
   "execution_count": null,
   "metadata": {},
   "outputs": [],
   "source": [
    "mi_lista"
   ]
  },
  {
   "cell_type": "markdown",
   "metadata": {
    "lang": "es"
   },
   "source": [
    "Se utiliza `*` de manera similar a las cadenas de caracteres para \"multiplicar\" la secuenca:"
   ]
  },
  {
   "cell_type": "code",
   "execution_count": null,
   "metadata": {},
   "outputs": [],
   "source": [
    "# Crear lista doble\n",
    "mi_lista * 2"
   ]
  },
  {
   "cell_type": "code",
   "execution_count": null,
   "metadata": {},
   "outputs": [],
   "source": [
    "# Otra vez, el cambio no es permanente sin reasignar\n",
    "mi_lista"
   ]
  },
  {
   "cell_type": "markdown",
   "metadata": {
    "lang": "es"
   },
   "source": [
    "### Métodos básicos\n",
    "\n",
    "Si está familiarizado con otro lenguaje de programación, puede comenzar a establecer paralelismos entre los `arrays` en otro lenguaje y las listas en Python. Sin embargo, las listas en Python tienden a ser más flexibles que los arays en otros idiomas por dos buenas razones: no tienen un tamaño fijo (lo que significa que no tenemos que especificar qué tan grande será una lista) y no tienen una restricción de tipo de dato fijo (como hemos visto anteriormente).\n",
    "\n",
    "Avancemos y exploremos algunos métodos más especiales para las listas:"
   ]
  },
  {
   "cell_type": "code",
   "execution_count": null,
   "metadata": {},
   "outputs": [],
   "source": [
    "# Creando lista nueva\n",
    "lista1 = [1,2,3]"
   ]
  },
  {
   "cell_type": "markdown",
   "metadata": {
    "lang": "es"
   },
   "source": [
    "Use el método **append** para agregar permanentemente un elemento al final de una lista:"
   ]
  },
  {
   "cell_type": "code",
   "execution_count": null,
   "metadata": {},
   "outputs": [],
   "source": [
    "# Append\n",
    "lista1.append('agregame!')"
   ]
  },
  {
   "cell_type": "code",
   "execution_count": null,
   "metadata": {},
   "outputs": [],
   "source": [
    "# Muestro\n",
    "lista1"
   ]
  },
  {
   "cell_type": "markdown",
   "metadata": {
    "lang": "es"
   },
   "source": [
    "Use **pop** para \"quitar\" un elemento de la lista. De forma predeterminada, pop elimina el último índice, pero también puede especificar qué índice eliminar. Veamos un ejemplo:"
   ]
  },
  {
   "cell_type": "code",
   "execution_count": null,
   "metadata": {},
   "outputs": [],
   "source": [
    "# Quito el índice cero\n",
    "lista1.pop(0)"
   ]
  },
  {
   "cell_type": "code",
   "execution_count": null,
   "metadata": {},
   "outputs": [],
   "source": [
    "# Muestro\n",
    "lista1"
   ]
  },
  {
   "cell_type": "code",
   "execution_count": null,
   "metadata": {},
   "outputs": [],
   "source": [
    "# El elemento que se quita puede reasignarse, recuerde que por defecto el índice de pop es -1\n",
    "pop_elemento = lista1.pop()"
   ]
  },
  {
   "cell_type": "code",
   "execution_count": null,
   "metadata": {},
   "outputs": [],
   "source": [
    "pop_elemento"
   ]
  },
  {
   "cell_type": "code",
   "execution_count": null,
   "metadata": {},
   "outputs": [],
   "source": [
    "# Muestro lista resultante\n",
    "lista1"
   ]
  },
  {
   "cell_type": "markdown",
   "metadata": {
    "lang": "es"
   },
   "source": [
    "También debe tenerse en cuenta que la indexación de listas devolverá un error si no hay ningún elemento en ese índice. Por ejemplo:"
   ]
  },
  {
   "cell_type": "code",
   "execution_count": null,
   "metadata": {},
   "outputs": [],
   "source": [
    "lista1[100]"
   ]
  },
  {
   "cell_type": "markdown",
   "metadata": {
    "lang": "es"
   },
   "source": [
    "Podemos usar los métodso `sort()` y `reverse()` para afectar listas:"
   ]
  },
  {
   "cell_type": "code",
   "execution_count": null,
   "metadata": {},
   "outputs": [],
   "source": [
    "lista_nueva = ['a','e','x','b','c']"
   ]
  },
  {
   "cell_type": "code",
   "execution_count": null,
   "metadata": {},
   "outputs": [],
   "source": [
    "#Muestro\n",
    "lista_nueva"
   ]
  },
  {
   "cell_type": "code",
   "execution_count": null,
   "metadata": {},
   "outputs": [],
   "source": [
    "# Uso reverse para invertir el orden de los elementos (de forma permanente)\n",
    "lista_nueva.reverse()"
   ]
  },
  {
   "cell_type": "code",
   "execution_count": null,
   "metadata": {},
   "outputs": [],
   "source": [
    "lista_nueva"
   ]
  },
  {
   "cell_type": "code",
   "execution_count": null,
   "metadata": {},
   "outputs": [],
   "source": [
    "# Uso sort para ordenar los elementos (en este caso orden alfabéico, con números el orden es ascendente)\n",
    "lista_nueva.sort()"
   ]
  },
  {
   "cell_type": "code",
   "execution_count": null,
   "metadata": {},
   "outputs": [],
   "source": [
    "lista_nueva"
   ]
  },
  {
   "cell_type": "markdown",
   "metadata": {
    "lang": "es"
   },
   "source": [
    "El método <code>sort()</code> toma un argumento opcional para orden inverso. Esto es diferente a simplemente invertir el orden de los elementos de la lista."
   ]
  },
  {
   "cell_type": "code",
   "execution_count": null,
   "metadata": {},
   "outputs": [],
   "source": [
    "lista_nueva.sort(reverse=True)"
   ]
  },
  {
   "cell_type": "code",
   "execution_count": null,
   "metadata": {},
   "outputs": [],
   "source": [
    "lista_nueva"
   ]
  },
  {
   "cell_type": "markdown",
   "metadata": {
    "lang": "es"
   },
   "source": [
    "### Anidado\n",
    "Una gran característica de las estructuras de datos de Python es que admiten *anidación*. Esto significa que podemos tener estructuras de datos dentro de las estructuras de datos. Por ejemplo: una lista dentro de una lista."
   ]
  },
  {
   "cell_type": "code",
   "execution_count": null,
   "metadata": {},
   "outputs": [],
   "source": [
    "# Creemos 3 listas\n",
    "lst_1=[1,2,3]\n",
    "lst_2=[4,5,6]\n",
    "lst_3=[7,8,9]\n",
    "\n",
    "# Creemos una lista de listas para formar una \"matriz\"\n",
    "matrix = [lst_1,lst_2,lst_3]"
   ]
  },
  {
   "cell_type": "code",
   "execution_count": null,
   "metadata": {},
   "outputs": [],
   "source": [
    "# Muestro\n",
    "matrix"
   ]
  },
  {
   "cell_type": "markdown",
   "metadata": {
    "lang": "es"
   },
   "source": [
    "Es posible usar nuevamente la indexación para obtener elementos, pero ahora hay dos niveles para el índice. Los elementos en el objeto matriz, y luego los elementos dentro de esa lista."
   ]
  },
  {
   "cell_type": "code",
   "execution_count": null,
   "metadata": {},
   "outputs": [],
   "source": [
    "# Tomo el primer elemento de la matriz\n",
    "matrix[0]"
   ]
  },
  {
   "cell_type": "code",
   "execution_count": null,
   "metadata": {},
   "outputs": [],
   "source": [
    "# Tomo el primer elemento del primer elemento de la matriz\n",
    "matrix[0][0]"
   ]
  },
  {
   "cell_type": "markdown",
   "metadata": {
    "lang": "es"
   },
   "source": [
    "### Comprensión de listas\n",
    "Python tiene una característica avanzada llamada *comprensión de listas*, que permite la construcción rápida de las mismas. Para entender completamente las comprensiones de listas, debemos comprender los bucles. Así que no se preocupe si no comprende completamente esta sección, y siéntase libre de omitirla, ya que se volverá a este tema más adelante.\n",
    "\n",
    "Pero en caso de que quiera saber ahora, aquí hay un ejemplo."
   ]
  },
  {
   "cell_type": "code",
   "execution_count": null,
   "metadata": {},
   "outputs": [],
   "source": [
    "# Utilizo comprensión de lista al desconstruir un bucle \"for\" dentro de []\n",
    "primera_col = [fila[0] for fila in matrix]"
   ]
  },
  {
   "cell_type": "code",
   "execution_count": null,
   "metadata": {},
   "outputs": [],
   "source": [
    "primera_col"
   ]
  },
  {
   "cell_type": "markdown",
   "metadata": {
    "lang": "es"
   },
   "source": [
    "Usamos la comprensión de lista aquí para tomar el primer elemento de cada fila en el objeto matriz. Cubriremos esto con mucho más detalle más adelante."
   ]
  },
  {
   "cell_type": "markdown",
   "metadata": {
    "lang": "es"
   },
   "source": [
    "---\n",
    "## Diccionarios\n",
    "\n",
    "Hemos aprendido sobre *`secuencias`* en Python, pero ahora vamos a cambiar de marcha y aprender sobre *`mapeos`* en Python. Si está familiarizado con otros lenguajes, puede pensar en estos diccionarios como *tablas hash*.\n",
    "\n",
    "Esta sección servirá como una breve introducción a los diccionarios y tratará los temas:\n",
    "\n",
    "    1.) Creando diccionarios y acceso a objetos\n",
    "    2.) Diccionarios anidados\n",
    "    3.) Métodos básicos\n",
    "\n",
    "Entonces, ¿qué son los mapeos? Los mapeos o asignaciones son una colección de objetos que se almacenan con una *clave* (key), a diferencia de una secuencia que almacena objetos por su posición relativa. Esta es una distinción importante, ya que los mapeos no mantienen el orden, ya que tienen objetos definidos por una clave.\n",
    "\n",
    "Un diccionario de Python consta de una clave y luego un valor asociado. Ese valor puede ser casi cualquier objeto de Python.\n",
    "\n",
    "\n",
    "### Creando diccionarios\n",
    "Veamos cómo podemos construir diccionarios para comprender mejor cómo funcionan."
   ]
  },
  {
   "cell_type": "code",
   "execution_count": null,
   "metadata": {},
   "outputs": [],
   "source": [
    "# Los diccionarios se crean con {} y : para designar una clave y un valor\n",
    "mi_dic = {'clave1':'valor1','clave2':'valor2'}"
   ]
  },
  {
   "cell_type": "code",
   "execution_count": null,
   "metadata": {},
   "outputs": [],
   "source": [
    "# LLamo valores por su clave\n",
    "mi_dic['clave2']"
   ]
  },
  {
   "cell_type": "markdown",
   "metadata": {
    "lang": "es"
   },
   "source": [
    "Es importante tener en cuenta que los diccionarios son muy flexibles en los tipos de datos que pueden contener. Por ejemplo:"
   ]
  },
  {
   "cell_type": "code",
   "execution_count": null,
   "metadata": {},
   "outputs": [],
   "source": [
    "mi_dic = {'clave1':123,'clave2':[12,23,33],'clave3':['item0','item1','item2']}"
   ]
  },
  {
   "cell_type": "code",
   "execution_count": null,
   "metadata": {},
   "outputs": [],
   "source": [
    "# Llamos elementos del diccionario\n",
    "mi_dic['clave3']"
   ]
  },
  {
   "cell_type": "code",
   "execution_count": null,
   "metadata": {},
   "outputs": [],
   "source": [
    "# Se puede llamar índices dentro del valor\n",
    "mi_dic['clave3'][0]"
   ]
  },
  {
   "cell_type": "code",
   "execution_count": null,
   "metadata": {},
   "outputs": [],
   "source": [
    "# También es posible utilizar métodos en el valor\n",
    "mi_dic['clave3'][0].upper()"
   ]
  },
  {
   "cell_type": "markdown",
   "metadata": {
    "lang": "es"
   },
   "source": [
    "También podemos afectar los valores de una clave. Por ejemplo:"
   ]
  },
  {
   "cell_type": "code",
   "execution_count": null,
   "metadata": {},
   "outputs": [],
   "source": [
    "mi_dic['clave1']"
   ]
  },
  {
   "cell_type": "code",
   "execution_count": null,
   "metadata": {},
   "outputs": [],
   "source": [
    "# sustraigo 123 del valor\n",
    "mi_dic['clave1'] = mi_dic['clave1'] - 123"
   ]
  },
  {
   "cell_type": "code",
   "execution_count": null,
   "metadata": {},
   "outputs": [],
   "source": [
    "#Reviso\n",
    "mi_dic['clave1']"
   ]
  },
  {
   "cell_type": "markdown",
   "metadata": {
    "lang": "es"
   },
   "source": [
    "Una recordatorio rápido: Python tiene un método incorporado para hacer una auto resta o suma (o multiplicación o división). También podríamos haber usado `+=` o `-=` para la declaración anterior. Por ejemplo:"
   ]
  },
  {
   "cell_type": "code",
   "execution_count": null,
   "metadata": {},
   "outputs": [],
   "source": [
    "# Reasigno el objeto a su mismo valor menos 123\n",
    "mi_dic['clave1']-= 123\n",
    "mi_dic['clave1']"
   ]
  },
  {
   "cell_type": "markdown",
   "metadata": {
    "lang": "es"
   },
   "source": [
    "Crear claves por asignación también es posible. Por ejemplo, si comenzamos con un diccionario vacío, podríamos agregar elementos continuamente:"
   ]
  },
  {
   "cell_type": "code",
   "execution_count": null,
   "metadata": {},
   "outputs": [],
   "source": [
    "# Creo un diccionario nuevo\n",
    "d = {}"
   ]
  },
  {
   "cell_type": "code",
   "execution_count": null,
   "metadata": {},
   "outputs": [],
   "source": [
    "# Creo una nueva clave por asignación\n",
    "d['animal'] = 'Perro'"
   ]
  },
  {
   "cell_type": "code",
   "execution_count": null,
   "metadata": {},
   "outputs": [],
   "source": [
    "# Puedo hacer esto con cualquier objeto\n",
    "d['respuesta definitiva'] = 42"
   ]
  },
  {
   "cell_type": "code",
   "execution_count": null,
   "metadata": {},
   "outputs": [],
   "source": [
    "#Muestro\n",
    "d"
   ]
  },
  {
   "cell_type": "markdown",
   "metadata": {
    "lang": "es"
   },
   "source": [
    "### Diccionarios anidados\n",
    "\n",
    "Ya debería ser evidente cuan poderoso es Python como elguaje por su flexibilidad de anidar objetos y llamar métodos sobre ellos. Revisemos un diccionario anidado dentro de un diccionario:"
   ]
  },
  {
   "cell_type": "code",
   "execution_count": null,
   "metadata": {},
   "outputs": [],
   "source": [
    "# Diccionario anidado\n",
    "d = {'clave1':{'claveanidada':{'clavesubanidada':'valor'}}}"
   ]
  },
  {
   "cell_type": "code",
   "execution_count": null,
   "metadata": {},
   "outputs": [],
   "source": [
    "# Llamo a todas las claves\n",
    "d['clave1']['claveanidada']['clavesubanidada']"
   ]
  },
  {
   "cell_type": "markdown",
   "metadata": {
    "lang": "es"
   },
   "source": [
    "### Métodos básicos\n",
    "\n",
    "Hay algunos métodos a los que se puede recurrir en un diccionario. Veamos una breve introducción a algunos de ellos:"
   ]
  },
  {
   "cell_type": "code",
   "execution_count": null,
   "metadata": {},
   "outputs": [],
   "source": [
    "# Creamos un diccionario común\n",
    "d = {'clave1':1,'clave2':2,'clave3':3}"
   ]
  },
  {
   "cell_type": "code",
   "execution_count": null,
   "metadata": {},
   "outputs": [],
   "source": [
    "# Método que devuelve todas las claves\n",
    "d.keys()"
   ]
  },
  {
   "cell_type": "code",
   "execution_count": null,
   "metadata": {},
   "outputs": [],
   "source": [
    "# Método que devuelve todos los valores\n",
    "d.values()"
   ]
  },
  {
   "cell_type": "code",
   "execution_count": null,
   "metadata": {},
   "outputs": [],
   "source": [
    "# Método que devuelve los pares clave-valor como tuplas (en la próxima sección se habla sobre ellas)\n",
    "d.items()"
   ]
  },
  {
   "cell_type": "markdown",
   "metadata": {
    "lang": "es"
   },
   "source": [
    "---\n",
    "## Tuplas\n",
    "\n",
    "En Python, las tuplas son muy similares a las listas, sin embargo, a diferencia de las listas, son *inmutables*, lo que significa que no se pueden cambiar. Las tuplas se utilizan para presentar cosas que no deberían cambiarse, como los días de la semana o las fechas en un calendario.\n",
    "\n",
    "En esta sección, se discuten los temas:\n",
    "\n",
    "    1.) Creando Tuplas\n",
    "    2.) Métodos básicos\n",
    "    3.) Inmutabilidad\n",
    "    4.) Cuándo utilizarlas\n",
    "\n",
    "Tendrás una intuición de cómo usar las tuplas en función de lo que has aprendido sobre las listas. Podemos tratarlos de manera muy similar, con la distinción principal de que las tuplas son inmutables.\n",
    "\n",
    "### Creando tuplas\n",
    "\n",
    "Para construir una tupla se usan paréntesis () con elementos separados por comas. Por ejemplo:"
   ]
  },
  {
   "cell_type": "code",
   "execution_count": null,
   "metadata": {},
   "outputs": [],
   "source": [
    "# Creando tupla\n",
    "t = (1,2,3)"
   ]
  },
  {
   "cell_type": "code",
   "execution_count": null,
   "metadata": {},
   "outputs": [],
   "source": [
    "# Reviso su longitud como con una lista o string\n",
    "len(t)"
   ]
  },
  {
   "cell_type": "code",
   "execution_count": null,
   "metadata": {},
   "outputs": [],
   "source": [
    "# También puedo mezclar tipos de objetos\n",
    "t = ('uno',2)\n",
    "\n",
    "# Muestro\n",
    "t"
   ]
  },
  {
   "cell_type": "code",
   "execution_count": null,
   "metadata": {},
   "outputs": [],
   "source": [
    "# Los índices son válidos como con las listas\n",
    "t[0]"
   ]
  },
  {
   "cell_type": "code",
   "execution_count": null,
   "metadata": {},
   "outputs": [],
   "source": [
    "\n",
    "t[-1]"
   ]
  },
  {
   "cell_type": "markdown",
   "metadata": {
    "lang": "es"
   },
   "source": [
    "### Métodos básicos\n",
    "\n",
    "Las tuplas tienen métodos incorporados, pero no tantos como las listas. Veamos dos de ellos:"
   ]
  },
  {
   "cell_type": "code",
   "execution_count": null,
   "metadata": {},
   "outputs": [],
   "source": [
    "# Uso .index para ingresar un valor y que se retorne el índice\n",
    "t.index('uno')"
   ]
  },
  {
   "cell_type": "code",
   "execution_count": null,
   "metadata": {},
   "outputs": [],
   "source": [
    "# Uso .count para contar el número de veces que aparece un valor\n",
    "t.count('uno')"
   ]
  },
  {
   "cell_type": "markdown",
   "metadata": {
    "lang": "es"
   },
   "source": [
    "### Inmutabilidad\n",
    "\n",
    "No se puede enfatizar lo suficiente que las tuplas son inmutables."
   ]
  },
  {
   "cell_type": "code",
   "execution_count": null,
   "metadata": {},
   "outputs": [],
   "source": [
    "t[0]= 'cambio'"
   ]
  },
  {
   "cell_type": "markdown",
   "metadata": {
    "lang": "es"
   },
   "source": [
    "Debido a esta inmutabilidad, las tuplas no pueden crecer. Una vez que se crea una tupla, no es posible agregarle elementos."
   ]
  },
  {
   "cell_type": "code",
   "execution_count": null,
   "metadata": {},
   "outputs": [],
   "source": [
    "t.append('Nope')"
   ]
  },
  {
   "cell_type": "markdown",
   "metadata": {
    "lang": "es"
   },
   "source": [
    "### Cuando utilizar tuplas\n",
    "\n",
    "¿Por qué molestarse con tuplas cuando tienen menos métodos disponibles que las listas? Las tuplas no se usan con tanta frecuencia como las listas en la programación, pero se usan cuando la inmutabilidad es necesaria. Si su programa está pasando un objeto y necesita asegurarse de que no cambie, entonces una tupla se convierte en solución. Proporciona una fuente conveniente de integridad de datos. Es común utilizar tupas como argumento de entrada para funciones."
   ]
  },
  {
   "cell_type": "markdown",
   "metadata": {
    "lang": "es"
   },
   "source": [
    "---\n",
    "## Conjuntos y variables lógicas\n",
    "\n",
    "Hay otros dos tipos de objetos en Python que deben cubrirse rápidamente: Conjuntos y Booleanos. También llamados \"*sets*\" y \"*booleans*\" en inglés.\n",
    "\n",
    "### Conjuntos\n",
    "\n",
    "Los conjuntos son una colección desordenada de *elementos* únicos. Podemos construirlos usando la función `set()`."
   ]
  },
  {
   "cell_type": "code",
   "execution_count": null,
   "metadata": {},
   "outputs": [],
   "source": [
    "x = set()"
   ]
  },
  {
   "cell_type": "code",
   "execution_count": null,
   "metadata": {},
   "outputs": [],
   "source": [
    "# Agregamos elementos al set mediante add()\n",
    "x.add(1)"
   ]
  },
  {
   "cell_type": "code",
   "execution_count": null,
   "metadata": {},
   "outputs": [],
   "source": [
    "#Muestro\n",
    "x"
   ]
  },
  {
   "cell_type": "markdown",
   "metadata": {
    "lang": "es"
   },
   "source": [
    "Observe los corchetes pero tenga en claro que esto no indica un diccionario. Otra forma de crear un set es siguiendo la sintaxis `s = {1}`.\n",
    "\n",
    "Sabemos que un conjunto tiene entradas únicas. Veamos que sucede cuando intentamos agregar algo que ya está en un conjunto."
   ]
  },
  {
   "cell_type": "code",
   "execution_count": null,
   "metadata": {},
   "outputs": [],
   "source": [
    "# Agregamos un elemento distinto\n",
    "x.add(2)"
   ]
  },
  {
   "cell_type": "code",
   "execution_count": null,
   "metadata": {},
   "outputs": [],
   "source": [
    "#Muestro\n",
    "x"
   ]
  },
  {
   "cell_type": "code",
   "execution_count": null,
   "metadata": {},
   "outputs": [],
   "source": [
    "# Intento agregar un elemento repetido\n",
    "x.add(1)"
   ]
  },
  {
   "cell_type": "code",
   "execution_count": null,
   "metadata": {},
   "outputs": [],
   "source": [
    "#Muestro\n",
    "x"
   ]
  },
  {
   "cell_type": "markdown",
   "metadata": {
    "lang": "es"
   },
   "source": [
    "No es posible agregar otro '1'. Esto se debe a que un conjunto solo permite elementos únicos. Podemos transformar una lista con varios elementos repetidos a un conjunto, para obtener los elementos sin repetir. Por ejemplo:"
   ]
  },
  {
   "cell_type": "code",
   "execution_count": null,
   "metadata": {},
   "outputs": [],
   "source": [
    "# Creo lista con repeticiones\n",
    "lista1 = [1,1,2,2,3,4,5,6,1,1]"
   ]
  },
  {
   "cell_type": "code",
   "execution_count": null,
   "metadata": {},
   "outputs": [],
   "source": [
    "# Llamo a set() para quedarme con el conjunto de elementos sin repetir\n",
    "set(lista1)"
   ]
  },
  {
   "cell_type": "markdown",
   "metadata": {
    "lang": "es"
   },
   "source": [
    "### Booleanos\n",
    "\n",
    "Python viene con booleanos (`True` y `False` predefinidos que son básicamente los enteros 1 y 0). También tiene un objeto marcador de posición (placeholder) llamado `None`. A continuación se presentan algunos ejemplos rápidos de booleanos."
   ]
  },
  {
   "cell_type": "code",
   "execution_count": null,
   "metadata": {},
   "outputs": [],
   "source": [
    "# Asigno un booleano a la variable \"a\"\n",
    "a = True"
   ]
  },
  {
   "cell_type": "code",
   "execution_count": null,
   "metadata": {},
   "outputs": [],
   "source": [
    "#Muestro\n",
    "a"
   ]
  },
  {
   "cell_type": "markdown",
   "metadata": {
    "lang": "es"
   },
   "source": [
    "También se utilizan operadores de comparación para crear booleanos. Se revisarán todos los operadores de comparación más adelante."
   ]
  },
  {
   "cell_type": "code",
   "execution_count": null,
   "metadata": {},
   "outputs": [],
   "source": [
    "# La salida es booleana\n",
    "1 > 2"
   ]
  },
  {
   "cell_type": "markdown",
   "metadata": {
    "lang": "es"
   },
   "source": [
    "Se utiliza None como placeholder para un objeto que aún no queremos reasignar:"
   ]
  },
  {
   "cell_type": "code",
   "execution_count": null,
   "metadata": {},
   "outputs": [],
   "source": [
    "# None placeholder\n",
    "b = None"
   ]
  },
  {
   "cell_type": "code",
   "execution_count": null,
   "metadata": {},
   "outputs": [],
   "source": [
    "# Muestro\n",
    "print(b)"
   ]
  }
 ],
 "metadata": {
  "kernelspec": {
   "display_name": "Python 3",
   "language": "python",
   "name": "python3"
  },
  "language_info": {
   "codemirror_mode": {
    "name": "ipython",
    "version": 3
   },
   "file_extension": ".py",
   "mimetype": "text/x-python",
   "name": "python",
   "nbconvert_exporter": "python",
   "pygments_lexer": "ipython3",
   "version": "3.7.6"
  },
  "latex_envs": {
   "LaTeX_envs_menu_present": true,
   "autoclose": false,
   "autocomplete": true,
   "bibliofile": "biblio.bib",
   "cite_by": "apalike",
   "current_citInitial": 1,
   "eqLabelWithNumbers": true,
   "eqNumInitial": 1,
   "hotkeys": {
    "equation": "Ctrl-E",
    "itemize": "Ctrl-I"
   },
   "labels_anchors": false,
   "latex_user_defs": false,
   "report_style_numbering": false,
   "user_envs_cfg": false
  },
  "nbTranslate": {
   "displayLangs": [
    "es"
   ],
   "hotkey": "alt-t",
   "langInMainMenu": true,
   "sourceLang": "en",
   "targetLang": "es",
   "useGoogleTranslate": true
  }
 },
 "nbformat": 4,
 "nbformat_minor": 2
}
