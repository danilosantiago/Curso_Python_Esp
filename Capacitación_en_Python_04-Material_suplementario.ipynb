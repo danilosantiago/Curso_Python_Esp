{
 "cells": [
  {
   "cell_type": "markdown",
   "metadata": {},
   "source": [
    "<img src=\"images\\crisil_logo.png\" align=\"right\" border=\"0\"><br>\n",
    "\n",
    "\n",
    "# Capacitación en Python 04 - Material suplementario\n",
    "     \n",
    "En este cuaderno se presenta material suplementario para el cuaderno \"Capacitación en Python 04 - Métodos y funciones\". Lea atentamente el cuaderno y corra el código en cada celda para visualizar su salida."
   ]
  },
  {
   "cell_type": "markdown",
   "metadata": {
    "lang": "es"
   },
   "source": [
    "---\n",
    "## Declaraciones anidadas y alcance\n",
    "\n",
    "En esta sección se discute cómo Python maneja los nombres de variables que asigna. Cuando crea el nombre de variable en Python, el nombre se almacena en un *name-space*. Los name-spaces de las variables también tienen un *alcance*, el alcance determina la visibilidad de ese nombre de variable para otras partes de su código."
   ]
  },
  {
   "cell_type": "code",
   "execution_count": null,
   "metadata": {},
   "outputs": [],
   "source": [
    "x = 25\n",
    "\n",
    "def imprimir():\n",
    "    x = 50\n",
    "    return x\n",
    "\n",
    "# print(x)\n",
    "# print(imprimir())"
   ]
  },
  {
   "cell_type": "markdown",
   "metadata": {
    "lang": "es"
   },
   "source": [
    "¿Cómo será la salida en cada caso?"
   ]
  },
  {
   "cell_type": "code",
   "execution_count": null,
   "metadata": {},
   "outputs": [],
   "source": [
    "print(x)"
   ]
  },
  {
   "cell_type": "code",
   "execution_count": null,
   "metadata": {},
   "outputs": [],
   "source": [
    "print(imprimir())"
   ]
  },
  {
   "cell_type": "markdown",
   "metadata": {
    "lang": "es"
   },
   "source": [
    "¿Cómo sabe Python a qué `x `se refiere en su código? Aquí es donde entra en juego la idea del alcance. Python tiene un conjunto de reglas que sigue para decidir a qué variables (como `x` en este caso) está haciendo referencia en su código."
   ]
  },
  {
   "cell_type": "markdown",
   "metadata": {
    "lang": "es"
   },
   "source": [
    "La idea de alcance es importante para para poder asignar y llamar adecuadamente nombres de variables.\n",
    "\n",
    "En términos simples, la idea del alcance se puede describir mediante 3 reglas generales:\n",
    "\n",
    "1. Las asignaciones de nombres crean o cambian nombres locales por defecto.\n",
    "2. Las referencias a nombres se buscan (como máximo) en cuatro ámbitos, estos son:\n",
    "    * local\n",
    "    * ámbitos locales de funciones que lo encierran\n",
    "    * global\n",
    "    * incorporado (variables predeterminadas en Python)\n",
    "3. Los nombres declarados en declaraciones globales y no-locales *mapean* los nombres asignados al módulo adjunto (es decir, son visibles por todo el código del módulo) y al alcance de cada función.\n",
    "\n",
    "La declaración n.°2 anterior se puede definir mediante la regla LEGB."
   ]
  },
  {
   "cell_type": "markdown",
   "metadata": {},
   "source": [
    "<img src=\"images/legb_rule1.jpg\" align=\"center\" width='600' border=\"0\"><br>"
   ]
  },
  {
   "cell_type": "markdown",
   "metadata": {},
   "source": [
    "**Regla LEGB:**\n",
    "\n",
    "L: Local: nombres asignados de cualquier forma dentro de una función (`def` o lambda), y no declarados como globales en esa función.\n",
    "\n",
    "E: (Enclosing function locals) Ámbitos locales de funciones que lo encierran: nombres en el ámbito local de todas y cada una de las funciones que lo encierran (def o lambda), desde internos a externos.\n",
    "\n",
    "G: (Global) Todo el módulo: nombres asignados en el nivel superior de un archivo de módulo o declarados como globales en una definición dentro del archivo.\n",
    "\n",
    "B: (Built-in) Incorporado en todo Python: nombres preasignados en el módulo de nombres integrado: `open`, `range`, `SyntaxError`, ...\n",
    "\n",
    "Es muy posible que todo esto sea difícil de entender, por lo que se presentan algunos ejemplos."
   ]
  },
  {
   "cell_type": "markdown",
   "metadata": {},
   "source": [
    "### Ejemplos  rápidos de la regla LEGB\n",
    "\n",
    "### Local"
   ]
  },
  {
   "cell_type": "code",
   "execution_count": null,
   "metadata": {},
   "outputs": [],
   "source": [
    "# x es local, sólo se utiliza dentro de la expresión lambda\n",
    "f = lambda x:x**2"
   ]
  },
  {
   "cell_type": "markdown",
   "metadata": {
    "lang": "es"
   },
   "source": [
    "### Ámbitos locales de funciones que lo encierran\n",
    "Esto ocurre cuando tenemos una función dentro de una función (funciones anidadas)"
   ]
  },
  {
   "cell_type": "code",
   "execution_count": null,
   "metadata": {},
   "outputs": [],
   "source": [
    "nombre = 'Esto es una variable global' # es visible para todo el módulo\n",
    "\n",
    "def saludos():\n",
    "    # Función sobre\n",
    "    nombre = 'Miguel'\n",
    "    \n",
    "    def hola():\n",
    "        print('Hola '+nombre)\n",
    "    \n",
    "    hola()\n",
    "\n",
    "saludos()"
   ]
  },
  {
   "cell_type": "markdown",
   "metadata": {},
   "source": [
    "La función `hola()` busca primero en su ámbito local, pero no encuentra ninguna variable llamada `nombre`. Entonces busca en el ámbito local de las funciones que la encierran, como es el caso de `saludos()`. Encuentra a la variable `nombre` en el name-space de `saludos()` y la utiliza."
   ]
  },
  {
   "cell_type": "markdown",
   "metadata": {
    "lang": "es"
   },
   "source": [
    "### Global\n",
    "Por suerte, en Jupyter, una forma rápida de comprobar si la variable es global es ver si otra celda reconoce la variable."
   ]
  },
  {
   "cell_type": "code",
   "execution_count": null,
   "metadata": {},
   "outputs": [],
   "source": [
    "print(nombre)"
   ]
  },
  {
   "cell_type": "markdown",
   "metadata": {
    "lang": "es"
   },
   "source": [
    "### Incorporado en Python\n",
    "Estos son los nombres de funciones incorporados en Python por defecto, NO LOS SOBRESCRIBA."
   ]
  },
  {
   "cell_type": "code",
   "execution_count": null,
   "metadata": {},
   "outputs": [],
   "source": [
    "len"
   ]
  },
  {
   "cell_type": "markdown",
   "metadata": {
    "lang": "es"
   },
   "source": [
    "---\n",
    "\n",
    "## Variables locales\n",
    "Cuando declara variables dentro de la definición de una función, no están relacionadas de ninguna manera con otras variables con los mismos nombres utilizados fuera de la función, es decir, los nombres de las variables son locales para la función. Esto se llama el alcance de la variable. Todas las variables tienen el alcance del bloque en el que se declaran a partir del punto de definición del nombre.\n",
    "\n",
    "Ejemplo:"
   ]
  },
  {
   "cell_type": "code",
   "execution_count": null,
   "metadata": {},
   "outputs": [],
   "source": [
    "x = 50\n",
    "\n",
    "def func(x):\n",
    "    print('x es', x)\n",
    "    x = 2\n",
    "    print('cambio ahora a x local', x)\n",
    "\n",
    "func(x)\n",
    "print('x sigue siendo', x)"
   ]
  },
  {
   "cell_type": "markdown",
   "metadata": {
    "lang": "es"
   },
   "source": [
    "La primera vez que se imprime el valor del nombre `x` con la primera línea en el cuerpo de la función, Python usa el valor del parámetro declarado en el bloque principal del código, por encima de la definición de la función.\n",
    "\n",
    "Luego, se asigna el valor 2 a `x`. El nombre `x` es local para nuestra función. Entonces, cuando cambiamos el valor de `x` en la función, la `x` definida en el bloque principal no se ve afectada.\n",
    "\n",
    "Con la última declaración de impresión, se muestra el valor de `x` como se define en el bloque principal, lo que confirma que en realidad no se ve afectado por la asignación local dentro de la función previamente llamada.\n",
    "\n",
    "## La declaración <code>global</code>\n",
    "\n",
    "Para asignar un valor a un nombre definido en el nivel superior del programa (es decir, fuera del alcance de funciones o clases), se le dice a Python que el nombre no es local, pero es global. Esto se realiza usando la declaración <code>global</code>. Es imposible **ASIGNAR** un valor a una variable definida fuera de una función, sin la declaración global.\n",
    "\n",
    "Es posible **UTILIZAR** los valores de tales variables definidas fuera de la función (suponiendo que no haya una variable con el mismo nombre dentro de la función). Sin embargo, esto no se recomienda y debe evitarse ya que no está claro para el lector del programa cuál es la definición de esa variable. El uso de la instrucción <code>global</code> deja en claro que la variable se define en un bloque más externo.\n",
    "\n",
    "Ejemplo:"
   ]
  },
  {
   "cell_type": "code",
   "execution_count": null,
   "metadata": {},
   "outputs": [],
   "source": [
    "x = 50\n",
    "\n",
    "def func():\n",
    "    global x\n",
    "    print('Esta función usa la x global')\n",
    "    print('Gracias a global x es: ', x)\n",
    "    x = 2\n",
    "    print('Corrí func(), cambiando la x global a', x)\n",
    "\n",
    "print('Antes de llamar la función func(), x es: ', x)\n",
    "func()\n",
    "print('Valor de x (afuera de func()) es: ', x)"
   ]
  },
  {
   "cell_type": "markdown",
   "metadata": {
    "lang": "es"
   },
   "source": [
    "La declaración <code>global</code> se usa para declarar que `x` es una variable global; por lo tanto, cuando asignamos un valor a `x` dentro de la función, ese cambio se refleja cuando usamos el valor de `x` en el bloque principal.\n",
    "\n",
    "Para especificar más de una variable global utilizando la misma declaración se escribe <code>global x, y, z</code>."
   ]
  },
  {
   "cell_type": "markdown",
   "metadata": {
    "lang": "es"
   },
   "source": [
    "---\n",
    "\n",
    "## `*args` y`**kwargs`\n",
    "\n",
    "Al encontrar con Python el tiempo suficiente eventualmente se encontrará con `*args` y` **kwargs`. Estos términos extraños aparecen como parámetros en las definiciones de funciones."
   ]
  },
  {
   "cell_type": "code",
   "execution_count": null,
   "metadata": {},
   "outputs": [],
   "source": [
    "def mifunc(a,b):\n",
    "    return sum((a,b))*.05\n",
    "\n",
    "mifunc(40,60)"
   ]
  },
  {
   "cell_type": "markdown",
   "metadata": {
    "lang": "es"
   },
   "source": [
    "Esta función devuelve el 5% de la suma de `a` y `b`. En este ejemplo, `a` y `b` son *argumentos posicionales*; es decir, 40 se asigna a `a` porque es el primer argumento, y 60 a `b`. Es importante notar que para trabajar con argumentos posicionales múltiples en la función `sum()` fue necesario pasarlos como una tupla.\n",
    "\n",
    "¿Qué pasa si se desea trabajar con más de dos números? Una manera es asignar un *lote* de parámetros y asignar a cada uno un valor predeterminado."
   ]
  },
  {
   "cell_type": "code",
   "execution_count": null,
   "metadata": {},
   "outputs": [],
   "source": [
    "def mifunc(a=0,b=0,c=0,d=0,e=0):\n",
    "    return sum((a,b,c,d,e))*.05\n",
    "\n",
    "mifunc(40,60,20) # al ingresor parametros extra, los argumentos de entrada a ,b y c dejan de ser cero"
   ]
  },
  {
   "cell_type": "markdown",
   "metadata": {
    "lang": "es"
   },
   "source": [
    "Evidentemente, esta no es una solución muy eficiente, y ahí es donde entra `*args`.\n",
    "\n",
    "## `*args`\n",
    "\n",
    "Cuando un parámetro de función comienza con un asterisco, permite un *número arbitrario* de argumentos, y la función los toma como una tupla de valores. Reescribiendo la función anterior:"
   ]
  },
  {
   "cell_type": "code",
   "execution_count": null,
   "metadata": {},
   "outputs": [],
   "source": [
    "def mifunc(*args):\n",
    "    return sum(args)*.05\n",
    "\n",
    "mifunc(40,60,20)"
   ]
  },
  {
   "cell_type": "markdown",
   "metadata": {
    "lang": "es"
   },
   "source": [
    "Observe cómo pasar la palabra clave \"args\" a la función `sum()` tiene el mismo resultado que una tupla de argumentos.\n",
    "\n",
    "Vale la pena señalar que la palabra \"args\" es en sí misma arbitraria: cualquier palabra funciona siempre que esté precedida por un asterisco. Para demostrar esto:"
   ]
  },
  {
   "cell_type": "code",
   "execution_count": null,
   "metadata": {},
   "outputs": [],
   "source": [
    "def myfunc(*spam):\n",
    "    return sum(spam)*.05\n",
    "\n",
    "mifunc(40,60,20)"
   ]
  },
  {
   "cell_type": "markdown",
   "metadata": {
    "lang": "es"
   },
   "source": [
    "## `**kwargs`\n",
    "\n",
    "Del mismo modo, Python ofrece una manera de manejar números arbitrarios de *argumentos con palabras clave*. En lugar de crear una tupla de valores, `**kwargs` crea un diccionario de pares clave/valor. Por ejemplo:"
   ]
  },
  {
   "cell_type": "code",
   "execution_count": null,
   "metadata": {},
   "outputs": [],
   "source": [
    "def mifunc(**kwargs):\n",
    "    if 'fruta' in kwargs:\n",
    "        print(f\"Mi fruta favorita es la {kwargs['fruta']}\")\n",
    "    else:\n",
    "        print(\"No me gusta la fruta\")\n",
    "        \n",
    "mifunc(fruta='naranja')"
   ]
  },
  {
   "cell_type": "code",
   "execution_count": null,
   "metadata": {},
   "outputs": [],
   "source": [
    "mifunc()"
   ]
  },
  {
   "cell_type": "markdown",
   "metadata": {
    "lang": "es"
   },
   "source": [
    "## `*args` y`* *kwargs` combinados\n",
    "\n",
    "Es común usar `* args` y` **kwargs` en la misma función, pero `* args` siempre debe aparecer antes de`** kwargs`"
   ]
  },
  {
   "cell_type": "code",
   "execution_count": null,
   "metadata": {},
   "outputs": [],
   "source": [
    "def mifunc(*args, **kwargs):\n",
    "    if 'fruta' and 'jugo' in kwargs:\n",
    "        print(f\"Me gusta {', '.join(args)} y mi fruta favorita es la {kwargs['fruta']}\")\n",
    "        print(f\"¿Puedo pedir un poco de juego de {kwargs['jugo']}?\")\n",
    "    else:\n",
    "        pass\n",
    "        \n",
    "mifunc('dormir','comer',fruta='naranja',jugo='pomelo')"
   ]
  },
  {
   "cell_type": "markdown",
   "metadata": {
    "lang": "es"
   },
   "source": [
    "Colocar argumentos con palabras clave antes que los argumentos posicionales genera un error:"
   ]
  },
  {
   "cell_type": "code",
   "execution_count": null,
   "metadata": {},
   "outputs": [],
   "source": [
    "myfunc(fruta='sandia',jugo='zanahoria','dormir','correr')"
   ]
  },
  {
   "cell_type": "markdown",
   "metadata": {
    "lang": "es"
   },
   "source": [
    "Al igual que con \"args\", se puede usar cualquier nombre que desee para argumentos tipo \"kwargs\".  Su uso es solo una convención popular."
   ]
  }
 ],
 "metadata": {
  "kernelspec": {
   "display_name": "Python 3",
   "language": "python",
   "name": "python3"
  },
  "language_info": {
   "codemirror_mode": {
    "name": "ipython",
    "version": 3
   },
   "file_extension": ".py",
   "mimetype": "text/x-python",
   "name": "python",
   "nbconvert_exporter": "python",
   "pygments_lexer": "ipython3",
   "version": "3.7.6"
  },
  "latex_envs": {
   "LaTeX_envs_menu_present": true,
   "autoclose": false,
   "autocomplete": true,
   "bibliofile": "biblio.bib",
   "cite_by": "apalike",
   "current_citInitial": 1,
   "eqLabelWithNumbers": true,
   "eqNumInitial": 1,
   "hotkeys": {
    "equation": "Ctrl-E",
    "itemize": "Ctrl-I"
   },
   "labels_anchors": false,
   "latex_user_defs": false,
   "report_style_numbering": false,
   "user_envs_cfg": false
  },
  "nbTranslate": {
   "displayLangs": [
    "es"
   ],
   "hotkey": "alt-t",
   "langInMainMenu": true,
   "sourceLang": "en",
   "targetLang": "es",
   "useGoogleTranslate": true
  }
 },
 "nbformat": 4,
 "nbformat_minor": 2
}
