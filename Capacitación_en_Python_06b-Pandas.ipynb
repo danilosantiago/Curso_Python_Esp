{
 "cells": [
  {
   "cell_type": "markdown",
   "metadata": {},
   "source": [
    "<img src=\"images\\crisil_logo.png\" align=\"right\" border=\"0\"><br>\n",
    "\n",
    "\n",
    "# Capacitación en Python 06b - Pandas\n",
    "\n",
    "En el siguiente cuaderno se presenta una introducción a la librería Pandas. Lea atentamente el cuaderno y corra el código en cada celda para visualizar su salida. Un aviso, es necesario estar conectado a internet para poder correr las celdas con métodos de lectura de tablas HTML."
   ]
  },
  {
   "cell_type": "markdown",
   "metadata": {},
   "source": [
    "---\n",
    "## Pandas\n",
    "\n",
    "<img src=\"images\\pandas.png\" align=\"left\" width=\"390\" border=\"0\"><br>\n",
    "\n",
    "\n",
    "Pandas es una biblioteca ampliamente utilizada en el analisis de datos, desarrollada específicamente para su extracción y preparacion. \n",
    "\n",
    "Proporciona estructuras de datos de alto nivel y una gran variedad de herramientas para el analisis de datos. Tambien proporciona muchos metodos incorporados para combinar y filtrar datos."
   ]
  },
  {
   "cell_type": "markdown",
   "metadata": {},
   "source": [
    "En el cuaderno se discute sobre los siguientes temas:\n",
    "\n",
    "1. Series\n",
    "2. DataFrames\n",
    "3. Entrada y salida de datos"
   ]
  },
  {
   "cell_type": "markdown",
   "metadata": {
    "lang": "es"
   },
   "source": [
    "---\n",
    "## Series\n",
    "La primer estructura de datos de Pandas a aprender son los `Series`. Una serie es muy similar a un array de NumPy (de hecho, está construida sobre el objeto array de NumPy). Lo que diferencia el array de NumPy de un objeto Series es que las series pueden tener etiquetas de eje (*labels*), lo que significa que pueden ser indexadas por una etiqueta, en lugar de solo una ubicación numérica. Tampoco necesita contener datos numéricos, puede contener cualquier objeto arbitratio de Python."
   ]
  },
  {
   "cell_type": "code",
   "execution_count": null,
   "metadata": {},
   "outputs": [],
   "source": [
    "import pandas as pd #se importa pandas de manera similar a Numpy, por convención su alias es \"pd\"\n",
    "import numpy as np # es común utilizarla en conjunto con pandas"
   ]
  },
  {
   "cell_type": "markdown",
   "metadata": {},
   "source": [
    "### Creando Series\n",
    "\n",
    "Es posible convertir una lista, un array de NumPy, o un diccionario a un objeto Series:\n",
    "\\"
   ]
  },
  {
   "cell_type": "code",
   "execution_count": null,
   "metadata": {},
   "outputs": [],
   "source": [
    "labels_example = ['a','b','c']\n",
    "list_example = [10,20,30]\n",
    "dictionary_example = {'a':10,'b':20,'c':30}\n",
    "arr_example = np.array([10,20,30])"
   ]
  },
  {
   "cell_type": "markdown",
   "metadata": {},
   "source": [
    "**Listas**"
   ]
  },
  {
   "cell_type": "code",
   "execution_count": null,
   "metadata": {},
   "outputs": [],
   "source": [
    "pd.Series(data=list_example) # sin especificar etiquetas"
   ]
  },
  {
   "cell_type": "code",
   "execution_count": null,
   "metadata": {},
   "outputs": [],
   "source": [
    "pd.Series(data=list_example,index=labels_example) # Las etiquetas se ingresan con el argumento 'index'"
   ]
  },
  {
   "cell_type": "code",
   "execution_count": null,
   "metadata": {},
   "outputs": [],
   "source": [
    "pd.Series(list_example,labels_example) #ingresando argumentos por orden"
   ]
  },
  {
   "cell_type": "markdown",
   "metadata": {},
   "source": [
    "**Arreglos de NumPy**"
   ]
  },
  {
   "cell_type": "code",
   "execution_count": null,
   "metadata": {},
   "outputs": [],
   "source": [
    "pd.Series(arr_example)"
   ]
  },
  {
   "cell_type": "code",
   "execution_count": null,
   "metadata": {},
   "outputs": [],
   "source": [
    "pd.Series(arr_example,labels_example)"
   ]
  },
  {
   "cell_type": "markdown",
   "metadata": {},
   "source": [
    "**Diccionarios**"
   ]
  },
  {
   "cell_type": "code",
   "execution_count": null,
   "metadata": {},
   "outputs": [],
   "source": [
    "pd.Series(dictionary_example)"
   ]
  },
  {
   "cell_type": "markdown",
   "metadata": {},
   "source": [
    "### Tipos de datos en  Series\n",
    "\n",
    "Un objeto `Series` tiene la capacidad de contener una variedad de tipos de datos."
   ]
  },
  {
   "cell_type": "code",
   "execution_count": null,
   "metadata": {},
   "outputs": [],
   "source": [
    "pd.Series(data=labels_example) # ahora utilizo las etiquetas como mis datos"
   ]
  },
  {
   "cell_type": "code",
   "execution_count": null,
   "metadata": {},
   "outputs": [],
   "source": [
    "# Inclusive funciones ( aunque es poco probable utilizar esto)\n",
    "pd.Series([print,len])"
   ]
  },
  {
   "cell_type": "markdown",
   "metadata": {
    "lang": "es"
   },
   "source": [
    "### Utilizando índices\n",
    "\n",
    "Pandas utiliza índices para recuperar y operar sobre valores de estructuras de datos. Hace uso de estos números, o de los valores de los índices, para una recuperación y operación rápida de datos contenidos en objetos Series. \n",
    "\n",
    "En el siguiente ejemplo se crean dos objetos Series:"
   ]
  },
  {
   "cell_type": "code",
   "execution_count": null,
   "metadata": {},
   "outputs": [],
   "source": [
    "series1 = pd.Series([1,2,3,4],index = ['A','B','C','D'])  \n",
    "series2 = pd.Series([1,2,5,4],index = ['B','C','D','E'])"
   ]
  },
  {
   "cell_type": "code",
   "execution_count": null,
   "metadata": {},
   "outputs": [],
   "source": [
    "series1"
   ]
  },
  {
   "cell_type": "code",
   "execution_count": null,
   "metadata": {},
   "outputs": [],
   "source": [
    "series2"
   ]
  },
  {
   "cell_type": "code",
   "execution_count": null,
   "metadata": {},
   "outputs": [],
   "source": [
    "# Recupero por índice\n",
    "series1[1]"
   ]
  },
  {
   "cell_type": "markdown",
   "metadata": {},
   "source": [
    "Las operaciones también se realizan índice a índice."
   ]
  },
  {
   "cell_type": "code",
   "execution_count": null,
   "metadata": {},
   "outputs": [],
   "source": [
    "series1 - series2 #series1 no tiene índice E y series2 no tiene índice A, en esos casos la operación retorna NaN"
   ]
  },
  {
   "cell_type": "code",
   "execution_count": null,
   "metadata": {},
   "outputs": [],
   "source": [
    "series1 + series2"
   ]
  },
  {
   "cell_type": "code",
   "execution_count": null,
   "metadata": {},
   "outputs": [],
   "source": [
    "series1 * series2"
   ]
  },
  {
   "cell_type": "markdown",
   "metadata": {
    "lang": "es"
   },
   "source": [
    "---\n",
    "## DataFrames\n",
    "\n",
    "Un `DataFrame` es una estructura de datos etiquetados bidimensionales con columnas de tipos potencialmente diferentes. Se puede pensar como una hoja de cálculo, una tabla SQL, o un diccionario de objetos `Series`. Generalmente es el objeto Pandas más utilizado. Al igual que Series, DataFrame acepta muchos tipos diferentes de datos de entrada:"
   ]
  },
  {
   "cell_type": "code",
   "execution_count": null,
   "metadata": {},
   "outputs": [],
   "source": [
    "from numpy.random import randn #librería para generar números aleatorios\n",
    "np.random.seed(55) # seteo una semilla para obtener siempre los mismos resultados"
   ]
  },
  {
   "cell_type": "markdown",
   "metadata": {},
   "source": [
    "La función `DataFrame()`  tiene la capacidad de crear un elemento DataFrame desde un array de NumPy (entre otras cosas), por ejemplo: "
   ]
  },
  {
   "cell_type": "code",
   "execution_count": null,
   "metadata": {},
   "outputs": [],
   "source": [
    " # además de índices tiene un argumento para agregar columnas\n",
    "df = pd.DataFrame(randn(4,5),index=['P','Q','R','S'],columns=['A','B','C','D','E'])"
   ]
  },
  {
   "cell_type": "code",
   "execution_count": null,
   "metadata": {},
   "outputs": [],
   "source": [
    "df # se despliega el DataFrame escribiendo el nombre "
   ]
  },
  {
   "cell_type": "markdown",
   "metadata": {},
   "source": [
    "### Indexación y selección \n",
    "\n",
    "Existen varios métodos de selección de datos en objetos del tipo DataFrame."
   ]
  },
  {
   "cell_type": "code",
   "execution_count": null,
   "metadata": {},
   "outputs": [],
   "source": [
    "df['A'] #selecciono la columna 'A'"
   ]
  },
  {
   "cell_type": "code",
   "execution_count": null,
   "metadata": {},
   "outputs": [],
   "source": [
    "# Paso las columnas a seleccionar como una lista\n",
    "df[['A','B']]"
   ]
  },
  {
   "cell_type": "markdown",
   "metadata": {},
   "source": [
    "Las columnas no son más que objetos Series."
   ]
  },
  {
   "cell_type": "code",
   "execution_count": null,
   "metadata": {},
   "outputs": [],
   "source": [
    "type(df['A'])"
   ]
  },
  {
   "cell_type": "markdown",
   "metadata": {},
   "source": [
    "**Creando filas y columnas nuevas**"
   ]
  },
  {
   "cell_type": "markdown",
   "metadata": {},
   "source": [
    "Crear columnas nuevas resulta sencillo."
   ]
  },
  {
   "cell_type": "code",
   "execution_count": null,
   "metadata": {},
   "outputs": [],
   "source": [
    "df['F'] = df['A'] + df['B']"
   ]
  },
  {
   "cell_type": "markdown",
   "metadata": {},
   "source": [
    "Si bien no es usual crear filas nuevas en Pandas, ya que está ideado para trabajar con datasets completos, es posible realizar esto de la siguiente manera."
   ]
  },
  {
   "cell_type": "code",
   "execution_count": null,
   "metadata": {},
   "outputs": [],
   "source": [
    "fila_nueva=pd.DataFrma(randn(1,6)),index \n",
    "fila_nueva= pd.DataFrame(randn(1,6),index = ['T'], columns=list(df.columns)) #df.columns devuelve las etiquetas de columnas\n",
    "df = pd.concat([df, fila_nueva]) #es posible que existan maneras más eficientes en términos de cómputo\n",
    "df # buscar también sobre el método append, es un caso específico de concat (menos flexibilidad)"
   ]
  },
  {
   "cell_type": "markdown",
   "metadata": {},
   "source": [
    "**Removiendo filas y columnas**"
   ]
  },
  {
   "cell_type": "markdown",
   "metadata": {},
   "source": [
    "El método `drop()` elimina filas o columnas y devuelve una copia del DataFrame original. El primer argumento es la etiqueta del índice o columna, el segundo indica la dirección a eliminar (fila es axis=0, columna es axis=1)."
   ]
  },
  {
   "cell_type": "code",
   "execution_count": null,
   "metadata": {},
   "outputs": [],
   "source": [
    "df.drop('F',axis=1) #axis=1 devuelve error, pandas no encuentra dirección horizontal para 'F'"
   ]
  },
  {
   "cell_type": "code",
   "execution_count": null,
   "metadata": {},
   "outputs": [],
   "source": [
    "df # el DataFrame original se encuentra intacto, hay que reasignar df=df.drop(...) para mantener cambios"
   ]
  },
  {
   "cell_type": "code",
   "execution_count": null,
   "metadata": {},
   "outputs": [],
   "source": [
    "df.drop('F',axis=1,inplace=True) # el argumento inplace=True reasigna automaticamente"
   ]
  },
  {
   "cell_type": "code",
   "execution_count": null,
   "metadata": {},
   "outputs": [],
   "source": [
    "df"
   ]
  },
  {
   "cell_type": "markdown",
   "metadata": {},
   "source": [
    "Ahora con una fila:"
   ]
  },
  {
   "cell_type": "code",
   "execution_count": null,
   "metadata": {},
   "outputs": [],
   "source": [
    "df.drop('P',axis=0,inplace=True)\n",
    "df"
   ]
  },
  {
   "cell_type": "markdown",
   "metadata": {},
   "source": [
    "**Métodos de selección**\n",
    "\n",
    "Las métodos de selección más utilizadas son `loc` e `iloc`. A continuación se presentan un par de ejemplos:"
   ]
  },
  {
   "cell_type": "code",
   "execution_count": null,
   "metadata": {},
   "outputs": [],
   "source": [
    "df.loc['Q'] # iloc selecciona en función de la etiqueta"
   ]
  },
  {
   "cell_type": "code",
   "execution_count": null,
   "metadata": {},
   "outputs": [],
   "source": [
    "df.iloc[0] # loc selecciona en función del índice"
   ]
  },
  {
   "cell_type": "code",
   "execution_count": null,
   "metadata": {},
   "outputs": [],
   "source": [
    "# Selecciono TODO\n",
    "df.iloc[:]"
   ]
  },
  {
   "cell_type": "code",
   "execution_count": null,
   "metadata": {},
   "outputs": [],
   "source": [
    "# Selecciono todo menos la última columna\n",
    "df.iloc[:,:-1]"
   ]
  },
  {
   "cell_type": "code",
   "execution_count": null,
   "metadata": {},
   "outputs": [],
   "source": [
    "#Selecciono subconjunto de filas Q y R también subconjunto de columnas B y C\n",
    "df.iloc[:2,1:3]"
   ]
  },
  {
   "cell_type": "code",
   "execution_count": null,
   "metadata": {},
   "outputs": [],
   "source": [
    "# Para subconjuntos mediante etiquetas utilizo loc\n",
    "df.loc['Q','A']"
   ]
  },
  {
   "cell_type": "code",
   "execution_count": null,
   "metadata": {},
   "outputs": [],
   "source": [
    "#las filas y columnas seleccionados no tienen que ser adyacentes\n",
    "df.loc[['Q','S'],['B','D']] "
   ]
  },
  {
   "cell_type": "markdown",
   "metadata": {
    "lang": "es"
   },
   "source": [
    "### Selección condicional\n",
    "\n",
    "Una característica importante de pandas es la selección condicional usando notación de corchetes, muy similar a NumPy. Debajo se muestran varios ejemplos ilustrativos."
   ]
  },
  {
   "cell_type": "code",
   "execution_count": null,
   "metadata": {},
   "outputs": [],
   "source": [
    "df"
   ]
  },
  {
   "cell_type": "code",
   "execution_count": null,
   "metadata": {},
   "outputs": [],
   "source": [
    "df>0"
   ]
  },
  {
   "cell_type": "code",
   "execution_count": null,
   "metadata": {},
   "outputs": [],
   "source": [
    "#Retorna los valores donde el valor > 0, caso contrario devuelve NaN\n",
    "df[df>0]"
   ]
  },
  {
   "cell_type": "code",
   "execution_count": null,
   "metadata": {},
   "outputs": [],
   "source": [
    "#Devuelve las filas y columnas completas donde los valores de la columna A son > 0\n",
    "df[df['A']>0]"
   ]
  },
  {
   "cell_type": "markdown",
   "metadata": {
    "lang": "es"
   },
   "source": [
    "Para utilizar condiciones múltiples se utiliza | e & con paréntesis:"
   ]
  },
  {
   "cell_type": "code",
   "execution_count": null,
   "metadata": {},
   "outputs": [],
   "source": [
    "df[(df['A']>0) & (df['B'] > 0)]"
   ]
  },
  {
   "cell_type": "code",
   "execution_count": null,
   "metadata": {},
   "outputs": [],
   "source": [
    "df # el DataFrame sigue sin modificaciones, para cambios permanentes reasignar df"
   ]
  },
  {
   "cell_type": "markdown",
   "metadata": {
    "lang": "es"
   },
   "source": [
    "### Diferentes operaciones\n",
    "\n",
    "Existen infidad acciones y operaciones posibles a realizar con DataFrames, a continuación se presentan los casos más comunes."
   ]
  },
  {
   "cell_type": "code",
   "execution_count": null,
   "metadata": {},
   "outputs": [],
   "source": [
    "# Creo un dataframe mediante un diccionario, cada clave es una etiqueta de columna, cada valor una lista\n",
    "df = pd.DataFrame({'col1':[10,11,12,13],'col2':[300,200,100,300],'col3':['abc','def','ghi','xyz']})\n",
    "df.head()"
   ]
  },
  {
   "cell_type": "markdown",
   "metadata": {},
   "source": [
    "**unique()**"
   ]
  },
  {
   "cell_type": "code",
   "execution_count": null,
   "metadata": {},
   "outputs": [],
   "source": [
    "df['col2'].unique() # devuelve valores que no se repiten en el orden de aparición"
   ]
  },
  {
   "cell_type": "markdown",
   "metadata": {},
   "source": [
    "**nunique()**"
   ]
  },
  {
   "cell_type": "code",
   "execution_count": null,
   "metadata": {},
   "outputs": [],
   "source": [
    "df['col2'].nunique() # número de valores únicos encontrados"
   ]
  },
  {
   "cell_type": "markdown",
   "metadata": {},
   "source": [
    "**value_counts()**"
   ]
  },
  {
   "cell_type": "code",
   "execution_count": null,
   "metadata": {},
   "outputs": [],
   "source": [
    "df['col2'].value_counts() # presenta los valores distintos encontrados y la cantidad de veces que aparecen"
   ]
  },
  {
   "cell_type": "markdown",
   "metadata": {},
   "source": [
    "**sum()**"
   ]
  },
  {
   "cell_type": "code",
   "execution_count": null,
   "metadata": {},
   "outputs": [],
   "source": [
    "df['col1'].sum() # sumo sobre elementos de la columna"
   ]
  },
  {
   "cell_type": "markdown",
   "metadata": {},
   "source": [
    "**Remover columnas de forma permanente**"
   ]
  },
  {
   "cell_type": "code",
   "execution_count": null,
   "metadata": {},
   "outputs": [],
   "source": [
    "del df['col1']"
   ]
  },
  {
   "cell_type": "code",
   "execution_count": null,
   "metadata": {},
   "outputs": [],
   "source": [
    "df"
   ]
  },
  {
   "cell_type": "markdown",
   "metadata": {},
   "source": [
    "**Obtener nombres de filas y columnas**"
   ]
  },
  {
   "cell_type": "code",
   "execution_count": null,
   "metadata": {},
   "outputs": [],
   "source": [
    "df.columns # devuelve las etiquetas de las columnas, como se vió en el ej. para agregar una fila"
   ]
  },
  {
   "cell_type": "code",
   "execution_count": null,
   "metadata": {},
   "outputs": [],
   "source": [
    "df.index #los devuelve como un rango"
   ]
  },
  {
   "cell_type": "markdown",
   "metadata": {},
   "source": [
    "**Ordenar DataFrames**"
   ]
  },
  {
   "cell_type": "code",
   "execution_count": null,
   "metadata": {},
   "outputs": [],
   "source": [
    "df"
   ]
  },
  {
   "cell_type": "code",
   "execution_count": null,
   "metadata": {},
   "outputs": [],
   "source": [
    "df.sort_values(by='col2') #el argumento inplace por defecto es False, por lo que no se modifica el df original "
   ]
  },
  {
   "cell_type": "markdown",
   "metadata": {},
   "source": [
    "### Aplicando funciones\n",
    "\n",
    "El método `apply()` permite aplicar una función a todos los elementos seleccionados de un DataFrame. Los resultados pueden reasignarse al DataFrame o agregarse como columnas o filas nuevas."
   ]
  },
  {
   "cell_type": "code",
   "execution_count": null,
   "metadata": {},
   "outputs": [],
   "source": [
    "def cuadrado(valor):\n",
    "    return valor**2"
   ]
  },
  {
   "cell_type": "code",
   "execution_count": null,
   "metadata": {},
   "outputs": [],
   "source": [
    "df['col2']"
   ]
  },
  {
   "cell_type": "code",
   "execution_count": null,
   "metadata": {},
   "outputs": [],
   "source": [
    "# calculo el cuadrado a toda la columna 1\n",
    "df['col2'].apply(cuadrado)"
   ]
  },
  {
   "cell_type": "code",
   "execution_count": null,
   "metadata": {},
   "outputs": [],
   "source": [
    "# equivalente con expresión lambda\n",
    "df['col2'].apply(lambda x:x**2)"
   ]
  },
  {
   "cell_type": "markdown",
   "metadata": {
    "lang": "es"
   },
   "source": [
    "---\n",
    "## Entrada y salida de datos\n",
    "\n",
    "Pandas posee la capacidad de leer varios tipos de archivos para incorporar sus datos en el entorno de trabajo mediante los métodos `pd.read_`. También tiene la capacidad de escribir los resultados obtenidos luego de una sesión de análisis en otros formatos."
   ]
  },
  {
   "cell_type": "markdown",
   "metadata": {},
   "source": [
    "### Importación desde archivos CSV"
   ]
  },
  {
   "cell_type": "markdown",
   "metadata": {},
   "source": [
    "Para poder trabajar con información contenida en archivos CSV, sólo es necesario llamar al método de lectura correspondiente. Se asigna el archivo leído a un DataFrame."
   ]
  },
  {
   "cell_type": "code",
   "execution_count": null,
   "metadata": {},
   "outputs": [],
   "source": [
    "import os # modulo para manejar rutas \n",
    "nombre_dataset='customers.csv' \n",
    "nombre_carpeta='datasets'\n",
    "ruta_relativa=os.path.join(nombre_carpeta,nombre_dataset) #uso os.path.join() para crear la ruta\n",
    "# de esta manera evito problemas con símbolos separadores para distintos sistemas operativos\n",
    "dataframe = pd.read_csv(ruta_relativa) "
   ]
  },
  {
   "cell_type": "markdown",
   "metadata": {},
   "source": [
    "### Exportación hacia archivos CSV"
   ]
  },
  {
   "cell_type": "markdown",
   "metadata": {},
   "source": [
    "Una vez creado el DataFrame, para desplegar el contenido de las primeras filas se utiliza el método `head()`."
   ]
  },
  {
   "cell_type": "code",
   "execution_count": null,
   "metadata": {},
   "outputs": [],
   "source": [
    "dataframe.head()"
   ]
  },
  {
   "cell_type": "markdown",
   "metadata": {},
   "source": [
    "Como se nota a continuación, un DataFrame es en sí mismo un tipo de objeto de pandas."
   ]
  },
  {
   "cell_type": "code",
   "execution_count": null,
   "metadata": {},
   "outputs": [],
   "source": [
    "type(dataframe)"
   ]
  },
  {
   "cell_type": "markdown",
   "metadata": {},
   "source": [
    "Luego de realizar análisis y operaciones sobre el conjunto de datos, es posible guardar los resultados en un CSV nuevo mediante el método de dataframes `.to_csv()`."
   ]
  },
  {
   "cell_type": "code",
   "execution_count": null,
   "metadata": {},
   "outputs": [],
   "source": [
    "nombre_exportacion='new_customers'\n",
    "ruta_relativa=os.path.join(nombre_carpeta,nombre_exportacion)\n",
    "# el segundo argumento evita copiar los índices a la izquieda del DataFrame                                                 \n",
    "dataframe.to_csv(ruta_relativa ,index=False)  #revise la carpeta datasets para encontrar el archivo nuevo  "
   ]
  },
  {
   "cell_type": "markdown",
   "metadata": {},
   "source": [
    "### Importación desde archivos Excel \n",
    "\n",
    "La única diferencia es que en este caso el método a utilizar se llama `read_excel()`."
   ]
  },
  {
   "cell_type": "code",
   "execution_count": null,
   "metadata": {},
   "outputs": [],
   "source": [
    "nombre_dataset='sample.xlsx'\n",
    "ruta_relativa=os.path.join(nombre_carpeta,nombre_dataset)\n",
    "df=pd.read_excel(ruta_relativa,sheet_name='Sample') # 2do argumento selecciona la tabla dentro del archivo \n",
    "df.head()"
   ]
  },
  {
   "cell_type": "code",
   "execution_count": null,
   "metadata": {},
   "outputs": [],
   "source": [
    "type(df) # el objeto obtenido sigue siendo un DataFrame de Pandas"
   ]
  },
  {
   "cell_type": "markdown",
   "metadata": {},
   "source": [
    "### Exportación a Excel\n",
    "\n",
    "De igual manera, puedo guardar mis resultados en un archivo nuevo."
   ]
  },
  {
   "cell_type": "code",
   "execution_count": null,
   "metadata": {},
   "outputs": [],
   "source": [
    "nombre_exportacion='new_sample.xlsx'\n",
    "ruta_relativa=os.path.join(nombre_carpeta,nombre_exportacion)\n",
    "df.to_excel(ruta_relativa,sheet_name='Sheet1')"
   ]
  },
  {
   "cell_type": "markdown",
   "metadata": {},
   "source": [
    "### Importación desde SAS\n",
    "\n",
    "El método `read_sas()` permite leer archivos con extensión `.xport` y `.sas7bdat`."
   ]
  },
  {
   "cell_type": "code",
   "execution_count": null,
   "metadata": {},
   "outputs": [],
   "source": [
    "nombre_dataset='airline.sas7bdat'\n",
    "ruta_relativa=os.path.join(nombre_carpeta,nombre_dataset)\n",
    "df=pd.read_sas(ruta_relativa) \n",
    "df.head()"
   ]
  },
  {
   "cell_type": "markdown",
   "metadata": {},
   "source": [
    "### Entrada desde HTML \n",
    "\n",
    "Una herramienta extremadamente útil es la lectura desde código HTML en páginas web. El método de pandas `read_html()` permite esta acción. Por ejemplo: "
   ]
  },
  {
   "cell_type": "code",
   "execution_count": null,
   "metadata": {},
   "outputs": [],
   "source": [
    "df = pd.read_html('http://www.fdic.gov/bank/individual/failed/banklist.html')"
   ]
  },
  {
   "cell_type": "code",
   "execution_count": null,
   "metadata": {},
   "outputs": [],
   "source": [
    "df[0].head()"
   ]
  },
  {
   "cell_type": "markdown",
   "metadata": {},
   "source": [
    "Obtengamos desde la documentación oficial, las posibles opciones de lectura y escritura que Pandas tiene incorporadas."
   ]
  },
  {
   "cell_type": "code",
   "execution_count": null,
   "metadata": {},
   "outputs": [],
   "source": [
    "df = pd.read_html('https://pandas.pydata.org/pandas-docs/stable/user_guide/io.html')\n",
    "df = df[0].replace(np.nan, '', regex=True)\n",
    "df"
   ]
  },
  {
   "cell_type": "markdown",
   "metadata": {},
   "source": [
    "Hay varias cosas para discutir sobre este ejemplo.\n",
    "\n",
    "* Pandas no tiene métodos de escritura para todos los formatos de archivo, esto se evidencia en los métodos faltantes en la columna \"Writer\".\n",
    "\n",
    "* La sentencia `df[0]` se debe a que `read_html` devuelve una lista con todas las tablas en formato HTML encontradas en la dirección url. Al escribir `df[0]` selecciono el primer elemento de la lista, que en este caso es la tabla de interés.\n",
    "\n",
    "* Existen otras opciones si no encuentra en la tabla un formato de archivo con el que suele trabajar. Aunque se encuentren defecto en Anaconda Distribution, existen librerías que permiten la importación de otros formatos a dataframes de pandas.  "
   ]
  },
  {
   "cell_type": "markdown",
   "metadata": {},
   "source": [
    "Probablemente los métodos de lectura más utilizados en la capacitación sean `read_csv()`, `read_excel()` y `read_sas()`. Esto dependerá de como evolucione el curso. Accediendo a https://pandas.pydata.org/pandas-docs/stable/user_guide/io.html se puede interactuar con la tabla original para obtener información de cada método en específico. Los argumentos de entrada pueden variar entre tipos de formato.\n",
    "\n",
    "Aunque parezca trivial, es importante aclarar que los métodos de lectura y escritura son independientes. Es posible leer de un formato de archivo y escribir a otro. El punto de encuentro siempre es el objeto dataframe."
   ]
  }
 ],
 "metadata": {
  "kernelspec": {
   "display_name": "Python 3",
   "language": "python",
   "name": "python3"
  },
  "language_info": {
   "codemirror_mode": {
    "name": "ipython",
    "version": 3
   },
   "file_extension": ".py",
   "mimetype": "text/x-python",
   "name": "python",
   "nbconvert_exporter": "python",
   "pygments_lexer": "ipython3",
   "version": "3.7.6"
  },
  "latex_envs": {
   "LaTeX_envs_menu_present": true,
   "autoclose": false,
   "autocomplete": true,
   "bibliofile": "biblio.bib",
   "cite_by": "apalike",
   "current_citInitial": 1,
   "eqLabelWithNumbers": true,
   "eqNumInitial": 1,
   "hotkeys": {
    "equation": "Ctrl-E",
    "itemize": "Ctrl-I"
   },
   "labels_anchors": false,
   "latex_user_defs": false,
   "report_style_numbering": false,
   "user_envs_cfg": false
  },
  "nbTranslate": {
   "displayLangs": [
    "es"
   ],
   "hotkey": "alt-t",
   "langInMainMenu": true,
   "sourceLang": "en",
   "targetLang": "es",
   "useGoogleTranslate": true
  }
 },
 "nbformat": 4,
 "nbformat_minor": 2
}
