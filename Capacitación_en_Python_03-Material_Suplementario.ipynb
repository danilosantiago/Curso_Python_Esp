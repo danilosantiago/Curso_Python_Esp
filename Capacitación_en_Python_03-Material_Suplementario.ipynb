{
 "cells": [
  {
   "cell_type": "markdown",
   "metadata": {},
   "source": [
    "<img src=\"images\\crisil_logo.png\" align=\"right\" border=\"0\"><br>\n",
    "\n",
    "\n",
    "# Capacitación en Python 03 - Material Suplementario\n",
    "     \n",
    "En este cuaderno se presenta material suplementario para el cuaderno \"Capacitación en Python 03 - Archivos, comparaciones y declaraciones\". Lea atentamente el cuaderno y corra el código en cada celda para visualizar su salida."
   ]
  },
  {
   "cell_type": "markdown",
   "metadata": {
    "lang": "es"
   },
   "source": [
    "---\n",
    "## Operadores de comparación encadenados\n",
    "\n",
    "Una característica interesante de Python es la capacidad de *encadenar* comparaciones múltiples para realizar una prueba más compleja. Puede usar estas comparaciones encadenadas como abreviatura para expresiones booleanas más grandes.\n",
    "\n",
    "A continuación se discute cómo encadenar operadores de comparación y también se presentan otras dos afirmaciones importantes en Python: `and` y `or`."
   ]
  },
  {
   "cell_type": "code",
   "execution_count": null,
   "metadata": {},
   "outputs": [],
   "source": [
    "1 < 2 < 3"
   ]
  },
  {
   "cell_type": "markdown",
   "metadata": {
    "lang": "es"
   },
   "source": [
    "La declaración anterior verifica si 1 es menor que 2 y si 2 es menor que 3. Una manera alternativa es usando una declaración **and** en Python:"
   ]
  },
  {
   "cell_type": "code",
   "execution_count": null,
   "metadata": {},
   "outputs": [],
   "source": [
    "1<2 and 2<3"
   ]
  },
  {
   "cell_type": "markdown",
   "metadata": {
    "lang": "es"
   },
   "source": [
    "La declaración `and` se utiliza para asegurarse de que dos condiciones son verdaderas, si las dos se cumplen entonces la condición total es verdadera . Python comprueba ambas instancias de las comparaciones. También podemos usar `or` para escribir comparaciones. Por ejemplo:"
   ]
  },
  {
   "cell_type": "code",
   "execution_count": null,
   "metadata": {},
   "outputs": [],
   "source": [
    "1==2 or 2<3"
   ]
  },
  {
   "cell_type": "markdown",
   "metadata": {
    "lang": "es"
   },
   "source": [
    "Esta declaración es verdadera por el operador `or`, solo necesitamos que una sola condición se cumpla para lograr esto.\n",
    "\n",
    "---"
   ]
  },
  {
   "cell_type": "markdown",
   "metadata": {
    "lang": "es"
   },
   "source": [
    "\n",
    "\n",
    "## Funciones y operadores útiles\n",
    "\n",
    "Hay algunas funciones y \"operadores\" integrados en Python que no encajan bien en ninguna categoría,pero siguen siendo de mucha utilidad."
   ]
  },
  {
   "cell_type": "markdown",
   "metadata": {
    "lang": "es"
   },
   "source": [
    "### range\n",
    "\n",
    "La función `range()` permite generar *rápidamente* una lista de enteros, esto es muy útil. Hay 3 parámetros que posibles, el inicio del rango, su parada y el tamaño de paso."
   ]
  },
  {
   "cell_type": "code",
   "execution_count": null,
   "metadata": {},
   "outputs": [],
   "source": [
    "range(0,11)"
   ]
  },
  {
   "cell_type": "markdown",
   "metadata": {
    "lang": "es"
   },
   "source": [
    "La función de rango es una función **generadora**, por lo que para obtener una lista, necesitamos convertirla en una lista con `list()`. Las funciones generadoras son un tipo especial de función que genera información y no necesita guardarla en la memoria."
   ]
  },
  {
   "cell_type": "code",
   "execution_count": null,
   "metadata": {},
   "outputs": [],
   "source": [
    "# Note que 11 no entra en el rango\n",
    "list(range(0,11))"
   ]
  },
  {
   "cell_type": "code",
   "execution_count": null,
   "metadata": {},
   "outputs": [],
   "source": [
    "# El 3er parámetro es el tamaño del paso\n",
    "# es decir, el salto desde un número a otro\n",
    "\n",
    "list(range(0,11,2))"
   ]
  },
  {
   "cell_type": "markdown",
   "metadata": {
    "lang": "es"
   },
   "source": [
    "### enumerate\n",
    "\n",
    "`enumerate()` es una función muy útil para usar con bucles `for`. "
   ]
  },
  {
   "cell_type": "code",
   "execution_count": null,
   "metadata": {},
   "outputs": [],
   "source": [
    "index_count = 0\n",
    "\n",
    "for letra in 'abcde':\n",
    "    print(f\"En el índice {index_count} la letra es {letra}\")\n",
    "    index_count += 1"
   ]
  },
  {
   "cell_type": "markdown",
   "metadata": {
    "lang": "es"
   },
   "source": [
    "Hacer un seguimiento de cuántos bucles pasaron es tan común, que se creó `enumerate()` para no tener que crear una variable de conteo nueva y actualizarla"
   ]
  },
  {
   "cell_type": "code",
   "execution_count": null,
   "metadata": {},
   "outputs": [],
   "source": [
    "#desempaquetado de tupla\n",
    "for i,letra in enumerate('abcde'):\n",
    "    print(f\"En el índice {i} la letra es {letra}\")"
   ]
  },
  {
   "cell_type": "markdown",
   "metadata": {
    "lang": "es"
   },
   "source": [
    "## zip\n",
    "\n",
    "Muchas funciones devuelven una lista de tuplas como salida."
   ]
  },
  {
   "cell_type": "code",
   "execution_count": null,
   "metadata": {},
   "outputs": [],
   "source": [
    "list(enumerate('abcde'))"
   ]
  },
  {
   "cell_type": "markdown",
   "metadata": {
    "lang": "es"
   },
   "source": [
    "Esta estructura de datos es realmente muy común en Python, especialmente cuando se trabaja con bibliotecas externas. Se utiliza la función `zip()` para crear rápidamente una lista de tuplas \"juntando\" dos listas."
   ]
  },
  {
   "cell_type": "code",
   "execution_count": null,
   "metadata": {},
   "outputs": [],
   "source": [
    "milista1 = [1,2,3,4,5]\n",
    "milista2 = ['a','b','c','d','e']"
   ]
  },
  {
   "cell_type": "code",
   "execution_count": null,
   "metadata": {},
   "outputs": [],
   "source": [
    "# Esta función tmb es generadora\n",
    "zip(milista1,milista2)"
   ]
  },
  {
   "cell_type": "code",
   "execution_count": null,
   "metadata": {},
   "outputs": [],
   "source": [
    "list(zip(milista1,milista2))"
   ]
  },
  {
   "cell_type": "markdown",
   "metadata": {
    "lang": "es"
   },
   "source": [
    "Para usar el generador, se usa un bucle for"
   ]
  },
  {
   "cell_type": "code",
   "execution_count": null,
   "metadata": {},
   "outputs": [],
   "source": [
    "for item1, item2 in zip(milista1,milista2):\n",
    "    print(f'Para esta tupla, el primer item es {item1} y el segundo es {item2}')"
   ]
  },
  {
   "cell_type": "markdown",
   "metadata": {
    "lang": "es"
   },
   "source": [
    "### Operador in\n",
    "\n",
    "Al utilizar la palabra clave `in` se verifica rápidamente si un objeto está en una lista, es extremadamente útil para crear condiciones de declaraciones."
   ]
  },
  {
   "cell_type": "code",
   "execution_count": null,
   "metadata": {},
   "outputs": [],
   "source": [
    "'x' in ['x','y','z']"
   ]
  },
  {
   "cell_type": "code",
   "execution_count": null,
   "metadata": {},
   "outputs": [],
   "source": [
    "'x' in [1,2,3]"
   ]
  },
  {
   "cell_type": "markdown",
   "metadata": {},
   "source": [
    "### min y max\n",
    "\n",
    "Revisa rápidamente los valores mínimos y máximos dentro de una lista."
   ]
  },
  {
   "cell_type": "code",
   "execution_count": null,
   "metadata": {},
   "outputs": [],
   "source": [
    "milista = [10,20,30,40,100]"
   ]
  },
  {
   "cell_type": "code",
   "execution_count": null,
   "metadata": {},
   "outputs": [],
   "source": [
    "min(milista)"
   ]
  },
  {
   "cell_type": "code",
   "execution_count": null,
   "metadata": {},
   "outputs": [],
   "source": [
    "max(milista)"
   ]
  },
  {
   "cell_type": "markdown",
   "metadata": {},
   "source": [
    "### input\n",
    "La función imput sirve para obtener información por parte del usuario mientras el código corre. Puede ser empleada de varias maneras, el ejemplo que se muestra debajo es sólo ilustrativo."
   ]
  },
  {
   "cell_type": "code",
   "execution_count": null,
   "metadata": {},
   "outputs": [],
   "source": [
    "input('Ingrese algo en este campo: ')"
   ]
  },
  {
   "cell_type": "markdown",
   "metadata": {
    "lang": "es"
   },
   "source": [
    "---\n",
    "\n",
    "## Errores y manejo de excepciones"
   ]
  },
  {
   "cell_type": "code",
   "execution_count": null,
   "metadata": {},
   "outputs": [],
   "source": [
    "print('Hola)"
   ]
  },
  {
   "cell_type": "markdown",
   "metadata": {
    "lang": "es"
   },
   "source": [
    "Arriba se presenta un SyntaxError, con la descripción adicional de que fue un EOL (end of line) al escanear el string. Esto es lo suficientemente específico para notar que falta una comilla al final de la línea. Comprender estos diversos tipos de error ayudan a depurar el código más rápido.\n",
    "\n",
    "Este tipo de error y descripción se conoce como una excepción. Incluso si una declaración o expresión es sintácticamente correcta, puede causar un error cuando se ejecuta. Los errores detectados durante la ejecución se denominan excepciones y no son incondicionalmente fatales.\n",
    "\n",
    "Para consultar la lista completa de excepciones incorporadas haga click [aquí](https://docs.python.org/3/library/exceptions.html). Para manejar errores y excepciones en nuestro propio código existen ciertas herramientas."
   ]
  },
  {
   "cell_type": "markdown",
   "metadata": {
    "lang": "es"
   },
   "source": [
    "### try y except\n",
    "\n",
    "La terminología básica y la sintaxis utilizadas para manejar errores en Python son las declaraciones <code>try</code> y <code>except</code>. El código que puede provocar una excepción se coloca en el bloque <code>try</code> y el manejo de la excepción se implementa en el bloque de código <code>except</code>. La sintaxis sigue:\n",
    "\n",
    "    try:\n",
    "       Operaciones aquí ...\n",
    "       ...\n",
    "    except ExcepciónI:\n",
    "       if sucede ExceptionI, ejecute este bloque\n",
    "    except ExcepciónII:\n",
    "       if sucede ExceptionII, entonces ejecute este bloque\n",
    "       ...\n",
    "    else:\n",
    "       if no hay excepción, ejecute este bloque\n",
    "\n",
    "También es posible verificar cualquier excepción con solo usar <code>except:</code> Para comprender mejor todo esto, se presenta un ememplo. Un código que se abre y escribe un archivo:"
   ]
  },
  {
   "cell_type": "code",
   "execution_count": null,
   "metadata": {
    "scrolled": true
   },
   "outputs": [],
   "source": [
    "try:\n",
    "    f = open('testfile','w')\n",
    "    f.write('Escribo esto como prueba')\n",
    "except IOError:\n",
    "    # Esto sólo busca por un una excepción \"IOError\" y luego ejecuta la declaración\n",
    "    print(\"Error: Que macana, no pude encontrar el archivo o leer los datos\")\n",
    "else:\n",
    "    print(\"Contenido escrito exitosamente\")\n",
    "    f.close()"
   ]
  },
  {
   "cell_type": "markdown",
   "metadata": {
    "lang": "es"
   },
   "source": [
    "Si no se tiene permiso de escritura (abriendo solo con 'r'), sucede lo siguiente:"
   ]
  },
  {
   "cell_type": "code",
   "execution_count": null,
   "metadata": {},
   "outputs": [],
   "source": [
    "try:\n",
    "    f = open('testfile','r')\n",
    "    f.write('Escribo esto como prueba')\n",
    "except IOError:\n",
    "    # Esto sólo busca por un una excepción \"IOError\" y luego ejecuta la declaración\n",
    "    print(\"Error: Que macana, no pude encontrar el archivo o leer los datos\")\n",
    "else:\n",
    "    print(\"Contenido escrito exitosamente\")\n",
    "    f.close()"
   ]
  },
  {
   "cell_type": "markdown",
   "metadata": {
    "lang": "es"
   },
   "source": [
    "El código sigue ejecutándose, continua realizando acciones y ejecutando bloques de código luego de pasar por `try`. Esto es extremadamente útil cuando hay que considerar posibles errores de entrada en su código. Mediante `try` y `except` es posible estar preparado para el error y seguir ejecutando el código, en lugar de que su código simplemente se rompa como vimos anteriormente.\n",
    "\n",
    "Otra pŕactica común es utilizar <code>except: </code> si no hay certeza de qué excepción puede ocurrir. Por ejemplo:"
   ]
  },
  {
   "cell_type": "markdown",
   "metadata": {
    "lang": "en"
   },
   "source": [
    "Great! Now we don't actually need to memorize that list of exception types! Now what if we kept wanting to run code after the exception occurred? This is where <code>finally</code> comes in.\n",
    "## finally\n",
    "The <code>finally:</code> block of code will always be run regardless if there was an exception in the <code>try</code> code block. The syntax is:\n",
    "\n",
    "    try:\n",
    "       Code block here\n",
    "       ...\n",
    "       Due to any exception, this code may be skipped!\n",
    "    finally:\n",
    "       This code block would always be executed.\n",
    "\n",
    "For example:"
   ]
  },
  {
   "cell_type": "markdown",
   "metadata": {
    "lang": "es"
   },
   "source": [
    "Si se require ejecutar código después de la excepción se utiliza <code>finally</code>.\n",
    "### finally\n",
    "El bloque de código <code>finally: </code> siempre se ejecuta independientemente de si hubo una excepción en el bloque de código <code>try</code>. La sintaxis es:\n",
    "\n",
    "    try:\n",
    "       Bloque de código aquí\n",
    "       ...\n",
    "       ¡Debido a cualquier excepción, este código puede omitirse!\n",
    "    finally:\n",
    "       Este bloque de código siempre se ejecuta.\n",
    "\n",
    "Por ejemplo:"
   ]
  },
  {
   "cell_type": "code",
   "execution_count": null,
   "metadata": {},
   "outputs": [],
   "source": [
    "try:\n",
    "    f = open(\"testfile\", \"w\")\n",
    "    f.write(\"Escribo esto como prueba\")\n",
    "    f.close()\n",
    "finally:\n",
    "    print(\"Siempre se ejecuta los bloques de código en finally\")"
   ]
  },
  {
   "cell_type": "markdown",
   "metadata": {},
   "source": [
    "Otra práctica común es introducir declaraciones `except` entre declaraciones `try` y `finally`. Las declaraciones y bucles anidados pueden complicarse tanto como la imaginación del programador lo permita.\n",
    "\n",
    "Otra declaración utilizada en Python que no se trata en estos cuadernos es `with`, principalmente requerida para el manejo de errores. Los interesados revisen la documentación en https://docs.python.org/2.5/whatsnew/pep-343.html ."
   ]
  }
 ],
 "metadata": {
  "kernelspec": {
   "display_name": "Python 3",
   "language": "python",
   "name": "python3"
  },
  "language_info": {
   "codemirror_mode": {
    "name": "ipython",
    "version": 3
   },
   "file_extension": ".py",
   "mimetype": "text/x-python",
   "name": "python",
   "nbconvert_exporter": "python",
   "pygments_lexer": "ipython3",
   "version": "3.7.6"
  },
  "latex_envs": {
   "LaTeX_envs_menu_present": true,
   "autoclose": false,
   "autocomplete": true,
   "bibliofile": "biblio.bib",
   "cite_by": "apalike",
   "current_citInitial": 1,
   "eqLabelWithNumbers": true,
   "eqNumInitial": 1,
   "hotkeys": {
    "equation": "Ctrl-E",
    "itemize": "Ctrl-I"
   },
   "labels_anchors": false,
   "latex_user_defs": false,
   "report_style_numbering": false,
   "user_envs_cfg": false
  },
  "nbTranslate": {
   "displayLangs": [
    "es"
   ],
   "hotkey": "alt-t",
   "langInMainMenu": true,
   "sourceLang": "en",
   "targetLang": "es",
   "useGoogleTranslate": true
  }
 },
 "nbformat": 4,
 "nbformat_minor": 2
}
