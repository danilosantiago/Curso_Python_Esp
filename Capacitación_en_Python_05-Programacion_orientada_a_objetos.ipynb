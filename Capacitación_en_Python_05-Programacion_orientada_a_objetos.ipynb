{
 "cells": [
  {
   "cell_type": "markdown",
   "metadata": {},
   "source": [
    "<img src=\"images\\crisil_logo.png\" align=\"right\" border=\"0\"><br>\n",
    "\n",
    "\n",
    "# Capacitación en Python 05 - Programación orientada a objetos\n",
    "     \n",
    "En el siguiente cuaderno se presenta una introducción a la programación orientada a objetos en Python. Lea atentamente el cuaderno y corra el código en cada celda para visualizar su salida.\n",
    "\n",
    "---"
   ]
  },
  {
   "cell_type": "markdown",
   "metadata": {
    "lang": "es"
   },
   "source": [
    "## Programación orientada a objetos\n",
    "\n",
    "La programación orientada a objetos (POO) tiende a ser uno de los principales obstáculos para los principiantes cuando comienzan a aprender Python.\n",
    "\n",
    "Este cuaderno se discute sobre POO en Python, tratando los siguientes temas:\n",
    "\n",
    "* Objetos\n",
    "* Clases\n",
    "* Atributos\n",
    "* Métodos\n",
    "* Herencia\n",
    "* Polimorfismo\n",
    "* Métodos especiales"
   ]
  },
  {
   "cell_type": "markdown",
   "metadata": {
    "lang": "es"
   },
   "source": [
    "---\n",
    "## Objetos\n",
    "\n",
    "Un objeto puede ser una variable, una estructura de datos, un método, y como tal, tiene un valor en la memoria referenciado por un identificador. En Python, *todo es un objeto*, y se puede pensar de manera más simple como la instancia de una clase (aunque las clases también son objetos en sí mismas). En cuadernos anteriores se presentó `type()` para verificar tipos de objeto:"
   ]
  },
  {
   "cell_type": "code",
   "execution_count": null,
   "metadata": {},
   "outputs": [],
   "source": [
    "print(type(1))\n",
    "print(type([]))\n",
    "print(type(()))\n",
    "print(type({}))"
   ]
  },
  {
   "cell_type": "markdown",
   "metadata": {
    "lang": "es"
   },
   "source": [
    "Si todas estas cosas son objetos, entonces, ¿cómo crear objetos? Ahí es donde entra la palabra clave o declaración <code>class</code>.\n",
    "\n",
    "---\n",
    "## Clases\n",
    "Los objetos definidos por el usuario se crean con la palabra clave <code>class</code>. La clase es un \"blueprint\" que define la naturaleza de un objeto futuro. De las clases podemos construir instancias. Una instancia es un objeto específico creado a partir de una clase particular. Por ejemplo, si creo una lista al escribir en una línea `lista1 = [1,2,3]`, entonces el objeto <code>lista1</code> es una instancia de un objeto de la clase \"list\".\n",
    "\n",
    "A continuación se presenta un ejemplo de declaración de clase mediante <code>class</code>:"
   ]
  },
  {
   "cell_type": "code",
   "execution_count": null,
   "metadata": {},
   "outputs": [],
   "source": [
    "# Creo un nuevo tipo de objeto llamado \"Muestra\"\n",
    "class Muestra:\n",
    "    pass\n",
    "\n",
    "# Instancia de \"Muestra\"\n",
    "x = Muestra()\n",
    "\n",
    "print(type(x))"
   ]
  },
  {
   "cell_type": "markdown",
   "metadata": {
    "lang": "es"
   },
   "source": [
    "Por convención, se da a las clases un nombre que comienza con una letra mayúscula. Note cómo <code>x</code> es ahora la referencia a la nueva instancia de la clase Muestra. En otras palabras, **instanciamos** la clase Muestra.\n",
    "\n",
    "Dentro de la clase, actualmente solo se tiene `pass`. Pero es posible definir atributos y métodos de clase.\n",
    "\n",
    "Un **atributo** es una característica de un objeto.\n",
    "Un **método** es una operación que podemos realizar con el objeto.\n",
    "\n",
    "Por ejemplo, se puede crear una clase llamada Perro. Un atributo de un perro puede ser su raza o su nombre, mientras que el método de un perro puede definirse mediante un método `.ladrar()` que devuelve un sonido.\n",
    "\n",
    "---\n",
    "## Atributos\n",
    "La sintaxis para crear un atributo es:\n",
    "    \n",
    "    self.attribute = algo\n",
    "    \n",
    "Existe un método especial llamado:\n",
    "\n",
    "    __init__()\n",
    "\n",
    "Este método se usa para inicializar los atributos de un objeto. Por ejemplo:"
   ]
  },
  {
   "cell_type": "code",
   "execution_count": null,
   "metadata": {},
   "outputs": [],
   "source": [
    "class Perro:\n",
    "    def __init__(self, raza):\n",
    "        self.raza = raza\n",
    "        \n",
    "coco = Perro(raza = 'Labrador')\n",
    "firulais = Perro(raza = 'Huskie')"
   ]
  },
  {
   "cell_type": "markdown",
   "metadata": {
    "lang": "es"
   },
   "source": [
    "El método especial\n",
    "\n",
    "    __init__ ()\n",
    "    \n",
    "se llama automáticamente justo después de que se haya creado el objeto:\n",
    "\n",
    "    def __init__ (auto, raza):\n",
    "    \n",
    "Cada atributo en una definición de clase comienza con una referencia al objeto de instancia. Es por convención llamado self. La raza es el argumento. El valor se pasa durante la instanciación de clase.\n",
    "\n",
    "     self.breed = raza"
   ]
  },
  {
   "cell_type": "markdown",
   "metadata": {
    "lang": "es"
   },
   "source": [
    "En este momento existen dos instancias de la clase Perro. Con dos tipos de razas, se accede a estos atributos de esta manera:"
   ]
  },
  {
   "cell_type": "code",
   "execution_count": null,
   "metadata": {},
   "outputs": [],
   "source": [
    "coco.raza"
   ]
  },
  {
   "cell_type": "code",
   "execution_count": null,
   "metadata": {},
   "outputs": [],
   "source": [
    "firulais.raza"
   ]
  },
  {
   "cell_type": "markdown",
   "metadata": {
    "lang": "es"
   },
   "source": [
    "No hay paréntesis después de la raza; Esto se debe a que es un atributo y no toma ningún argumento.\n",
    "\n",
    "En Python también hay *atributos de objeto de clase*. Estos atributos de objeto de clase son los mismos para cualquier instancia de la clase. Por ejemplo, se puede crear el atributo *especies* para la clase Perro. Los perros, independientemente de su raza, nombre u otros atributos, siempre son mamíferos. Aplicamos esta lógica de la siguiente manera:"
   ]
  },
  {
   "cell_type": "code",
   "execution_count": 2,
   "metadata": {},
   "outputs": [],
   "source": [
    "class Perro:\n",
    "    \n",
    "    # Atributo de objeto de clase, o simplemente atributo de clase\n",
    "    especie = 'mamífero'\n",
    "    \n",
    "    def __init__(self,raza,nombre):\n",
    "        self.raza = raza\n",
    "        self.nombre = nombre"
   ]
  },
  {
   "cell_type": "code",
   "execution_count": 3,
   "metadata": {},
   "outputs": [],
   "source": [
    "coco = Perro('Labrador','Coco')"
   ]
  },
  {
   "cell_type": "code",
   "execution_count": 4,
   "metadata": {},
   "outputs": [
    {
     "data": {
      "text/plain": [
       "'Coco'"
      ]
     },
     "execution_count": 4,
     "metadata": {},
     "output_type": "execute_result"
    }
   ],
   "source": [
    "coco.nombre"
   ]
  },
  {
   "cell_type": "markdown",
   "metadata": {
    "lang": "es"
   },
   "source": [
    "Tenga en cuenta que el atributo de objeto de clase se define fuera de cualquier método en la clase. También por convención, se colocan antes del `init`."
   ]
  },
  {
   "cell_type": "code",
   "execution_count": 5,
   "metadata": {},
   "outputs": [
    {
     "data": {
      "text/plain": [
       "'mamífero'"
      ]
     },
     "execution_count": 5,
     "metadata": {},
     "output_type": "execute_result"
    }
   ],
   "source": [
    "coco.especie"
   ]
  },
  {
   "cell_type": "markdown",
   "metadata": {
    "lang": "es"
   },
   "source": [
    "---\n",
    "## Métodos\n",
    "\n",
    "Los métodos son funciones definidas dentro del cuerpo de una clase. Se utilizan para realizar operaciones con los atributos de los objetos. Los métodos son un concepto clave del paradigma POO. Son esenciales para dividir las responsabilidades en la programación, especialmente en aplicaciones grandes.\n",
    "\n",
    "Básicamente, puede pensar en los métodos como funciones que actúan sobre un objeto que tienen en cuenta el objeto en sí mismo a través de su argumento *self*.\n",
    "\n",
    "A continuación se presenta la creación de la clase \"Circulo\":"
   ]
  },
  {
   "cell_type": "code",
   "execution_count": null,
   "metadata": {},
   "outputs": [],
   "source": [
    "class Circulo:\n",
    "    pi = 3.14\n",
    "\n",
    "    # Los círculos se instancia con un radio ( por defecto es 1)\n",
    "    def __init__(self, radio=1):\n",
    "        self.radio = radio \n",
    "        self.area = radio * radio * Circulo.pi\n",
    "\n",
    "    # Método para resetear el radio y el área\n",
    "    def setRadio(self, nuevo_radio):\n",
    "        self.radio = nuevo_radio\n",
    "        self.area = nuevo_radio * nuevo_radio * self.pi\n",
    "\n",
    "    # Método para obtener la circunferencia\n",
    "    def getCircumf(self):\n",
    "        return self.radio * self.pi * 2\n",
    "\n",
    "\n",
    "c = Circulo()\n",
    "\n",
    "print('El radio es: ',c.radio)\n",
    "print('El área es: ',c.area)\n",
    "print('La circunferencia es: ',c.getCircumf())"
   ]
  },
  {
   "cell_type": "markdown",
   "metadata": {
    "lang": "es"
   },
   "source": [
    "En el método \\_\\_init\\_\\_ anterior, para calcular el atributo de área, se llama a a Circle.pi. Esto se debe a que el objeto todavía no tiene su propio atributo \".pi\", por lo que en su lugar llamamos al atributo de objeto de clase \"pi\".\n",
    "\n",
    "Sin embargo, en el método setRadio, trabajamos con una instancia de Circulo que tiene su propio atributo pi. En este caso es posible usar Circle.pi o self.pi."
   ]
  },
  {
   "cell_type": "code",
   "execution_count": null,
   "metadata": {},
   "outputs": [],
   "source": [
    "c.setRadio(2)\n",
    "print('El radio es: ',c.radio)\n",
    "print('El área es: ',c.area)\n",
    "print('La circunferencia es: ',c.getCircumf())"
   ]
  },
  {
   "cell_type": "markdown",
   "metadata": {},
   "source": [
    "Una función predefinida en Python muy útil es `dir()`. Permite inspecionar los atributos y métodos de un objeto. Primero lista los métodos, y luego los atributos."
   ]
  },
  {
   "cell_type": "code",
   "execution_count": null,
   "metadata": {},
   "outputs": [],
   "source": [
    "dir(c)"
   ]
  },
  {
   "cell_type": "markdown",
   "metadata": {},
   "source": [
    "Al utilizar `dir()` en el objeto \"c\" de la clase Circulo, se evidencia que hay muchos métodos que nunca definimos. Esto es porque cada clase en Python hereda automaticamente de la clase predefinida \"Object\"."
   ]
  },
  {
   "cell_type": "markdown",
   "metadata": {
    "lang": "es"
   },
   "source": [
    "---\n",
    "## Herencia\n",
    "\n",
    "La herencia es una forma de crear clases nuevas utilizando clases que ya se han definido. Las clases recién formadas se denominan clases derivadas, las clases de las que derivamos se denominan clases base. Los beneficios importantes de la herencia son la reutilización del código y la reducción de la complejidad de un programa. Las clases derivadas (descendientes) anulan o amplían la funcionalidad de las clases base (antepasados).\n",
    "\n",
    "Por ejemplo:"
   ]
  },
  {
   "cell_type": "code",
   "execution_count": null,
   "metadata": {},
   "outputs": [],
   "source": [
    "class Animal:\n",
    "    def __init__(self):\n",
    "        print(\"Animal creado\")\n",
    "\n",
    "    def quienSoy(self):\n",
    "        print(\"Animal\")\n",
    "\n",
    "    def comer(self):\n",
    "        print(\"Comiendo\")\n",
    "\n",
    "\n",
    "class Perro(Animal):\n",
    "    def __init__(self):\n",
    "        Animal.__init__(self)\n",
    "        print(\"Perro creado\")\n",
    "\n",
    "    def quienSoy(self):\n",
    "        print(\"Perro\")\n",
    "\n",
    "    def ladrar(self):\n",
    "        print(\"Guau!\")"
   ]
  },
  {
   "cell_type": "code",
   "execution_count": null,
   "metadata": {},
   "outputs": [],
   "source": [
    "d = Perro()"
   ]
  },
  {
   "cell_type": "code",
   "execution_count": null,
   "metadata": {},
   "outputs": [],
   "source": [
    "d.quienSoy()"
   ]
  },
  {
   "cell_type": "code",
   "execution_count": null,
   "metadata": {},
   "outputs": [],
   "source": [
    "d.comer()"
   ]
  },
  {
   "cell_type": "code",
   "execution_count": null,
   "metadata": {},
   "outputs": [],
   "source": [
    "d.ladrar()"
   ]
  },
  {
   "cell_type": "markdown",
   "metadata": {
    "lang": "es"
   },
   "source": [
    "En este ejemplo, hay dos clases: Animal y Perro. El animal es la clase base, el perro es la clase derivada.\n",
    "\n",
    "La clase derivada hereda la funcionalidad de la clase base.\n",
    "\n",
    "* Se muestra mediante el método `comer()`.\n",
    "\n",
    "La clase derivada modifica el comportamiento existente de la clase base.\n",
    "\n",
    "* Se muestra por el método `quienSoy()`.\n",
    "\n",
    "Finalmente, la clase derivada extiende la funcionalidad de la clase base, al definir un nuevo método `ladrar()`. Note como el método `__init__` de la clase Animal es llamado en el `__init__` de la clase Perro, y entonces es ejecutado en la instanciación del ejemplo."
   ]
  },
  {
   "cell_type": "markdown",
   "metadata": {
    "lang": "es"
   },
   "source": [
    "---\n",
    "## Polimorfismo\n",
    "\n",
    "Si bien las funciones pueden incluir diferentes argumentos, los métodos pertenecen a los objetos sobre los que actúan. En Python, *polimorfismo* se refiere a la forma en que diferentes clases de objetos pueden compartir el mismo nombre de método, y esos métodos pueden llamarse desde el mismo lugar a pesar de que se pueden pasar una variedad de objetos diferentes. La forma de explicar esto es con un ejemplo:"
   ]
  },
  {
   "cell_type": "code",
   "execution_count": null,
   "metadata": {},
   "outputs": [],
   "source": [
    "class Perro:\n",
    "    def __init__(self, nombre):\n",
    "        self.nombre = nombre\n",
    "\n",
    "    def habla(self):\n",
    "        return self.nombre+' dice Guau!'\n",
    "    \n",
    "class Gato:\n",
    "    def __init__(self, nombre):\n",
    "        self.nombre = nombre\n",
    "\n",
    "    def habla(self):\n",
    "        return self.nombre+' dice Miau!' \n",
    "    \n",
    "firulais = Perro('Firualis')\n",
    "michi = Gato('Michi')\n",
    "\n",
    "print(firulais.habla())\n",
    "print(michi.habla())"
   ]
  },
  {
   "cell_type": "markdown",
   "metadata": {
    "lang": "es"
   },
   "source": [
    "Aquí tenemos una clase de perro y una clase de gato, y cada uno tiene un método `.habla()`. Cuando se llama, el método `.speak ()` de cada objeto devuelve un resultado único para el objeto.\n",
    "\n",
    "Hay algunas formas diferentes de demostrar el polimorfismo. Primero, con un bucle for:"
   ]
  },
  {
   "cell_type": "code",
   "execution_count": null,
   "metadata": {},
   "outputs": [],
   "source": [
    "for mascota in [firulais,michi]:\n",
    "    print(mascota.habla())"
   ]
  },
  {
   "cell_type": "markdown",
   "metadata": {
    "lang": "es"
   },
   "source": [
    "Otra es con funciones:"
   ]
  },
  {
   "cell_type": "code",
   "execution_count": null,
   "metadata": {},
   "outputs": [],
   "source": [
    "def mascota_habla(mascota):\n",
    "    print(mascota.habla())\n",
    "\n",
    "mascota_habla(firulais)\n",
    "mascota_habla(michi)"
   ]
  },
  {
   "cell_type": "markdown",
   "metadata": {
    "lang": "es"
   },
   "source": [
    "En ambos casos se pasan diferentes tipos de objetos, y se obtienen resultados específicos del objeto del mismo mecanismo.\n",
    "\n",
    "Una práctica más común es utilizar clases abstractas y herencia. Una clase abstracta es aquella que nunca espera ser instanciada. Por ejemplo, nunca se crea un objeto Animal, solo objetos Perro y Gato, aunque estos derivan de Animal:"
   ]
  },
  {
   "cell_type": "code",
   "execution_count": null,
   "metadata": {},
   "outputs": [],
   "source": [
    "class Animal:\n",
    "    def __init__(self, nombre):    \n",
    "        self.nombre = nombre\n",
    "\n",
    "    def habla(self):              # Método abstracto, definido sólo por convención\n",
    "        raise NotImplementedError(\"La subclase debe implementar método abstracto\")\n",
    "\n",
    "\n",
    "class Perro(Animal):\n",
    "    \n",
    "    def habla(self):\n",
    "        return self.nombre+' dice Guau!'\n",
    "    \n",
    "class Gato(Animal):\n",
    "\n",
    "    def habla(self):\n",
    "        return self.nombre+' dice Miau!'\n",
    "    \n",
    "firulais = Perro('Firulais')\n",
    "michi = Gato('Michi')\n",
    "\n",
    "print(firulais.habla())\n",
    "print(michi.habla())"
   ]
  },
  {
   "cell_type": "markdown",
   "metadata": {
    "lang": "es"
   },
   "source": [
    "Ejemplos reales de polimorfismo incluyen:\n",
    "* abrir diferentes tipos de archivos: se necesitan diferentes herramientas para mostrar archivos de Word, pdf y Excel\n",
    "* agregar diferentes objetos: el operador `+` realiza aritmética y concatenación\n",
    "\n",
    "---"
   ]
  },
  {
   "cell_type": "markdown",
   "metadata": {
    "lang": "es"
   },
   "source": [
    "\n",
    "## Métodos especiales\n",
    "\n",
    "Las clases en Python pueden implementar ciertas operaciones con nombres de métodos especiales. En realidad, estos métodos no se llaman directamente, sino que se acceden mediante la sintaxis de lenguaje específica de Python. Por ejemplo:"
   ]
  },
  {
   "cell_type": "code",
   "execution_count": null,
   "metadata": {},
   "outputs": [],
   "source": [
    "class Libro:\n",
    "    def __init__(self, titulo, autor, paginas):\n",
    "        print(\"Se creó un libro\")\n",
    "        self.titulo = titulo\n",
    "        self.autor = autor\n",
    "        self.paginas = paginas\n",
    "\n",
    "    def __str__(self):\n",
    "        return \"Titulo: %s, autor: %s, paginas: %s\" %(self.titulo, self.autor, self.paginas)\n",
    "\n",
    "    def __len__(self):\n",
    "        return self.paginas\n",
    "\n",
    "    def __del__(self):\n",
    "        print(\"Se borró un libro\")"
   ]
  },
  {
   "cell_type": "code",
   "execution_count": null,
   "metadata": {},
   "outputs": [],
   "source": [
    "libro = Libro(\"El Aleph\", \"Jorge Luis Borges\", 146)\n",
    "\n",
    "#Métodos especiales\n",
    "print(libro)\n",
    "print(len(libro))\n",
    "del libro"
   ]
  },
  {
   "cell_type": "markdown",
   "metadata": {
    "lang": "es"
   },
   "source": [
    "Los métodos __init__(), __str__(), __len__() y __del__ () son métodos especiales que se definen por el uso de guiones bajos. Nos permiten usar funciones específicas de Python en objetos creados a través de nuestra clase. Existen otros métodos especiales, con usos más complejos. En esta capacitación no se profundiza sobre POO ya que no se considera esencial para entender los temas que siguen.\n",
    "\n",
    "Los curiosos pueden consultar sobre este tema en estos links:\n",
    "\n",
    "[Artículo de Jeff Knupp](https://jeffknupp.com/blog/2014/06/18/improve-your-python-python-classes-and-object-oriented-programming/)\n",
    "\n",
    "[TutotialsPoint](http://www.tutorialspoint.com/python/python_classes_objects.htm)\n",
    "\n",
    "[Documentación oficial](https://docs.python.org/3/tutorial/classes.html)"
   ]
  }
 ],
 "metadata": {
  "kernelspec": {
   "display_name": "Python 3 (ipykernel)",
   "language": "python",
   "name": "python3"
  },
  "language_info": {
   "codemirror_mode": {
    "name": "ipython",
    "version": 3
   },
   "file_extension": ".py",
   "mimetype": "text/x-python",
   "name": "python",
   "nbconvert_exporter": "python",
   "pygments_lexer": "ipython3",
   "version": "3.8.12"
  },
  "latex_envs": {
   "LaTeX_envs_menu_present": true,
   "autoclose": false,
   "autocomplete": true,
   "bibliofile": "biblio.bib",
   "cite_by": "apalike",
   "current_citInitial": 1,
   "eqLabelWithNumbers": true,
   "eqNumInitial": 1,
   "hotkeys": {
    "equation": "Ctrl-E",
    "itemize": "Ctrl-I"
   },
   "labels_anchors": false,
   "latex_user_defs": false,
   "report_style_numbering": false,
   "user_envs_cfg": false
  },
  "nbTranslate": {
   "displayLangs": [
    "es"
   ],
   "hotkey": "alt-t",
   "langInMainMenu": true,
   "sourceLang": "en",
   "targetLang": "es",
   "useGoogleTranslate": true
  },
  "toc": {
   "base_numbering": 1,
   "nav_menu": {},
   "number_sections": true,
   "sideBar": true,
   "skip_h1_title": false,
   "title_cell": "Table of Contents",
   "title_sidebar": "Contents",
   "toc_cell": false,
   "toc_position": {},
   "toc_section_display": true,
   "toc_window_display": false
  },
  "varInspector": {
   "cols": {
    "lenName": 16,
    "lenType": 16,
    "lenVar": 40
   },
   "kernels_config": {
    "python": {
     "delete_cmd_postfix": "",
     "delete_cmd_prefix": "del ",
     "library": "var_list.py",
     "varRefreshCmd": "print(var_dic_list())"
    },
    "r": {
     "delete_cmd_postfix": ") ",
     "delete_cmd_prefix": "rm(",
     "library": "var_list.r",
     "varRefreshCmd": "cat(var_dic_list()) "
    }
   },
   "types_to_exclude": [
    "module",
    "function",
    "builtin_function_or_method",
    "instance",
    "_Feature"
   ],
   "window_display": false
  }
 },
 "nbformat": 4,
 "nbformat_minor": 2
}
