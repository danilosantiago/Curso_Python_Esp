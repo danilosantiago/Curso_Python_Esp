{
 "cells": [
  {
   "cell_type": "markdown",
   "metadata": {},
   "source": [
    "<img src=\"images\\crisil_logo.png\" align=\"right\" border=\"0\"><br>\n",
    "\n",
    "\n",
    "# Capacitación en Python 06a - NumPy\n",
    "\n",
    "En el siguiente cuaderno se presenta una introducción a Matplotlib. Lea atentamente el cuaderno y corra el código en cada celda para visualizar su salida.\n",
    "\n",
    "---"
   ]
  },
  {
   "cell_type": "markdown",
   "metadata": {
    "lang": "es"
   },
   "source": [
    "## NumPy\n",
    "\n",
    "<img src=\"images\\numpy.jpeg\" align=\"center\" border=\"0\"><br>\n",
    "\n",
    "NumPy (o Numpy) es una biblioteca de álgebra lineal para Python, la razón por la que es tan importante para Data Science con Python es que casi todas las bibliotecas del ecosistema PyData confían en NumPy como uno de sus principales bloques de construcción. Permite el procesamiento de matrices y matrices multidimensionales de gran tamaño, con la ayuda de una gran coleccion de funciones matematicas de alto nivel.\n",
    "\n",
    "Numpy también es increíblemente rápido, ya que tiene enlaces a bibliotecas en C. Para obtener más información sobre por qué desea utilizar matrices en lugar de listas, consulte esta excelente [publicación de StackOverflow](http://stackoverflow.com/questions/993984/why-numpy-instead-of-python-lists).\n"
   ]
  },
  {
   "cell_type": "markdown",
   "metadata": {
    "collapsed": true
   },
   "source": [
    "## Importación\n",
    "\n",
    "Hasta este punto de la capacitación se ha trabajado sin la necesidad de importar librerías o paquetes externos a Python. LLegado este punto, es necesario aprender a importar una bibliteca externa. Como Numpy viene por defecto implementada en Anaconda Distribution, no es necesaria su instalación. Lo único que falta es aprender la sintaxis de importación, que se presenta en la próxima celda."
   ]
  },
  {
   "cell_type": "code",
   "execution_count": null,
   "metadata": {},
   "outputs": [],
   "source": [
    "import numpy as np"
   ]
  },
  {
   "cell_type": "markdown",
   "metadata": {
    "lang": "es"
   },
   "source": [
    "La declaración `import` permite que el intérprete del lenguaje busque en las carpetas incluídas en el PATH algún paquete con el nombre que se indica despúes de un espacio. La declaración `as` permite llamar a el paquete o módulo importado por un nombremás conveniente. Por convención, se Numpy se importa como \"np\".\n",
    "\n",
    "Numpy tiene muchas funciones y capacidades integradas. No se cubren todos, sino que nos centraremos en algunos de los aspectos más importantes de Numpy: vectores, arrays, matrices y generación de números. \n",
    "\n",
    "## Arrays de Numpy\n",
    "\n",
    "Los arrays (arreglos) de NumPy son el principal elemento de Numpy que se utiliza a lo largo del curso. Éstos esencialmente vienen en dos sabores: vectores y matrices. Los vectores son estrictamente arrays 1-d y las matrices son 2-d (tenga en cuenta que de todos modos una matriz puede tener solo una fila o una columna).\n",
    "\n",
    "Los temas a tratar en esta sección son:\n",
    " \n",
    " 1. Creando arrays\n",
    " 2. Métodos incorporados\n",
    " 3. Random\n",
    " 4. Indexación y selección\n",
    " 5. Operaciones\n",
    " 6. Funciones universales\n",
    " \n",
    "### Creando arrays\n",
    "\n",
    "#### Desde una lista de Python\n",
    "\n",
    "Es posibe crear un array convirtiendo directamente una lista o lista de listas:"
   ]
  },
  {
   "cell_type": "code",
   "execution_count": null,
   "metadata": {},
   "outputs": [],
   "source": [
    "#Ejemplo de lista\n",
    "list_1 = [1,2,3]\n",
    "#muestro\n",
    "list_1"
   ]
  },
  {
   "cell_type": "code",
   "execution_count": null,
   "metadata": {},
   "outputs": [],
   "source": [
    "#Asigno array a una variable\n",
    "list_array=np.array(list_1)\n",
    "#Imprimo el array\n",
    "print(list_array)"
   ]
  },
  {
   "cell_type": "code",
   "execution_count": null,
   "metadata": {},
   "outputs": [],
   "source": [
    "nested_list= [[1,2,3],[4,5,6],[7,8,9]] # lista anidada\n",
    "#muestro\n",
    "nested_list"
   ]
  },
  {
   "cell_type": "code",
   "execution_count": null,
   "metadata": {},
   "outputs": [],
   "source": [
    "print(np.array(nested_list))"
   ]
  },
  {
   "cell_type": "markdown",
   "metadata": {
    "lang": "es"
   },
   "source": [
    "### Métodos incorporados\n",
    "\n",
    "Hay muchos métodos incorporados en Numpy para generar arrays."
   ]
  },
  {
   "cell_type": "markdown",
   "metadata": {},
   "source": [
    "#### arange()\n",
    "\n",
    "Retorno valores equiespaciados detro de un intervalo dado."
   ]
  },
  {
   "cell_type": "code",
   "execution_count": null,
   "metadata": {},
   "outputs": [],
   "source": [
    "np.arange(0,10,2)"
   ]
  },
  {
   "cell_type": "code",
   "execution_count": null,
   "metadata": {},
   "outputs": [],
   "source": [
    "np.arange(0,11,2)"
   ]
  },
  {
   "cell_type": "markdown",
   "metadata": {},
   "source": [
    "#### zeros() y ones()\n",
    "\n",
    "Genero arrays de ceros y unos."
   ]
  },
  {
   "cell_type": "code",
   "execution_count": null,
   "metadata": {},
   "outputs": [],
   "source": [
    "np.zeros(3) # Si sólo ingreso un argumento, se considera como un array de una fila"
   ]
  },
  {
   "cell_type": "code",
   "execution_count": null,
   "metadata": {},
   "outputs": [],
   "source": [
    "np.zeros((5,5)) # al ingresar dos argumentos el primero corresponde al nro de filas, el 2do al nro de columnas"
   ]
  },
  {
   "cell_type": "code",
   "execution_count": null,
   "metadata": {},
   "outputs": [],
   "source": [
    "np.ones(3) # sigue la misma idea que zeros()"
   ]
  },
  {
   "cell_type": "code",
   "execution_count": null,
   "metadata": {},
   "outputs": [],
   "source": [
    "np.ones((4,3))"
   ]
  },
  {
   "cell_type": "markdown",
   "metadata": {},
   "source": [
    "#### linspace()\n",
    "Retorna valores equiespaciados de números dentro de un intervalo específico."
   ]
  },
  {
   "cell_type": "code",
   "execution_count": null,
   "metadata": {},
   "outputs": [],
   "source": [
    "np.linspace(0,10,3) # Los dos primeros argumentos indican el inicio y el final del intervalo\n",
    "                    # el último argumento el número de puntos dentro del intervalo"
   ]
  },
  {
   "cell_type": "code",
   "execution_count": null,
   "metadata": {},
   "outputs": [],
   "source": [
    "np.linspace(0,10,50)"
   ]
  },
  {
   "cell_type": "markdown",
   "metadata": {},
   "source": [
    "Su variante `np.logspace()` funciona de manera análoga pero el espaciado entre valores se encuentra en escala logarítmica."
   ]
  },
  {
   "cell_type": "markdown",
   "metadata": {},
   "source": [
    "#### eye()\n",
    "\n",
    "Crea la matriz identidad por defecto, también se utiliza para crear matrices con elementos off-diagonal."
   ]
  },
  {
   "cell_type": "code",
   "execution_count": null,
   "metadata": {},
   "outputs": [],
   "source": [
    "print(np.eye(4)) # el 1er argumento indica la dimensión de la matriz cuadrada, en este ej. 4x4\n",
    "print('='*20)\n",
    "print(np.eye(4, k=1)) #el argumento k indica que diagonal llenar"
   ]
  },
  {
   "cell_type": "markdown",
   "metadata": {},
   "source": [
    "### Random \n",
    "\n",
    "Mediante el módulo Random, Numpy provee la funcionalidad de crear arrays con números aleatorios.\n",
    "\n",
    "#### rand()\n",
    "\n",
    "Crea un array de la forma dada y lo pobla con varoles aleatorios con una [distribución uniforme](https://en.wikipedia.org/wiki/Uniform_distribution_(continuous)) sobre `[0,1)` (no incluye 1). Note que para llamar al módulo `random` dentro de numpy, se utiliza la \"notación de punto\". Para llamar a la función `rand()` dentro del módulo `random`, otra vez se utiliza la notación de punto. "
   ]
  },
  {
   "cell_type": "code",
   "execution_count": null,
   "metadata": {},
   "outputs": [],
   "source": [
    "np.random.rand(2) "
   ]
  },
  {
   "cell_type": "code",
   "execution_count": null,
   "metadata": {},
   "outputs": [],
   "source": [
    "np.random.rand(5,5) # los primeros argumentos de rand() determinan las dimensiones del array"
   ]
  },
  {
   "cell_type": "markdown",
   "metadata": {},
   "source": [
    "#### randn()\n",
    "\n",
    "Retorna una muestra (o muestras) de la [distribución normal estandar](https://en.wikipedia.org/wiki/Normal_distribution#Standard_normal_distribution) , a diferencia de `rand()` que devuelve muestras de la distribución uniforme."
   ]
  },
  {
   "cell_type": "code",
   "execution_count": null,
   "metadata": {},
   "outputs": [],
   "source": [
    "np.random.randn(2) # nuevamente se utiliza la notación de punto"
   ]
  },
  {
   "cell_type": "code",
   "execution_count": null,
   "metadata": {},
   "outputs": [],
   "source": [
    "np.random.randn(5,5)"
   ]
  },
  {
   "cell_type": "markdown",
   "metadata": {},
   "source": [
    "#### randint()\n",
    "\n",
    "Retorna números enteros aleatorios desde una cota inferior (incluída), a una cota superior (excluída). "
   ]
  },
  {
   "cell_type": "code",
   "execution_count": null,
   "metadata": {},
   "outputs": [],
   "source": [
    "np.random.randint(1,100) # los primeros dos  argumentos son las cotas"
   ]
  },
  {
   "cell_type": "code",
   "execution_count": null,
   "metadata": {},
   "outputs": [],
   "source": [
    "np.random.randint(1,100,10) # el tercer argumento es el número de muestras (1 por defecto)"
   ]
  },
  {
   "cell_type": "markdown",
   "metadata": {},
   "source": [
    "### Indexación y selección"
   ]
  },
  {
   "cell_type": "code",
   "execution_count": null,
   "metadata": {},
   "outputs": [],
   "source": [
    "#array de prueba\n",
    "arr_example = np.arange(0,11)"
   ]
  },
  {
   "cell_type": "code",
   "execution_count": null,
   "metadata": {},
   "outputs": [],
   "source": [
    "#muestro array\n",
    "arr_example"
   ]
  },
  {
   "cell_type": "markdown",
   "metadata": {
    "lang": "en"
   },
   "source": [
    "## Indexación y selección por corchetes\n",
    "La manera más simple para elegir uno o más elementos de un array es similar al manejo de listas de Python:\n"
   ]
  },
  {
   "cell_type": "code",
   "execution_count": null,
   "metadata": {},
   "outputs": [],
   "source": [
    "#Selecciono un valor determinado\n",
    "arr_example[8]"
   ]
  },
  {
   "cell_type": "code",
   "execution_count": null,
   "metadata": {},
   "outputs": [],
   "source": [
    "#Selecciono valores dentro de un rango\n",
    "arr_example[1:5]"
   ]
  },
  {
   "cell_type": "markdown",
   "metadata": {},
   "source": [
    "#### Broadcasting\n",
    "\n",
    "Numpy difiere de una lista normal de Python por la posibilidad de realizar \"broadcasting\"."
   ]
  },
  {
   "cell_type": "code",
   "execution_count": null,
   "metadata": {},
   "outputs": [],
   "source": [
    "#Setear valores por medio de índices (Broadcasting)\n",
    "arr_example[0:5]=100\n",
    "\n",
    "#Muestro resultado\n",
    "arr_example"
   ]
  },
  {
   "cell_type": "code",
   "execution_count": null,
   "metadata": {},
   "outputs": [],
   "source": [
    "lista=[ i for i in range(0,11)]\n",
    "lista"
   ]
  },
  {
   "cell_type": "code",
   "execution_count": null,
   "metadata": {},
   "outputs": [],
   "source": [
    "lista[0:5]=100 # esto devuelve un error de asignación"
   ]
  },
  {
   "cell_type": "markdown",
   "metadata": {
    "lang": "es"
   },
   "source": [
    "#### Indexación de un array de 2D (matrices)\n",
    "\n",
    "El formato general es **arr_2d [fila][col]** o **arr_2d [fila, col]**. Es recomendable utilizar la segunda notación para mayor claridad."
   ]
  },
  {
   "cell_type": "code",
   "execution_count": null,
   "metadata": {},
   "outputs": [],
   "source": [
    "arr_2d = np.array([[5,10,15],[20,25,30],[35,40,45]])\n",
    "    \n",
    "#Muestro\n",
    "arr_2d"
   ]
  },
  {
   "cell_type": "code",
   "execution_count": null,
   "metadata": {},
   "outputs": [],
   "source": [
    "#LLamando fila por índice\n",
    "arr_2d[1]\n"
   ]
  },
  {
   "cell_type": "code",
   "execution_count": null,
   "metadata": {},
   "outputs": [],
   "source": [
    "# Selecciono un valor en particular\n",
    "arr_2d[1][0]"
   ]
  },
  {
   "cell_type": "code",
   "execution_count": null,
   "metadata": {},
   "outputs": [],
   "source": [
    "# Se pueden tomar rebanas mediante la siguiente sintaxis\n",
    "arr_2d[:2,1:] # corresponde al bloque superior derecho de 2x2 de la matriz original"
   ]
  },
  {
   "cell_type": "code",
   "execution_count": null,
   "metadata": {},
   "outputs": [],
   "source": [
    "#Todos las columnas de la última fila\n",
    "arr_2d[-1,:]"
   ]
  },
  {
   "cell_type": "markdown",
   "metadata": {
    "collapsed": true
   },
   "source": [
    "### Operaciones"
   ]
  },
  {
   "cell_type": "markdown",
   "metadata": {
    "lang": "es"
   },
   "source": [
    "#### Aritmetica\n",
    "\n",
    "Es fácil realizar operaciones aritméticas entre arrays, como también operaciones de escalares con arrays."
   ]
  },
  {
   "cell_type": "code",
   "execution_count": null,
   "metadata": {},
   "outputs": [],
   "source": [
    "arr_example= np.arange(0,11)"
   ]
  },
  {
   "cell_type": "code",
   "execution_count": null,
   "metadata": {},
   "outputs": [],
   "source": [
    "arr_example + arr_example # adición entre elementos"
   ]
  },
  {
   "cell_type": "code",
   "execution_count": null,
   "metadata": {},
   "outputs": [],
   "source": [
    "arr_example * arr_example # multiplicación entre elementos, \"producto de Hadamard\" para matrices"
   ]
  },
  {
   "cell_type": "code",
   "execution_count": null,
   "metadata": {},
   "outputs": [],
   "source": [
    "arr_example - arr_example # sustracción entre elementos"
   ]
  },
  {
   "cell_type": "code",
   "execution_count": null,
   "metadata": {},
   "outputs": [],
   "source": [
    "arr_example/arr_example # Alerta por división por cero, reemplaza valor por NaN(Not a Number)"
   ]
  },
  {
   "cell_type": "code",
   "execution_count": null,
   "metadata": {},
   "outputs": [],
   "source": [
    "1/arr_example # Otro alerta, pero esta vez reemplaza por un valor infinito"
   ]
  },
  {
   "cell_type": "code",
   "execution_count": null,
   "metadata": {},
   "outputs": [],
   "source": [
    "arr_example**3 #potenciación"
   ]
  },
  {
   "cell_type": "markdown",
   "metadata": {},
   "source": [
    "#### Operaciones vectoriales y matriciales\n",
    "\n",
    "Las operaciones anteriores valen para matrices, y además, se agregan las siguientes."
   ]
  },
  {
   "cell_type": "code",
   "execution_count": null,
   "metadata": {},
   "outputs": [],
   "source": [
    "A = np.random.randint(0, high=10, size=(3,2)) #matriz aleatoria A\n",
    "B = np.random.randint(0, high=10,size=(2,2)) #matriz aleatoria B\n",
    "print(A)\n",
    "print('='*20)\n",
    "print(B)"
   ]
  },
  {
   "cell_type": "code",
   "execution_count": null,
   "metadata": {},
   "outputs": [],
   "source": [
    "C = A.dot(B) # producto matricial\n",
    "D = np.matmul(A,B) # también se puede escribir así\n",
    "E = A @ B # o así\n",
    "print(C)\n",
    "# las 3 opciones son equivalentes para matrices 2d, se recomienda el uso de matmul()\n",
    "np.all(C == D) and np.all(D==E) #all() verificar que los elemntos de un array correspondan a True"
   ]
  },
  {
   "cell_type": "markdown",
   "metadata": {},
   "source": [
    "También se utiliza `dot()` para el producto escalar entre vectores."
   ]
  },
  {
   "cell_type": "code",
   "execution_count": null,
   "metadata": {},
   "outputs": [],
   "source": [
    "a = np.array([1,0,0])\n",
    "b = np.array([0,1,0])\n",
    "c = a.dot(b)\n",
    "print(c)"
   ]
  },
  {
   "cell_type": "markdown",
   "metadata": {},
   "source": [
    "El producto vectorial se realiza mediante `cross()`."
   ]
  },
  {
   "cell_type": "code",
   "execution_count": null,
   "metadata": {},
   "outputs": [],
   "source": [
    "d = np.cross(a,b)\n",
    "print(d)"
   ]
  },
  {
   "cell_type": "markdown",
   "metadata": {},
   "source": [
    "Para revisar las dimensiones de una matriz, se llama al atributo `shape`."
   ]
  },
  {
   "cell_type": "code",
   "execution_count": null,
   "metadata": {},
   "outputs": [],
   "source": [
    "C.shape"
   ]
  },
  {
   "cell_type": "markdown",
   "metadata": {},
   "source": [
    "Otros métodos útiles son `identity()`, `transpose()`, `linalg.inv()`. "
   ]
  },
  {
   "cell_type": "code",
   "execution_count": null,
   "metadata": {},
   "outputs": [],
   "source": [
    "I = np.identity(3) #matriz identidad, a diferencia de eye() sólo permite llenar la diagonal principal\n",
    "np.random.seed(42) # fijo semilla para obtener el mismo resultado de números \"aleatorios\"\n",
    "A = np.random.randint(0, high=10, size=(3,3))\n",
    "print(I)\n",
    "print('='*20)\n",
    "print(A)"
   ]
  },
  {
   "cell_type": "code",
   "execution_count": null,
   "metadata": {},
   "outputs": [],
   "source": [
    "A_t1 = A.transpose() #matriz transpuesta\n",
    "A_t2 = A.T # es equivalente\n",
    "print(A_t1)\n",
    "A_t1 == A_t2 "
   ]
  },
  {
   "cell_type": "code",
   "execution_count": null,
   "metadata": {},
   "outputs": [],
   "source": [
    "A_inv = np.linalg.inv(A)# matriz inversa\n",
    "print(A_inv)"
   ]
  },
  {
   "cell_type": "markdown",
   "metadata": {
    "lang": "es"
   },
   "source": [
    "### Funciones universales\n",
    "\n",
    "Numpy viene con muchas [funciones universales de arrays](http://docs.scipy.org/doc/numpy/reference/ufuncs.html), que son esencialmente operaciones matemáticas que utilizan para realizar la operación en el array."
   ]
  },
  {
   "cell_type": "code",
   "execution_count": null,
   "metadata": {},
   "outputs": [],
   "source": [
    "#Raiz cuadrada de cada elemento\n",
    "np.sqrt(arr_example)"
   ]
  },
  {
   "cell_type": "code",
   "execution_count": null,
   "metadata": {},
   "outputs": [],
   "source": [
    "#Exponencial de cada valor\n",
    "np.exp(arr_example)"
   ]
  },
  {
   "cell_type": "code",
   "execution_count": null,
   "metadata": {},
   "outputs": [],
   "source": [
    "#valor máximo en el array\n",
    "np.max(arr_example) # también puede utilizarse arr_example.max()"
   ]
  },
  {
   "cell_type": "code",
   "execution_count": null,
   "metadata": {},
   "outputs": [],
   "source": [
    "# seno de cada elemento\n",
    "np.sin(arr_example)"
   ]
  },
  {
   "cell_type": "code",
   "execution_count": null,
   "metadata": {},
   "outputs": [],
   "source": [
    "#logaritmo (devuelve advertencia para valor cero)\n",
    "np.log(arr_example)"
   ]
  },
  {
   "cell_type": "markdown",
   "metadata": {},
   "source": [
    "#### np.vectorize()\n",
    "\n",
    "Esta función se utiliza para evaluar una función común de python sobre elementos de arrays de Numpy. No está diseñada pensada en su performance, sino en su utilidad. Pueden existir maneras más eficientes de conseguir el mismo resultado, pero no siempre de manera tan simple."
   ]
  },
  {
   "cell_type": "code",
   "execution_count": null,
   "metadata": {},
   "outputs": [],
   "source": [
    "def mi_func(elemento_de_array):\n",
    "    return (2*elemento_de_array+7)**2\n",
    "    "
   ]
  },
  {
   "cell_type": "code",
   "execution_count": null,
   "metadata": {},
   "outputs": [],
   "source": [
    "func_vectorizada = np.vectorize(mi_func) #\"vectorizo\" para obtener una función universal de array equivalente "
   ]
  },
  {
   "cell_type": "code",
   "execution_count": null,
   "metadata": {},
   "outputs": [],
   "source": [
    "func_vectorizada(arr_example)"
   ]
  },
  {
   "cell_type": "markdown",
   "metadata": {},
   "source": [
    "¿Recuerdan las expresiones lambda? En este tipo de situaciones es cuando destacan. El anterior ejemplo se simplifica fácilmente."
   ]
  },
  {
   "cell_type": "code",
   "execution_count": null,
   "metadata": {},
   "outputs": [],
   "source": [
    "np.vectorize(lambda x: (2*x+7)**2)(arr_example)"
   ]
  },
  {
   "cell_type": "markdown",
   "metadata": {},
   "source": [
    "La mejor fuente de consulta sobre Numpy es su documentación oficial, aquellos interesados pueden referise a https://docs.scipy.org/doc/numpy/reference/index.html"
   ]
  }
 ],
 "metadata": {
  "kernelspec": {
   "display_name": "Python 3",
   "language": "python",
   "name": "python3"
  },
  "language_info": {
   "codemirror_mode": {
    "name": "ipython",
    "version": 3
   },
   "file_extension": ".py",
   "mimetype": "text/x-python",
   "name": "python",
   "nbconvert_exporter": "python",
   "pygments_lexer": "ipython3",
   "version": "3.7.6"
  },
  "latex_envs": {
   "LaTeX_envs_menu_present": true,
   "autoclose": false,
   "autocomplete": true,
   "bibliofile": "biblio.bib",
   "cite_by": "apalike",
   "current_citInitial": 1,
   "eqLabelWithNumbers": true,
   "eqNumInitial": 1,
   "hotkeys": {
    "equation": "Ctrl-E",
    "itemize": "Ctrl-I"
   },
   "labels_anchors": false,
   "latex_user_defs": false,
   "report_style_numbering": false,
   "user_envs_cfg": false
  },
  "nbTranslate": {
   "displayLangs": [
    "es"
   ],
   "hotkey": "alt-t",
   "langInMainMenu": true,
   "sourceLang": "en",
   "targetLang": "es",
   "useGoogleTranslate": true
  }
 },
 "nbformat": 4,
 "nbformat_minor": 2
}
