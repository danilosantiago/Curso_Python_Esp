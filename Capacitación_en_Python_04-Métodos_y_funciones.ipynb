{
 "cells": [
  {
   "cell_type": "markdown",
   "metadata": {},
   "source": [
    "<img src=\"images\\crisil_logo.png\" align=\"right\" border=\"0\"><br>\n",
    "\n",
    "\n",
    "# Capacitación en Python 04 - Métodos y funciones\n",
    "     \n",
    "En el siguiente cuaderno se presenta una introducción a métodos y funciones en Python. Varios temas son presentados de manera superficial, por lo que se provee material suplementario opcional en un cuaderno aparte. Lea atentamente el cuaderno y corra el código en cada celda para visualizar su salida."
   ]
  },
  {
   "cell_type": "markdown",
   "metadata": {
    "lang": "es"
   },
   "source": [
    "---\n",
    "# Métodos\n",
    "\n",
    "A lo largo de la capacitación se han utilizado algunos métodos. Los métodos son esencialmente funciones integradas en objetos. Más adelante en el curso se discute sobre cómo crear objetos y métodos usando la programación orientada a objetos y las clases.\n",
    "\n",
    "Los métodos realizan acciones específicas en un objeto y también aceptan argumentos, como una función. A continuación se presenta una breve introducción a los métodos.\n",
    "\n",
    "Los métodos se encuentra en la forma:\n",
    "\n",
    "    objeto.método(arg1, arg2, etc ...)\n",
    "    \n",
    "Más adelante se verá que es posible pensar que los métodos tienen un argumento 'self' que se refiere al objeto mismo. Hasta no abordar la programación orientada a objetos, esto puede que carezca de sentido.\n",
    "\n",
    "Recordemos los diversos métodos que tiene una lista:"
   ]
  },
  {
   "cell_type": "code",
   "execution_count": null,
   "metadata": {},
   "outputs": [],
   "source": [
    "# Creo una lista simple\n",
    "lst = [1,2,3,4,5]\n",
    "#lst. #borre el primer signo numeral, posicione el curso luegor del punto y presione la tecla tabulación"
   ]
  },
  {
   "cell_type": "markdown",
   "metadata": {
    "lang": "es"
   },
   "source": [
    "Con iPython y Jupyter Notebook DEBERÍA ser posible ver rápidamente todos los métodos disponible presionando la tecla de tabulación luego de agregar un punto después del nombre del objeto. Sin embargo, en las últimas versiones han surgido algunos problemas. Por lo que a veces si se require esta funcionalidad se debe degradar a una versión anterior. \n",
    "\n",
    "Para las listas, los métodos son:\n",
    "\n",
    "* append\n",
    "* count\n",
    "* extend\n",
    "* insert\n",
    "* pop\n",
    "* remove\n",
    "* reverse\n",
    "* sort"
   ]
  },
  {
   "cell_type": "markdown",
   "metadata": {
    "lang": "es"
   },
   "source": [
    "Utilice Shift + Tab en Jupyter Notebook para obtener más ayuda sobre el método. En otros entornos de Python puede usar también la función `help()`:"
   ]
  },
  {
   "cell_type": "code",
   "execution_count": null,
   "metadata": {},
   "outputs": [],
   "source": [
    "help(lst.count)"
   ]
  },
  {
   "cell_type": "markdown",
   "metadata": {
    "lang": "es"
   },
   "source": [
    "---\n",
    "## Funciones\n",
    "\n",
    "### Introducción a las funciones\n",
    "\n",
    "**¿qué es una función?**\n",
    "\n",
    "Formalmente, una función es un dispositivo útil que agrupa un conjunto de declaraciones para que puedan ejecutarse más de una vez. También permiten especificar parámetros que sirven como entradas para las funciones.\n",
    "\n",
    "En un nivel más fundamental, las funciones permiten evitar escribir repetidamente el mismo código una y otra vez. En el cuaderno sobre strings se utilizó una función `len()` para obtener la longitud de una cadena de caracteres. Dado que verificar la longitud de una secuencia es una tarea común, es deseable que exista una función que pueda hacer esto repetidamente a voluntad del programador.\n",
    "\n",
    "Las funciones son uno de los niveles más básicos de reutilización de código en Python."
   ]
  },
  {
   "cell_type": "markdown",
   "metadata": {
    "lang": "es"
   },
   "source": [
    "### Declaraciones def\n",
    "\n",
    "La sintaxis de una función en Python tiene la siguiente forma:"
   ]
  },
  {
   "cell_type": "code",
   "execution_count": null,
   "metadata": {},
   "outputs": [],
   "source": [
    "def nombre_de_funcion(arg1,arg2):\n",
    "    '''\n",
    "    Aquí es donde se encuentra la documentación de la función.\n",
    "    Las tres comillas designan texto que es ignorado por el intérprete cuando se llama la función,\n",
    "    pero que se guarda como descripción de la misma.\n",
    "    '''\n",
    "    # El código va aquí\n",
    "    # return el resultado deseado"
   ]
  },
  {
   "cell_type": "markdown",
   "metadata": {
    "lang": "es"
   },
   "source": [
    "La sintaxis empieza con <code>def</code> y luego un espacio seguido del nombre de la función. Es importante mantener los nombres relevantes, por ejemplo, `len()` es un buen nombre para una función \"length()\". Hay que ser cuidadoso con los nombres, no se debe nombrar una función con el mismo nombre que una [función incorporada o \"predefinida\" en Python](https://docs.python.org/2/library/functions.html) (como len).\n",
    "\n",
    "Despues vienen un par de paréntesis con varios argumentos separados por una coma. Estos argumentos son las entradas para la función. Es posible utilizar estas entradas en la función y hacer referencia a ellas. Después de esto se escribe dos puntos.\n",
    "\n",
    "**IMPORTANTE**, debe dejar una sangría o indentación para comenzar el código dentro de su función correctamente. Python utiliza *espacios en blanco* para organizar el código. Muchos otros lenguajes de programación no hacen esto, así que es importante resaltarlo.\n",
    "\n",
    "A continuación, sigue la cadena de documentación (*docstring*), aquí es donde se escribe una descripción básica de la función. Usando iPython y iPython Notebooks, es posible leer estas cadenas de documentos presionando Shift + Tab después del nombre de una función. Las cadenas de documentos no son necesarias para funciones simples, pero es una buena práctica incluirlas para que otras personas (y muchas veces el autor mismo) puedan comprender fácilmente el código.\n",
    "\n",
    "Después de todo esto, se escribe el código que desea ejecutar.\n",
    "\n",
    "La mejor manera de aprender funciones es a través de ejemplos, así que se presentan un par de ellos a continuación."
   ]
  },
  {
   "cell_type": "markdown",
   "metadata": {
    "lang": "es"
   },
   "source": [
    "### Ejemplo 1: una función de saludo simple\n",
    "Función que saluda a las personas con su nombre."
   ]
  },
  {
   "cell_type": "code",
   "execution_count": null,
   "metadata": {},
   "outputs": [],
   "source": [
    "def saludo(nombre):\n",
    "    print('Hola %s' %(nombre))"
   ]
  },
  {
   "cell_type": "code",
   "execution_count": null,
   "metadata": {},
   "outputs": [],
   "source": [
    "saludo('Miguel')"
   ]
  },
  {
   "cell_type": "markdown",
   "metadata": {
    "lang": "es"
   },
   "source": [
    "### Utilizando return\n",
    "Varias funciones utilizan la declaración <code>return</code>. Ésta permite que una función *devuelva* un resultado que luego puede almacenarse como una variable, o utilizarse de la manera que el usuario desee.\n",
    "\n",
    "### Ejemplo 2: Función de adición"
   ]
  },
  {
   "cell_type": "code",
   "execution_count": null,
   "metadata": {},
   "outputs": [],
   "source": [
    "def ad_num(num1,num2):\n",
    "    return num1+num2"
   ]
  },
  {
   "cell_type": "code",
   "execution_count": null,
   "metadata": {},
   "outputs": [],
   "source": [
    "ad_num(4,5)"
   ]
  },
  {
   "cell_type": "code",
   "execution_count": null,
   "metadata": {},
   "outputs": [],
   "source": [
    "# Guardar resultado como variable\n",
    "resultado = ad_num(4,5)"
   ]
  },
  {
   "cell_type": "code",
   "execution_count": null,
   "metadata": {},
   "outputs": [],
   "source": [
    "print(resultado)"
   ]
  },
  {
   "cell_type": "markdown",
   "metadata": {
    "lang": "es"
   },
   "source": [
    "¿Qué sucede si ingresamos dos cadenas de caracteres?"
   ]
  },
  {
   "cell_type": "code",
   "execution_count": null,
   "metadata": {},
   "outputs": [],
   "source": [
    "ad_num('uno','dos')"
   ]
  },
  {
   "cell_type": "markdown",
   "metadata": {
    "lang": "es"
   },
   "source": [
    "Tenga en cuenta que debido a que no se declara el tipo de variable en Python, esta función sirve tanto para agregar números como secuencias. \n",
    "\n",
    "Es posible agregar declaraciones <code>break</code>, <code>continue</code> y <code>pass</code> en el código."
   ]
  },
  {
   "cell_type": "markdown",
   "metadata": {
    "lang": "es"
   },
   "source": [
    "### Ejemplo 3\n",
    "Un número es primo si ese número solo es divisible por 1 y por sí mismo. Abajo se muestra un ejemplo de una primera versión de la función que verifica si todos los números del 1 al N son primos."
   ]
  },
  {
   "cell_type": "code",
   "execution_count": null,
   "metadata": {},
   "outputs": [],
   "source": [
    "def es_primo(num):\n",
    "    '''\n",
    "    Método ingenuo para revisar primos. \n",
    "    '''\n",
    "    for n in range(2,num):\n",
    "        if num % n == 0:\n",
    "            print(num,'no es primo')\n",
    "            break\n",
    "    else: # Si el resto nunca es cero, entonces es primo\n",
    "        print(num,'es primo!')"
   ]
  },
  {
   "cell_type": "code",
   "execution_count": null,
   "metadata": {},
   "outputs": [],
   "source": [
    "es_primo(16)"
   ]
  },
  {
   "cell_type": "code",
   "execution_count": null,
   "metadata": {},
   "outputs": [],
   "source": [
    "es_primo(17)"
   ]
  },
  {
   "cell_type": "markdown",
   "metadata": {
    "lang": "es"
   },
   "source": [
    "Observe cómo <code>else</code> se alinea bajo <code>for</code> y no <code>if</code>. Esto es así para que el ciclo <code>for</code> agote todas las posibilidades en el rango antes de imprimir que el número es primo.\n",
    "\n",
    "También tenga en cuenta cómo se frena el código después de la primera declaración de impresión. Tan pronto como se determina que un número no es primo, se sale del ciclo <code>for</code> mediante `break`.\n",
    "\n",
    "Es posible mejorar esta función al verificar solo la raíz cuadrada del número objetivo y al ignorar todos los números pares después de verificar 2. También se puede pedir que la función retorne un valor booleano. "
   ]
  },
  {
   "cell_type": "markdown",
   "metadata": {
    "lang": "es"
   },
   "source": [
    "---\n",
    "## Expresiones lambda, map, y filter"
   ]
  },
  {
   "cell_type": "markdown",
   "metadata": {
    "lang": "es"
   },
   "source": [
    "### Función map\n",
    "\n",
    "La función **map** permite \"asignar\" una función a un objeto iterable. Es decir, es posible aplicar rápidamente la misma función a cada elemento de un elemento iterable, como una lista. Por ejemplo:"
   ]
  },
  {
   "cell_type": "code",
   "execution_count": null,
   "metadata": {},
   "outputs": [],
   "source": [
    "def cuadrado(num):\n",
    "    return num**2"
   ]
  },
  {
   "cell_type": "code",
   "execution_count": null,
   "metadata": {},
   "outputs": [],
   "source": [
    "mis_nums = [1,2,3,4,5]"
   ]
  },
  {
   "cell_type": "code",
   "execution_count": null,
   "metadata": {},
   "outputs": [],
   "source": [
    "map(cuadrado,mis_nums)"
   ]
  },
  {
   "cell_type": "code",
   "execution_count": null,
   "metadata": {},
   "outputs": [],
   "source": [
    "# Para obtener resultados, se debe interar sobre map() \n",
    "# o utilizar list()\n",
    "list(map(cuadrado,mis_nums))"
   ]
  },
  {
   "cell_type": "markdown",
   "metadata": {
    "lang": "es"
   },
   "source": [
    "Las funciones pueden ser más complejas."
   ]
  },
  {
   "cell_type": "code",
   "execution_count": null,
   "metadata": {},
   "outputs": [],
   "source": [
    "def separador(mi_string):\n",
    "    if len(mi_string) % 2 == 0:\n",
    "        return 'par'\n",
    "    else:\n",
    "        return mi_string[0]"
   ]
  },
  {
   "cell_type": "code",
   "execution_count": null,
   "metadata": {},
   "outputs": [],
   "source": [
    "mis_nombres = ['Homero','Marge','Lisa','Bart','Maggie']"
   ]
  },
  {
   "cell_type": "code",
   "execution_count": null,
   "metadata": {},
   "outputs": [],
   "source": [
    "list(map(separador, mis_nombres))"
   ]
  },
  {
   "cell_type": "markdown",
   "metadata": {
    "lang": "es"
   },
   "source": [
    "### Función filter\n",
    "\n",
    "La función `filter()` devuelve un iterador que produce los elementos del iterable que la función determina como verdaderos. El retorno de la función debe ser `True` o `False`. La función se pasa al filtro junto con el iterable (una lista por ejemplo) y se obtienen solo los resultados que devolverían True al pasarse a la función por separado."
   ]
  },
  {
   "cell_type": "code",
   "execution_count": null,
   "metadata": {},
   "outputs": [],
   "source": [
    "def reviso_paridad(num):\n",
    "    return num % 2 == 0 "
   ]
  },
  {
   "cell_type": "code",
   "execution_count": null,
   "metadata": {},
   "outputs": [],
   "source": [
    "nums = [0,1,2,3,4,5,6,7,8,9,10]"
   ]
  },
  {
   "cell_type": "code",
   "execution_count": null,
   "metadata": {},
   "outputs": [],
   "source": [
    "filter(reviso_paridad,nums)"
   ]
  },
  {
   "cell_type": "code",
   "execution_count": null,
   "metadata": {},
   "outputs": [],
   "source": [
    "list(filter(reviso_paridad,nums))"
   ]
  },
  {
   "cell_type": "markdown",
   "metadata": {
    "lang": "es"
   },
   "source": [
    "### Expresión lambda\n",
    "\n",
    "Una de las herramientas más útiles de Python (y generalmente confusa para principiantes) es la expresión lambda. Las expresiones lambda permiten crear funciones \"anónimas\". Esto básicamente significa que se pueden crear rápidamente funciones ad-hoc sin necesidad de definir adecuadamente la función por medio de `def`.\n",
    "\n",
    "Los objetos de función devueltos al ejecutar expresiones lambda funcionan exactamente igual que los creados y asignados por `def`. Hay una diferencia clave que hace que lambda sea útil en situaciones particulares.\n",
    "\n",
    "**El cuerpo de función lambda es una sola expresión, no un bloque de declaraciones.**\n",
    "\n",
    "* El cuerpo de una lambda es similar a lo que pondríamos en el cuerpo de una declaración `def` con una declaración `return` al final. Simplemente se escribe el resultado como una expresión en lugar de devolverlo explícitamente. Como está limitada a una expresión, una función lambda es menos general que una `def`. Las expresiones lambda estan diseñadas para codificar funciones simples, y `def` maneja las tareas más grandes."
   ]
  },
  {
   "cell_type": "markdown",
   "metadata": {
    "lang": "es"
   },
   "source": [
    "A continuación se llama una función a su expresión lambda equivalente."
   ]
  },
  {
   "cell_type": "code",
   "execution_count": null,
   "metadata": {},
   "outputs": [],
   "source": [
    "def cuadrado(num):\n",
    "    resultado = num**2\n",
    "    return resultado"
   ]
  },
  {
   "cell_type": "code",
   "execution_count": null,
   "metadata": {},
   "outputs": [],
   "source": [
    "cuadrado(2)"
   ]
  },
  {
   "cell_type": "markdown",
   "metadata": {
    "lang": "es"
   },
   "source": [
    "Simplificando..."
   ]
  },
  {
   "cell_type": "code",
   "execution_count": null,
   "metadata": {},
   "outputs": [],
   "source": [
    "def cuadrado(num):\n",
    "    return num**2"
   ]
  },
  {
   "cell_type": "code",
   "execution_count": null,
   "metadata": {},
   "outputs": [],
   "source": [
    "cuadrado(2)"
   ]
  },
  {
   "cell_type": "markdown",
   "metadata": {
    "lang": "es"
   },
   "source": [
    "Llevandolo a una sola línea..."
   ]
  },
  {
   "cell_type": "code",
   "execution_count": null,
   "metadata": {},
   "outputs": [],
   "source": [
    "def cuadrado(num): return num**2"
   ]
  },
  {
   "cell_type": "code",
   "execution_count": null,
   "metadata": {},
   "outputs": [],
   "source": [
    "cuadrado(2)"
   ]
  },
  {
   "cell_type": "markdown",
   "metadata": {
    "lang": "es"
   },
   "source": [
    "Esta es la forma de función que una expresión lambda intenta replicar. La expresión lambda asociada se escribe:"
   ]
  },
  {
   "cell_type": "code",
   "execution_count": null,
   "metadata": {},
   "outputs": [],
   "source": [
    "lambda num: num ** 2 # argumento: expresión"
   ]
  },
  {
   "cell_type": "code",
   "execution_count": null,
   "metadata": {},
   "outputs": [],
   "source": [
    "# En general no se le asignan nombres a funciones lambda, este ejemplo es ilustrativo\n",
    "cuadrado = lambda num: num **2"
   ]
  },
  {
   "cell_type": "code",
   "execution_count": null,
   "metadata": {},
   "outputs": [],
   "source": [
    "cuadrado(2)"
   ]
  },
  {
   "cell_type": "markdown",
   "metadata": {
    "lang": "es"
   },
   "source": [
    "Entonces, ¿por qué utilizar esto? Muchas llamadas a funciones necesitan a su vez pasar otra función como argumento, como es el caso de `map` y `filter`. A menudo solo se requiere utilizar la función a pasar una sola vez, por lo que en lugar de definirla formalmente, es más práctico usar una expresión lambda.\n",
    "\n",
    "Los ejemplos anteriores en su forma lambda son:"
   ]
  },
  {
   "cell_type": "code",
   "execution_count": null,
   "metadata": {},
   "outputs": [],
   "source": [
    "list(map(lambda num: num ** 2, mis_nums))"
   ]
  },
  {
   "cell_type": "code",
   "execution_count": null,
   "metadata": {},
   "outputs": [],
   "source": [
    "list(filter(lambda n: n % 2 == 0,nums))"
   ]
  },
  {
   "cell_type": "markdown",
   "metadata": {
    "lang": "es"
   },
   "source": [
    "Mientras más completa sea una función, más difícil será traducirla a una expresión lambda, lo que significa que a veces es más fácil (y a menudo la única forma) crear la función mediante `def`.\n",
    "\n",
    "Esposible ingresar varios argumentos a una expresión lambda, siguiendo la sintaxis\n",
    "\n",
    "`lambda arg1,arg2,... : expresión `\n",
    "\n",
    "Otra vez se aclara, NO TODAS LAS FUNCIONES PUEDEN LLEVARSE A UNA EXPRESIÓN LAMBDA.\n",
    "\n",
    "Muchas bibliotecas no integradas, por ejemplo, la biblioteca pandas para el análisis de datos funciona muy bien con expresiones lambda."
   ]
  }
 ],
 "metadata": {
  "kernelspec": {
   "display_name": "Python 3",
   "language": "python",
   "name": "python3"
  },
  "language_info": {
   "codemirror_mode": {
    "name": "ipython",
    "version": 3
   },
   "file_extension": ".py",
   "mimetype": "text/x-python",
   "name": "python",
   "nbconvert_exporter": "python",
   "pygments_lexer": "ipython3",
   "version": "3.7.6"
  },
  "latex_envs": {
   "LaTeX_envs_menu_present": true,
   "autoclose": false,
   "autocomplete": true,
   "bibliofile": "biblio.bib",
   "cite_by": "apalike",
   "current_citInitial": 1,
   "eqLabelWithNumbers": true,
   "eqNumInitial": 1,
   "hotkeys": {
    "equation": "Ctrl-E",
    "itemize": "Ctrl-I"
   },
   "labels_anchors": false,
   "latex_user_defs": false,
   "report_style_numbering": false,
   "user_envs_cfg": false
  },
  "nbTranslate": {
   "displayLangs": [
    "es"
   ],
   "hotkey": "alt-t",
   "langInMainMenu": true,
   "sourceLang": "en",
   "targetLang": "es",
   "useGoogleTranslate": true
  }
 },
 "nbformat": 4,
 "nbformat_minor": 2
}
