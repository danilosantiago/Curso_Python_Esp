{
 "cells": [
  {
   "cell_type": "markdown",
   "metadata": {},
   "source": [
    "<img src=\"images\\crisil_logo.png\" align=\"right\" border=\"0\"><br>\n",
    "\n",
    "\n",
    "# Capacitación en Python 01 - Números y strings\n",
    "     \n",
    "En el siguiente cuaderno se presenta una introducción a números y strings en Python. Varios temas son presentados de manera superficial, por lo que se provee material suplementario opcional en un cuaderno aparte. Lea atentamente el cuaderno y corra el código en cada celda para visualizar su salida."
   ]
  },
  {
   "cell_type": "markdown",
   "metadata": {},
   "source": [
    "---\n",
    "## Breve discusión sobre variables y comentarios\n",
    "\n",
    "Una variable se considera como un símbolo que puede ser reemplazado o que toma un valor determinado, como puede ser un valor numérico en una ecuación o expresión matemática en general.\n",
    "\n",
    "Las variables se utiliza para guardar datos de diferentes tipos, por ejemplo:\n",
    "enteros, caracteres, listas, arrays, diccionarios, objetos, etc. Todos estos términos seguramente son desconocidos a esta altura, y se hablará de ellos en el transcurso de la capacitación.\n",
    "\n",
    "En Python es común agregar en el código comentarios, éstos se escriben en una línea anteponiendo el símbolo de numeral “#”. El intérprete del lenguaje, el programa que analiza y ejecuta el código, ignora estas líneas."
   ]
  },
  {
   "cell_type": "code",
   "execution_count": null,
   "metadata": {},
   "outputs": [],
   "source": [
    "# Esto es un comentario que no produce ninguna salida o acción,porque el intérprete ignora la línea"
   ]
  },
  {
   "cell_type": "markdown",
   "metadata": {},
   "source": [
    "---\n",
    "##  Números y asignación de variables\n",
    "\n",
    "En esta sección se tratarán los siguientes temas:\n",
    "\n",
    "    1.) Tipos de números\n",
    "    2.) Aritmética básica\n",
    "    3.) Asignación y tipos de variables"
   ]
  },
  {
   "cell_type": "markdown",
   "metadata": {},
   "source": [
    "### Tipos de números\n",
    "\n",
    "Python tiene varios \"tipos\" de números (literales numéricos). Nos centraremos principalmente en números enteros y  de punto flotante.\n",
    "\n",
    "Los enteros son solo números enteros, positivos o negativos. Por ejemplo: 2 y -2 son ejemplos de enteros.\n",
    "\n",
    "Los números de punto flotante en Python son notables porque tienen un punto decimal, o usan un exponencial para definir el número. Por ejemplo 2.0 y -2.1 son ejemplos de números de punto flotante. 4E2 (4 veces 10 a la potencia de 2) también es un ejemplo de un número de punto flotante en Python.\n"
   ]
  },
  {
   "cell_type": "markdown",
   "metadata": {},
   "source": [
    "<table>\n",
    "<tr>\n",
    "    <th>Ejemplos</th> \n",
    "    <th>\"Tipo\" de número</th>\n",
    "</tr>\n",
    "\n",
    "<tr>\n",
    "    <td>1,2,-5,1000</td>\n",
    "    <td>Enteros</td> \n",
    "</tr>\n",
    "\n",
    "<tr>\n",
    "    <td>1.2,-0.5,2e2,3E2</td> \n",
    "    <td>Números de punto flotante</td> \n",
    "</tr>\n",
    " </table>"
   ]
  },
  {
   "cell_type": "markdown",
   "metadata": {},
   "source": [
    "### Aritmética básica"
   ]
  },
  {
   "cell_type": "code",
   "execution_count": null,
   "metadata": {},
   "outputs": [],
   "source": [
    "# Adición\n",
    "2+1"
   ]
  },
  {
   "cell_type": "code",
   "execution_count": null,
   "metadata": {},
   "outputs": [],
   "source": [
    "# Sustracción\n",
    "2-1"
   ]
  },
  {
   "cell_type": "code",
   "execution_count": null,
   "metadata": {},
   "outputs": [],
   "source": [
    "# Multiplicación\n",
    "2*2"
   ]
  },
  {
   "cell_type": "code",
   "execution_count": null,
   "metadata": {},
   "outputs": [],
   "source": [
    "# División\n",
    "3/2"
   ]
  },
  {
   "cell_type": "code",
   "execution_count": null,
   "metadata": {},
   "outputs": [],
   "source": [
    "# División de piso\n",
    "7//4"
   ]
  },
  {
   "cell_type": "markdown",
   "metadata": {},
   "source": [
    "**7 dividido por 4 es igual a 1.75 no a 1!**\n",
    "\n",
    "La razón por la que obtenemos este resultado es porque estamos usando la división \"*floor*\" o de piso. El operador // (dos barras diagonales) trunca el decimal sin redondear y devuelve un resultado entero."
   ]
  },
  {
   "cell_type": "markdown",
   "metadata": {},
   "source": [
    "**¿y si queremos obtener el resto de la división?**"
   ]
  },
  {
   "cell_type": "code",
   "execution_count": null,
   "metadata": {},
   "outputs": [],
   "source": [
    "# Operador módulo\n",
    "7%4"
   ]
  },
  {
   "cell_type": "markdown",
   "metadata": {},
   "source": [
    "El operador % devuelve el resto de la división"
   ]
  },
  {
   "cell_type": "code",
   "execution_count": null,
   "metadata": {},
   "outputs": [],
   "source": [
    "# Potencias\n",
    "2**3"
   ]
  },
  {
   "cell_type": "code",
   "execution_count": null,
   "metadata": {},
   "outputs": [],
   "source": [
    "# También se pueden emplear raíces\n",
    "4**0.5"
   ]
  },
  {
   "cell_type": "code",
   "execution_count": null,
   "metadata": {},
   "outputs": [],
   "source": [
    "# Orden de operaciones seguidas en Python\n",
    "2 + 10 * 10 + 3"
   ]
  },
  {
   "cell_type": "code",
   "execution_count": null,
   "metadata": {},
   "outputs": [],
   "source": [
    "# Se usan paréntesis para explicitar el orden\n",
    "(2+10) * (10+3)"
   ]
  },
  {
   "cell_type": "markdown",
   "metadata": {},
   "source": [
    "### Asignación y tipos de variables\n",
    "\n",
    "#### Reglas para nombres de variables\n",
    "* Los nombres no pueden empezar con un número\n",
    "* Los nombres no pueden contener espacios, utilizar guion bajo ( _ ) en su lugar\n",
    "* Los nombres no pueden contener ninguno de los siguientes símbolos:\n",
    "\n",
    "      :'\",<>/?|\\!@#%^&*~-+\n",
    "       \n",
    "* Se considera buena práctica ([PEP8](https://www.python.org/dev/peps/pep-0008/#function-and-variable-names)) que los nombres de variables se escriban en minúscula y con guión bajo\n",
    "* Evitar utilizar palabras que tengan un significado especial e Python, como `list` y `str`\n",
    "* Evitar utilizar las letras individuales `l` (letra ele minúscula), `O` (letra o mayúscula) e `I` (letra i mayúscula) ya que pueden confundirse con los números `1` and `0`"
   ]
  },
  {
   "cell_type": "markdown",
   "metadata": {},
   "source": [
    "#### Dynamic typing\n",
    "\n",
    "Python utiliza *dynamic typing*, lo que significa que puede reasignar variables a diferentes tipos de datos. Esto hace que Python sea muy flexible al asignar tipos de datos; difiere de otros idiomas que utilizan *static typing*."
   ]
  },
  {
   "cell_type": "code",
   "execution_count": null,
   "metadata": {},
   "outputs": [],
   "source": [
    "mis_perros = 2"
   ]
  },
  {
   "cell_type": "code",
   "execution_count": null,
   "metadata": {},
   "outputs": [],
   "source": [
    "mis_perros"
   ]
  },
  {
   "cell_type": "code",
   "execution_count": null,
   "metadata": {},
   "outputs": [],
   "source": [
    "mis_perros = ['Firulais', 'Coco']"
   ]
  },
  {
   "cell_type": "code",
   "execution_count": null,
   "metadata": {},
   "outputs": [],
   "source": [
    "mis_perros"
   ]
  },
  {
   "cell_type": "markdown",
   "metadata": {},
   "source": [
    "#### Pros y contras de Dynamic Typing\n",
    "###### Pros de Dynamic Typing\n",
    "* muy fácil de trabajar\n",
    "* desarrollo más rápido\n",
    "\n",
    "###### Contras de Dynamic Typing\n",
    "* puede resultar en bugs inesperados!\n",
    "* hay que estar atento a `type()` (esto se ve más adelante)"
   ]
  },
  {
   "cell_type": "markdown",
   "metadata": {},
   "source": [
    "#### Asignando variables\n",
    "\n",
    "La asignación de variables sigue `nombre = objeto`, donde un sólo signo igual `=` es un *operador de asignación*."
   ]
  },
  {
   "cell_type": "code",
   "execution_count": null,
   "metadata": {},
   "outputs": [],
   "source": [
    "a = 5"
   ]
  },
  {
   "cell_type": "code",
   "execution_count": null,
   "metadata": {},
   "outputs": [],
   "source": [
    "a"
   ]
  },
  {
   "cell_type": "markdown",
   "metadata": {},
   "source": [
    "Aquí le asignamos el objeto entero `5` a la variable `a`.<br>Asignemos `a` a otra cosa:"
   ]
  },
  {
   "cell_type": "code",
   "execution_count": null,
   "metadata": {},
   "outputs": [],
   "source": [
    "a = 10"
   ]
  },
  {
   "cell_type": "code",
   "execution_count": null,
   "metadata": {},
   "outputs": [],
   "source": [
    "a"
   ]
  },
  {
   "cell_type": "markdown",
   "metadata": {},
   "source": [
    "Ahora se utiliza `a` en lugar del número `10`:"
   ]
  },
  {
   "cell_type": "code",
   "execution_count": null,
   "metadata": {},
   "outputs": [],
   "source": [
    "a + a"
   ]
  },
  {
   "cell_type": "markdown",
   "metadata": {},
   "source": [
    "#### Reasignación de variables\n",
    "Python permite reasignar variables con una referencia al mismo objeto."
   ]
  },
  {
   "cell_type": "code",
   "execution_count": null,
   "metadata": {},
   "outputs": [],
   "source": [
    "a = a + 10"
   ]
  },
  {
   "cell_type": "code",
   "execution_count": null,
   "metadata": {},
   "outputs": [],
   "source": [
    "a"
   ]
  },
  {
   "cell_type": "markdown",
   "metadata": {},
   "source": [
    "Existe un atajo para esto. Pytho permite la adición, sustracción, multiplicación y división de números con reasignación utilizando `+=`, `-=`, `*=`, y `/=`."
   ]
  },
  {
   "cell_type": "code",
   "execution_count": null,
   "metadata": {},
   "outputs": [],
   "source": [
    "a += 10"
   ]
  },
  {
   "cell_type": "code",
   "execution_count": null,
   "metadata": {},
   "outputs": [],
   "source": [
    "a"
   ]
  },
  {
   "cell_type": "code",
   "execution_count": null,
   "metadata": {},
   "outputs": [],
   "source": [
    "a *= 2"
   ]
  },
  {
   "cell_type": "code",
   "execution_count": null,
   "metadata": {},
   "outputs": [],
   "source": [
    "a"
   ]
  },
  {
   "cell_type": "markdown",
   "metadata": {},
   "source": [
    "#### Determinando el tipo de variable con `type()`\n",
    "Para revisar que tipo de objeto se encuentra asignado a una variable, se utiliza la función de python predefinida `type()`. Los tipos de datos más comunes son:\n",
    "* **int** (para enteros)\n",
    "* **float** (para números de punto flotante o \"floats\")\n",
    "* **str** (para cadena de caracteres o \"strings\")\n",
    "* **list** (para listas)\n",
    "* **tuple** (para tuplas)\n",
    "* **dict** (para diccionarios)\n",
    "* **set** (para conjuntos)\n",
    "* **bool** (para datos lógicos o \"booleans\" True/False)"
   ]
  },
  {
   "cell_type": "code",
   "execution_count": null,
   "metadata": {},
   "outputs": [],
   "source": [
    "type(a)"
   ]
  },
  {
   "cell_type": "code",
   "execution_count": null,
   "metadata": {},
   "outputs": [],
   "source": [
    "a = (1,2)"
   ]
  },
  {
   "cell_type": "code",
   "execution_count": null,
   "metadata": {},
   "outputs": [],
   "source": [
    "type(a)"
   ]
  },
  {
   "cell_type": "markdown",
   "metadata": {},
   "source": [
    "#### Ejemplo simple\n",
    "\n",
    "Este ejemplo demuestra como las variable hacen que ciertos cálculos sean más legibles y fáciles de seguir."
   ]
  },
  {
   "cell_type": "code",
   "execution_count": null,
   "metadata": {},
   "outputs": [],
   "source": [
    "mis_ingresos = 100\n",
    "tasa_impuestos = 0.1\n",
    "mis_impuestos = mis_ingresos * tasa_impuestos"
   ]
  },
  {
   "cell_type": "code",
   "execution_count": null,
   "metadata": {},
   "outputs": [],
   "source": [
    "mis_impuestos"
   ]
  },
  {
   "cell_type": "markdown",
   "metadata": {},
   "source": [
    "---\n",
    "## Strings "
   ]
  },
  {
   "cell_type": "markdown",
   "metadata": {},
   "source": [
    "Los strings (cadenas de caracteres) se usan en Python para registrar información de texto, como nombres. Los strings en Python son en realidad una *secuencia*, lo que básicamente significa que Python realiza un seguimiento de cada elemento de la cadena de manera ordenada. Por ejemplo, Python entiende que el string \"hola\" es una secuencia de letras en un orden específico. Esto significa que podemos usar la indexación para capturar letras particulares (como la primera letra o la última letra).\n",
    "\n",
    "En este sección se revisan los siguientes temas:\n",
    "\n",
    "    1.) Creando un string\n",
    "    2.) Impresión y longitud\n",
    "    3.) Indexación y segmentación\n",
    "    4.) Propiedades\n",
    "    5.) Métodos básicos"
   ]
  },
  {
   "cell_type": "markdown",
   "metadata": {},
   "source": [
    "### Creando un string\n",
    "Para crear un string en Python se necesita utilizar comillas simples o dobles. Por ejemplo:"
   ]
  },
  {
   "cell_type": "code",
   "execution_count": null,
   "metadata": {},
   "outputs": [],
   "source": [
    "# Una sola palabra\n",
    "'Hola'"
   ]
  },
  {
   "cell_type": "code",
   "execution_count": null,
   "metadata": {},
   "outputs": [],
   "source": [
    "# Frase entera\n",
    "'Esto es un string'"
   ]
  },
  {
   "cell_type": "code",
   "execution_count": null,
   "metadata": {},
   "outputs": [],
   "source": [
    "# También se pueden utilizar comillas dobles\n",
    "\"String generado por comillas dobles\""
   ]
  },
  {
   "cell_type": "code",
   "execution_count": null,
   "metadata": {},
   "outputs": [],
   "source": [
    "# Hay que tener cuidado con las comillas, es común que haya errores al escribir frases en idiomas que utilizan\n",
    "# mucho la comilla!\n",
    "' I'm using single quotes, but this will create a syntax error'"
   ]
  },
  {
   "cell_type": "markdown",
   "metadata": {},
   "source": [
    "La razón del error anterior es porque la comilla simple en <code>I'm</code> detuvo la cadena. Al utilizar combinaciones de comillas dobles y simples se obtiene la declaración completa."
   ]
  },
  {
   "cell_type": "code",
   "execution_count": null,
   "metadata": {},
   "outputs": [],
   "source": [
    "\"Now I'm ready to use the single quotes inside a string\""
   ]
  },
  {
   "cell_type": "markdown",
   "metadata": {},
   "source": [
    "### Impresión y longitud\n",
    "\n",
    "Al escribir sólo un string en una celda del cuaderno Jupyter, éste se imprimirá automáticamente. No obstante, la forma correcta de mostrar cadenas en salida es mediante el uso de la función de impresión.\n"
   ]
  },
  {
   "cell_type": "code",
   "execution_count": null,
   "metadata": {},
   "outputs": [],
   "source": [
    "# Declarando un string\n",
    "'Hola mundo'"
   ]
  },
  {
   "cell_type": "code",
   "execution_count": null,
   "metadata": {},
   "outputs": [],
   "source": [
    "# No es posible imprimir varias líneas de esta manera\n",
    "'Hola mundo 1'\n",
    "'Hola mundo 2'"
   ]
  },
  {
   "cell_type": "markdown",
   "metadata": {},
   "source": [
    "Lo correcto es utilizar la declaración ```print()``` para imprimir el string en la salida."
   ]
  },
  {
   "cell_type": "code",
   "execution_count": null,
   "metadata": {},
   "outputs": [],
   "source": [
    "print('Hola mundo 1')\n",
    "print('Hola mundo 2')\n",
    "print('Utilizar \\n para imprimir en una línea nueva')\n",
    "print('\\n')\n",
    "print('¿Entienden a que me refiero?')"
   ]
  },
  {
   "cell_type": "markdown",
   "metadata": {},
   "source": [
    "#### Logitud de un string"
   ]
  },
  {
   "cell_type": "markdown",
   "metadata": {
    "lang": "es"
   },
   "source": [
    "La función predeterminada llamada ```len()``` se llama para verificar la longitud de una cadena caracteres."
   ]
  },
  {
   "cell_type": "code",
   "execution_count": null,
   "metadata": {},
   "outputs": [],
   "source": [
    "len('Hola mundo')"
   ]
  },
  {
   "cell_type": "markdown",
   "metadata": {
    "lang": "es"
   },
   "source": [
    "La función incorporada ```len()``` de Python cuenta todos los caracteres de la cadena, incluidos los espacios y la puntuación."
   ]
  },
  {
   "cell_type": "markdown",
   "metadata": {
    "lang": "es"
   },
   "source": [
    "### Indexación y segmentación\n",
    "Sabemos que los strings son una secuencia, lo que significa que Python puede usar índices para llamar a partes de la secuencia.\n",
    "\n",
    "En Python, se utilizan corchetes <code> [] </code> después de un objeto para llamar a su índice. También hay que tener en cuenta que la indexación comienza en 0 para Python. Creemos un nuevo objeto llamado <code>s</code> y luego veamos algunos ejemplos de indexación."
   ]
  },
  {
   "cell_type": "code",
   "execution_count": null,
   "metadata": {},
   "outputs": [],
   "source": [
    "# Asignamos s a un string\n",
    "s = 'Hola mundo'"
   ]
  },
  {
   "cell_type": "code",
   "execution_count": null,
   "metadata": {},
   "outputs": [],
   "source": [
    "#Reviso\n",
    "s"
   ]
  },
  {
   "cell_type": "code",
   "execution_count": null,
   "metadata": {},
   "outputs": [],
   "source": [
    "# Imprimo el objeto\n",
    "print(s) "
   ]
  },
  {
   "cell_type": "code",
   "execution_count": null,
   "metadata": {},
   "outputs": [],
   "source": [
    "# Muestro el primer elemento (en este caso una letra)\n",
    "s[0]"
   ]
  },
  {
   "cell_type": "code",
   "execution_count": null,
   "metadata": {},
   "outputs": [],
   "source": [
    "s[1]"
   ]
  },
  {
   "cell_type": "code",
   "execution_count": null,
   "metadata": {},
   "outputs": [],
   "source": [
    "s[2]"
   ]
  },
  {
   "cell_type": "markdown",
   "metadata": {
    "lang": "es"
   },
   "source": [
    "Se utiliza <code>:</code> para realizar una *segmentación* que toma todo hasta un punto designado. Por ejemplo:"
   ]
  },
  {
   "cell_type": "code",
   "execution_count": null,
   "metadata": {},
   "outputs": [],
   "source": [
    "# Tomo todo despúes del segundo elemento hasta el final de la cadena\n",
    "s[1:]"
   ]
  },
  {
   "cell_type": "code",
   "execution_count": null,
   "metadata": {},
   "outputs": [],
   "source": [
    "# Notesé que no hay cambio en el string original\n",
    "s"
   ]
  },
  {
   "cell_type": "code",
   "execution_count": null,
   "metadata": {},
   "outputs": [],
   "source": [
    "# Tomo todo hasta el 3er elemento\n",
    "s[:3]"
   ]
  },
  {
   "cell_type": "markdown",
   "metadata": {
    "lang": "es"
   },
   "source": [
    "Tenga en cuenta el corte anterior. Aquí le estamos diciendo a Python que tome todo, desde 0 hasta 3 (4to elemento de la secuencia). No incluye el índice 3. Notará esto mucho en Python, donde las declaraciones generalmente están en el contexto de \"hasta, pero sin incluir\"."
   ]
  },
  {
   "cell_type": "code",
   "execution_count": null,
   "metadata": {},
   "outputs": [],
   "source": [
    "#Todo\n",
    "s[:]"
   ]
  },
  {
   "cell_type": "markdown",
   "metadata": {
    "lang": "es"
   },
   "source": [
    "También se puede usar la indexación negativa para ir hacia atrás."
   ]
  },
  {
   "cell_type": "code",
   "execution_count": null,
   "metadata": {},
   "outputs": [],
   "source": [
    "# Última letra (un índice atrás de 0 por lo que da toda la vuelta)\n",
    "s[-1]"
   ]
  },
  {
   "cell_type": "code",
   "execution_count": null,
   "metadata": {},
   "outputs": [],
   "source": [
    "# Tomo todo excepto el último elemento\n",
    "s[:-1]"
   ]
  },
  {
   "cell_type": "markdown",
   "metadata": {
    "lang": "es"
   },
   "source": [
    "Es posible usar la notación de índice y corte para tomar elementos de una secuencia por un tamaño de paso específico (el valor predeterminado es 1). Por ejemplo, se usa dos veces el doble punto y luego se escribe un número que especifica la frecuencia para capturar elementos. Por ejemplo:"
   ]
  },
  {
   "cell_type": "code",
   "execution_count": null,
   "metadata": {},
   "outputs": [],
   "source": [
    "# Tomo todo y avanzo con pasos de tamaño 1\n",
    "s[::1]"
   ]
  },
  {
   "cell_type": "code",
   "execution_count": null,
   "metadata": {},
   "outputs": [],
   "source": [
    "# Tomo todo y avanzo con pasos de tamaño 2\n",
    "s[::2]"
   ]
  },
  {
   "cell_type": "code",
   "execution_count": null,
   "metadata": {},
   "outputs": [],
   "source": [
    "# Ahora en orden inverso\n",
    "s[::-2]"
   ]
  },
  {
   "cell_type": "markdown",
   "metadata": {
    "lang": "es"
   },
   "source": [
    "### Propiedades\n",
    "Es importante tener en cuenta que los strings tienen una propiedad importante conocida como *inmutabilidad*. Esto significa que una vez que se crea una cadena de caracteres, los elementos dentro de ella no se pueden cambiar ni reemplazar. Por ejemplo:"
   ]
  },
  {
   "cell_type": "code",
   "execution_count": null,
   "metadata": {},
   "outputs": [],
   "source": [
    "s"
   ]
  },
  {
   "cell_type": "code",
   "execution_count": null,
   "metadata": {},
   "outputs": [],
   "source": [
    "# Intentemos cambiar la primera letra por la letra 'x'\n",
    "s[0] = 'x'"
   ]
  },
  {
   "cell_type": "markdown",
   "metadata": {
    "lang": "es"
   },
   "source": [
    "Observe cómo el error nos dice directamente que tal asignación no es posible.\n",
    "\n",
    "Algo que si *podemos* hacer es concatenar cadenas"
   ]
  },
  {
   "cell_type": "code",
   "execution_count": null,
   "metadata": {},
   "outputs": [],
   "source": [
    "s"
   ]
  },
  {
   "cell_type": "code",
   "execution_count": null,
   "metadata": {},
   "outputs": [],
   "source": [
    "# Concateno otro string\n",
    "s + ' concatenado'"
   ]
  },
  {
   "cell_type": "code",
   "execution_count": null,
   "metadata": {},
   "outputs": [],
   "source": [
    "# Se puede reasignar completamente\n",
    "s = s + ' concatenado'"
   ]
  },
  {
   "cell_type": "code",
   "execution_count": null,
   "metadata": {},
   "outputs": [],
   "source": [
    "print(s)"
   ]
  },
  {
   "cell_type": "code",
   "execution_count": null,
   "metadata": {},
   "outputs": [],
   "source": [
    "s"
   ]
  },
  {
   "cell_type": "markdown",
   "metadata": {
    "lang": "es"
   },
   "source": [
    "Es posible usar el símbolo de multiplicación para crear repeticiones"
   ]
  },
  {
   "cell_type": "code",
   "execution_count": null,
   "metadata": {},
   "outputs": [],
   "source": [
    "letter = 'z'"
   ]
  },
  {
   "cell_type": "code",
   "execution_count": null,
   "metadata": {},
   "outputs": [],
   "source": [
    "letter*10"
   ]
  },
  {
   "cell_type": "markdown",
   "metadata": {
    "lang": "es"
   },
   "source": [
    "### Métodos básicos\n",
    "\n",
    "Los objetos en Python generalmente tienen métodos incorporados. Estos métodos son funciones dentro del objeto (se discutirá sobre esto más adelante) que pueden realizar acciones o comandos en el objeto mismo.\n",
    "\n",
    "Los métodos se llaman con un punto y luego el nombre del método. Los métodos se presentan en la forma:\n",
    "\n",
    "objeto.método(parámetros)\n",
    "\n",
    "Donde los parámetros son argumentos adicionales que podemos pasarle al método. No se preocupen si estos detalles no tienen sentido en este momento. Más adelante se revisaran estos temas.\n",
    "\n",
    "Estos son algunos ejemplos de métodos integrados en strings:"
   ]
  },
  {
   "cell_type": "code",
   "execution_count": null,
   "metadata": {},
   "outputs": [],
   "source": [
    "s"
   ]
  },
  {
   "cell_type": "code",
   "execution_count": null,
   "metadata": {},
   "outputs": [],
   "source": [
    "# Devuelve copia del string en mayúscula\n",
    "s.upper()"
   ]
  },
  {
   "cell_type": "code",
   "execution_count": null,
   "metadata": {},
   "outputs": [],
   "source": [
    "# Devuelve copia del string en minúscula\n",
    "s.lower()"
   ]
  },
  {
   "cell_type": "code",
   "execution_count": null,
   "metadata": {},
   "outputs": [],
   "source": [
    "# Divide el string por espacios ( esto es por defecto, pueden utilizarse otros separadores)\n",
    "s.split()"
   ]
  },
  {
   "cell_type": "code",
   "execution_count": null,
   "metadata": {},
   "outputs": [],
   "source": [
    "# Dividir por elemento específico\n",
    "s.split('m')"
   ]
  }
 ],
 "metadata": {
  "kernelspec": {
   "display_name": "Python 3",
   "language": "python",
   "name": "python3"
  },
  "language_info": {
   "codemirror_mode": {
    "name": "ipython",
    "version": 3
   },
   "file_extension": ".py",
   "mimetype": "text/x-python",
   "name": "python",
   "nbconvert_exporter": "python",
   "pygments_lexer": "ipython3",
   "version": "3.7.6"
  },
  "latex_envs": {
   "LaTeX_envs_menu_present": true,
   "autoclose": false,
   "autocomplete": true,
   "bibliofile": "biblio.bib",
   "cite_by": "apalike",
   "current_citInitial": 1,
   "eqLabelWithNumbers": true,
   "eqNumInitial": 1,
   "hotkeys": {
    "equation": "Ctrl-E",
    "itemize": "Ctrl-I"
   },
   "labels_anchors": false,
   "latex_user_defs": false,
   "report_style_numbering": false,
   "user_envs_cfg": false
  },
  "nbTranslate": {
   "displayLangs": [
    "es"
   ],
   "hotkey": "alt-t",
   "langInMainMenu": true,
   "sourceLang": "en",
   "targetLang": "es",
   "useGoogleTranslate": true
  }
 },
 "nbformat": 4,
 "nbformat_minor": 2
}
